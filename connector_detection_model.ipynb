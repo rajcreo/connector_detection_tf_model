{
 "cells": [
  {
   "cell_type": "code",
   "execution_count": 18,
   "id": "295603e7",
   "metadata": {},
   "outputs": [],
   "source": [
    "import os"
   ]
  },
  {
   "cell_type": "markdown",
   "id": "235da4ff",
   "metadata": {},
   "source": [
    "# Setup Paths"
   ]
  },
  {
   "cell_type": "code",
   "execution_count": 19,
   "id": "07296d02",
   "metadata": {},
   "outputs": [],
   "source": [
    "CUSTOM_MODEL_NAME = 'my_efficientdet_d2'\n",
    "PRETRAINED_MODEL_NAME = 'efficientdet_d2_coco17_tpu-32'\n",
    "PRETRAINED_MODEL_URL = 'http://download.tensorflow.org/models/object_detection/tf2/20200711/efficientdet_d2_coco17_tpu-32.tar.gz'\n",
    "TF_RECORD_SCRIPT_NAME = 'generate_tfrecord.py'\n",
    "LABEL_MAP_NAME = 'label_map.pbtxt'"
   ]
  },
  {
   "cell_type": "code",
   "execution_count": 20,
   "id": "18cb6835",
   "metadata": {},
   "outputs": [],
   "source": [
    "os.chdir(\"/Users/riturajsharma/Desktop/placement_job/fabrik/Connector_Detection_App/connector_detection_model\")"
   ]
  },
  {
   "cell_type": "code",
   "execution_count": 21,
   "id": "4df95005",
   "metadata": {},
   "outputs": [],
   "source": [
    "paths = {\n",
    "    'WORKSPACE_PATH': os.path.join('Tensorflow', 'workspace'),\n",
    "    'SCRIPTS_PATH': os.path.join('Tensorflow','scripts'),\n",
    "    'APIMODEL_PATH': os.path.join('Tensorflow','models'),\n",
    "    'ANNOTATION_PATH': os.path.join('Tensorflow', 'workspace','annotations'),\n",
    "    'IMAGE_PATH': os.path.join('Tensorflow', 'workspace','images'),\n",
    "    'MODEL_PATH': os.path.join('Tensorflow', 'workspace','models'),\n",
    "    'PRETRAINED_MODEL_PATH': os.path.join('Tensorflow', 'workspace','pre-trained-models'),\n",
    "    'CHECKPOINT_PATH': os.path.join('Tensorflow', 'workspace','models',CUSTOM_MODEL_NAME), \n",
    "    'OUTPUT_PATH': os.path.join('Tensorflow', 'workspace','models',CUSTOM_MODEL_NAME, 'export'), \n",
    "    'TFJS_PATH':os.path.join('Tensorflow', 'workspace','models',CUSTOM_MODEL_NAME, 'tfjsexport'), \n",
    "    'TFLITE_PATH':os.path.join('Tensorflow', 'workspace','models',CUSTOM_MODEL_NAME, 'tfliteexport'), \n",
    "    'PROTOC_PATH':os.path.join('Tensorflow','protoc')\n",
    " }"
   ]
  },
  {
   "cell_type": "code",
   "execution_count": 22,
   "id": "d6f9d9aa",
   "metadata": {},
   "outputs": [],
   "source": [
    "files = {\n",
    "    'PIPELINE_CONFIG':os.path.join('Tensorflow', 'workspace','models', CUSTOM_MODEL_NAME, 'pipeline.config'),\n",
    "    'TF_RECORD_SCRIPT': os.path.join(paths['SCRIPTS_PATH'], TF_RECORD_SCRIPT_NAME), \n",
    "    'LABELMAP': os.path.join(paths['ANNOTATION_PATH'], LABEL_MAP_NAME)\n",
    "}"
   ]
  },
  {
   "cell_type": "code",
   "execution_count": 23,
   "id": "0c46f2eb",
   "metadata": {},
   "outputs": [],
   "source": [
    "for path in paths.values():\n",
    "    if not os.path.exists(path):\n",
    "        if os.name == 'posix':\n",
    "            !mkdir -p {path}\n",
    "        if os.name == 'nt':\n",
    "            !mkdir {path}"
   ]
  },
  {
   "cell_type": "markdown",
   "id": "d131a689",
   "metadata": {},
   "source": [
    "# Download TF pretrained models from Tensorflow Model Zoo and install Tensorflow Object Detection Model"
   ]
  },
  {
   "cell_type": "code",
   "execution_count": 24,
   "id": "0e9c3152",
   "metadata": {},
   "outputs": [],
   "source": [
    "# !pip install wget\n",
    "import wget"
   ]
  },
  {
   "cell_type": "code",
   "execution_count": 25,
   "id": "5d248a18",
   "metadata": {},
   "outputs": [],
   "source": [
    "# download tensorflow object detection API\n",
    "if not os.path.exists(os.path.join(paths['APIMODEL_PATH'], 'research', 'object_detection')):\n",
    "    !git clone https://github.com/tensorflow/models {paths['APIMODEL_PATH']}"
   ]
  },
  {
   "cell_type": "code",
   "execution_count": 9,
   "id": "f27fa516",
   "metadata": {},
   "outputs": [
    {
     "name": "stdout",
     "output_type": "stream",
     "text": [
      "Processing /Users/riturajsharma/Desktop/placement_job/fabrik/Connector_Detection_App/connector_detection_model/Tensorflow/models/research\n",
      "  Preparing metadata (setup.py) ... \u001b[?25ldone\n",
      "\u001b[?25hCollecting avro-python3\n",
      "  Using cached avro_python3-1.10.2-py3-none-any.whl\n",
      "Collecting apache-beam\n",
      "  Using cached apache_beam-2.35.0-cp37-cp37m-macosx_10_9_x86_64.whl (4.3 MB)\n",
      "Collecting pillow\n",
      "  Downloading Pillow-9.0.1-cp37-cp37m-macosx_10_10_x86_64.whl (3.0 MB)\n",
      "\u001b[2K     \u001b[38;2;114;156;31m━━━━━━━━━━━━━━━━━━━━━━━━━━━━━━━━━━━━━━━━\u001b[0m \u001b[32m3.0/3.0 MB\u001b[0m \u001b[31m4.4 MB/s\u001b[0m eta \u001b[36m0:00:00\u001b[0mm eta \u001b[36m0:00:01\u001b[0m[36m0:00:01\u001b[0m\n",
      "\u001b[?25hCollecting lxml\n",
      "  Downloading lxml-4.7.1-cp37-cp37m-macosx_10_14_x86_64.whl (4.5 MB)\n",
      "\u001b[2K     \u001b[38;2;114;156;31m━━━━━━━━━━━━━━━━━━━━━━━━━━━━━━━━━━━━━━━━\u001b[0m \u001b[32m4.5/4.5 MB\u001b[0m \u001b[31m4.9 MB/s\u001b[0m eta \u001b[36m0:00:00\u001b[0mm eta \u001b[36m0:00:01\u001b[0m[36m0:00:01\u001b[0m\n",
      "\u001b[?25hCollecting matplotlib\n",
      "  Downloading matplotlib-3.5.1-cp37-cp37m-macosx_10_9_x86_64.whl (7.3 MB)\n",
      "\u001b[2K     \u001b[38;2;114;156;31m━━━━━━━━━━━━━━━━━━━━━━━━━━━━━━━━━━━━━━━━\u001b[0m \u001b[32m7.3/7.3 MB\u001b[0m \u001b[31m6.8 MB/s\u001b[0m eta \u001b[36m0:00:00\u001b[0mm eta \u001b[36m0:00:01\u001b[0m[36m0:00:01\u001b[0m\n",
      "\u001b[?25hCollecting Cython\n",
      "  Using cached Cython-0.29.27-py2.py3-none-any.whl (983 kB)\n",
      "Collecting contextlib2\n",
      "  Downloading contextlib2-21.6.0-py2.py3-none-any.whl (13 kB)\n",
      "Collecting tf-slim\n",
      "  Using cached tf_slim-1.1.0-py2.py3-none-any.whl (352 kB)\n",
      "Requirement already satisfied: six in /Users/riturajsharma/Desktop/placement_job/fabrik/Connector_Detection_App/connector_detection_model/cdenv/lib/python3.7/site-packages (from object-detection==0.1) (1.16.0)\n",
      "Collecting pycocotools\n",
      "  Using cached pycocotools-2.0.4-cp37-cp37m-macosx_10_9_x86_64.whl\n",
      "Collecting lvis\n",
      "  Using cached lvis-0.5.3-py3-none-any.whl (14 kB)\n",
      "Collecting scipy\n",
      "  Downloading scipy-1.7.3-cp37-cp37m-macosx_10_9_x86_64.whl (33.0 MB)\n",
      "\u001b[2K     \u001b[38;2;114;156;31m━━━━━━━━━━━━━━━━━━━━━━━━━━━━━━━━━━━━━━━━\u001b[0m \u001b[32m33.0/33.0 MB\u001b[0m \u001b[31m5.9 MB/s\u001b[0m eta \u001b[36m0:00:00\u001b[0mm eta \u001b[36m0:00:01\u001b[0m[36m0:00:01\u001b[0m\n",
      "\u001b[?25hCollecting pandas\n",
      "  Downloading pandas-1.3.5-cp37-cp37m-macosx_10_9_x86_64.whl (11.0 MB)\n",
      "\u001b[2K     \u001b[38;2;114;156;31m━━━━━━━━━━━━━━━━━━━━━━━━━━━━━━━━━━━━━━━━\u001b[0m \u001b[32m11.0/11.0 MB\u001b[0m \u001b[31m2.3 MB/s\u001b[0m eta \u001b[36m0:00:00\u001b[0mm eta \u001b[36m0:00:01\u001b[0m[36m0:00:01\u001b[0mm\n",
      "\u001b[?25hCollecting tf-models-official>=2.5.1\n",
      "  Using cached tf_models_official-2.8.0-py2.py3-none-any.whl (2.2 MB)\n",
      "Collecting tensorflow_io\n",
      "  Using cached tensorflow_io-0.24.0-cp37-cp37m-macosx_10_14_x86_64.whl (24.1 MB)\n",
      "Collecting keras\n",
      "  Using cached keras-2.8.0-py2.py3-none-any.whl (1.4 MB)\n",
      "Collecting kaggle>=1.3.9\n",
      "  Using cached kaggle-1.5.12-py3-none-any.whl\n",
      "Collecting py-cpuinfo>=3.3.0\n",
      "  Using cached py_cpuinfo-8.0.0-py3-none-any.whl\n",
      "Collecting tensorflow-hub>=0.6.0\n",
      "  Using cached tensorflow_hub-0.12.0-py2.py3-none-any.whl (108 kB)\n",
      "Collecting opencv-python-headless\n",
      "  Using cached opencv_python_headless-4.5.5.62-cp36-abi3-macosx_10_15_x86_64.whl (46.0 MB)\n",
      "Collecting google-api-python-client>=1.6.7\n",
      "  Using cached google_api_python_client-2.36.0-py2.py3-none-any.whl (8.0 MB)\n",
      "Collecting tensorflow-datasets\n",
      "  Using cached tensorflow_datasets-4.5.2-py3-none-any.whl (4.2 MB)\n",
      "Collecting sacrebleu\n",
      "  Using cached sacrebleu-2.0.0-py3-none-any.whl (90 kB)\n",
      "Collecting numpy>=1.15.4\n",
      "  Downloading numpy-1.21.5-cp37-cp37m-macosx_10_9_x86_64.whl (16.9 MB)\n",
      "\u001b[2K     \u001b[38;2;114;156;31m━━━━━━━━━━━━━━━━━━━━━━━━━━━━━━━━━━━━━━━━\u001b[0m \u001b[32m16.9/16.9 MB\u001b[0m \u001b[31m4.4 MB/s\u001b[0m eta \u001b[36m0:00:00\u001b[0mm eta \u001b[36m0:00:01\u001b[0m0:01\u001b[0m:01\u001b[0m\n",
      "\u001b[?25hCollecting oauth2client\n",
      "  Using cached oauth2client-4.1.3-py2.py3-none-any.whl (98 kB)\n",
      "Collecting pyyaml<6.0,>=5.1\n",
      "  Downloading PyYAML-5.4.1-cp37-cp37m-macosx_10_9_x86_64.whl (249 kB)\n",
      "\u001b[2K     \u001b[38;2;114;156;31m━━━━━━━━━━━━━━━━━━━━━━━━━━━━━━━━━━━━━━━\u001b[0m \u001b[32m249.9/249.9 KB\u001b[0m \u001b[31m2.2 MB/s\u001b[0m eta \u001b[36m0:00:00\u001b[0m[36m0:00:01\u001b[0m[36m0:00:01\u001b[0m\n",
      "\u001b[?25hCollecting tensorflow~=2.8.0\n",
      "  Using cached tensorflow-2.8.0-cp37-cp37m-macosx_10_14_x86_64.whl (217.4 MB)\n",
      "Collecting tensorflow-addons\n",
      "  Using cached tensorflow_addons-0.15.0-cp37-cp37m-macosx_10_13_x86_64.whl (581 kB)\n",
      "Collecting seqeval\n",
      "  Using cached seqeval-1.2.2-py3-none-any.whl\n",
      "Collecting psutil>=5.4.3\n",
      "  Downloading psutil-5.9.0-cp37-cp37m-macosx_10_9_x86_64.whl (238 kB)\n",
      "\u001b[2K     \u001b[38;2;114;156;31m━━━━━━━━━━━━━━━━━━━━━━━━━━━━━━━━━━━━━━━\u001b[0m \u001b[32m238.3/238.3 KB\u001b[0m \u001b[31m2.3 MB/s\u001b[0m eta \u001b[36m0:00:00\u001b[0mm eta \u001b[36m0:00:01\u001b[0m\n",
      "\u001b[?25hCollecting tensorflow-model-optimization>=0.4.1\n",
      "  Using cached tensorflow_model_optimization-0.7.0-py2.py3-none-any.whl (213 kB)\n",
      "Collecting tensorflow-text~=2.8.0\n",
      "  Using cached tensorflow_text-2.8.1-cp37-cp37m-macosx_10_9_x86_64.whl (4.0 MB)\n",
      "Collecting sentencepiece\n",
      "  Using cached sentencepiece-0.1.96-cp37-cp37m-macosx_10_6_x86_64.whl (1.1 MB)\n",
      "Collecting gin-config\n",
      "  Using cached gin_config-0.5.0-py3-none-any.whl (61 kB)\n",
      "Collecting pytz>=2017.3\n",
      "  Downloading pytz-2021.3-py2.py3-none-any.whl (503 kB)\n",
      "\u001b[2K     \u001b[38;2;114;156;31m━━━━━━━━━━━━━━━━━━━━━━━━━━━━━━━━━━━━━━━\u001b[0m \u001b[32m503.5/503.5 KB\u001b[0m \u001b[31m2.0 MB/s\u001b[0m eta \u001b[36m0:00:00\u001b[0mm eta \u001b[36m0:00:01\u001b[0m[36m0:00:01\u001b[0m\n",
      "\u001b[?25hRequirement already satisfied: python-dateutil>=2.7.3 in /Users/riturajsharma/Desktop/placement_job/fabrik/Connector_Detection_App/connector_detection_model/cdenv/lib/python3.7/site-packages (from pandas->object-detection==0.1) (2.8.2)\n",
      "Collecting absl-py>=0.2.2\n",
      "  Using cached absl_py-1.0.0-py3-none-any.whl (126 kB)\n",
      "Collecting pymongo<4.0.0,>=3.8.0\n",
      "  Using cached pymongo-3.12.3-cp37-cp37m-macosx_10_6_intel.whl (429 kB)\n",
      "Collecting fastavro<2,>=0.21.4\n",
      "  Using cached fastavro-1.4.9-cp37-cp37m-macosx_10_14_x86_64.whl (477 kB)\n",
      "Collecting pydot<2,>=1.2.0\n",
      "  Using cached pydot-1.4.2-py2.py3-none-any.whl (21 kB)\n",
      "Collecting typing-extensions<4,>=3.7.0\n",
      "  Downloading typing_extensions-3.10.0.2-py3-none-any.whl (26 kB)\n",
      "Collecting proto-plus<2,>=1.7.1\n",
      "  Using cached proto_plus-1.19.9-py3-none-any.whl (45 kB)\n",
      "Collecting dill<0.3.2,>=0.3.1.1\n",
      "  Using cached dill-0.3.1.1-py3-none-any.whl\n",
      "Collecting hdfs<3.0.0,>=2.1.0\n",
      "  Using cached hdfs-2.6.0-py3-none-any.whl (33 kB)\n",
      "Collecting crcmod<2.0,>=1.7\n",
      "  Using cached crcmod-1.7-cp37-cp37m-macosx_10_9_x86_64.whl\n",
      "Collecting numpy>=1.15.4\n",
      "  Downloading numpy-1.20.3-cp37-cp37m-macosx_10_9_x86_64.whl (16.0 MB)\n",
      "\u001b[2K     \u001b[38;2;114;156;31m━━━━━━━━━━━━━━━━━━━━━━━━━━━━━━━━━━━━━━━━\u001b[0m \u001b[32m16.0/16.0 MB\u001b[0m \u001b[31m5.7 MB/s\u001b[0m eta \u001b[36m0:00:00\u001b[0mm eta \u001b[36m0:00:01\u001b[0m[36m0:00:01\u001b[0m\n",
      "\u001b[?25hCollecting pyarrow<7.0.0,>=0.15.1\n",
      "  Using cached pyarrow-6.0.1-cp37-cp37m-macosx_10_13_x86_64.whl (19.1 MB)\n",
      "Collecting protobuf<4,>=3.12.2\n",
      "  Using cached protobuf-3.19.4-cp37-cp37m-macosx_10_9_x86_64.whl (960 kB)\n",
      "Collecting orjson<4.0\n",
      "  Using cached orjson-3.6.6-cp37-cp37m-macosx_10_9_x86_64.macosx_11_0_arm64.macosx_10_9_universal2.whl (437 kB)\n",
      "Collecting requests<3.0.0,>=2.24.0\n",
      "  Downloading requests-2.27.1-py2.py3-none-any.whl (63 kB)\n",
      "\u001b[2K     \u001b[38;2;114;156;31m━━━━━━━━━━━━━━━━━━━━━━━━━━━━━━━━━━━━━━━\u001b[0m \u001b[32m63.1/63.1 KB\u001b[0m \u001b[31m681.6 kB/s\u001b[0m eta \u001b[36m0:00:00\u001b[0m31m12.7 MB/s\u001b[0m eta \u001b[36m0:00:01\u001b[0m\n",
      "\u001b[?25hCollecting httplib2<0.20.0,>=0.8\n",
      "  Using cached httplib2-0.19.1-py3-none-any.whl (95 kB)\n",
      "Collecting grpcio<2,>=1.29.0\n",
      "  Using cached grpcio-1.43.0-cp37-cp37m-macosx_10_10_x86_64.whl (4.1 MB)\n",
      "Collecting cycler>=0.10.0\n",
      "  Downloading cycler-0.11.0-py3-none-any.whl (6.4 kB)\n",
      "Collecting opencv-python>=4.1.0.25\n",
      "  Using cached opencv_python-4.5.5.62-cp36-abi3-macosx_10_15_x86_64.whl (46.0 MB)\n",
      "Collecting kiwisolver>=1.1.0\n",
      "  Downloading kiwisolver-1.3.2-cp37-cp37m-macosx_10_9_x86_64.whl (61 kB)\n",
      "\u001b[2K     \u001b[38;2;114;156;31m━━━━━━━━━━━━━━━━━━━━━━━━━━━━━━━━━━━━━━━\u001b[0m \u001b[32m61.5/61.5 KB\u001b[0m \u001b[31m779.0 kB/s\u001b[0m eta \u001b[36m0:00:00\u001b[0m eta \u001b[36m0:00:01\u001b[0m\n",
      "\u001b[?25hCollecting pyparsing>=2.4.0\n",
      "  Downloading pyparsing-3.0.7-py3-none-any.whl (98 kB)\n",
      "\u001b[2K     \u001b[38;2;114;156;31m━━━━━━━━━━━━━━━━━━━━━━━━━━━━━━━━━━━━━━━━\u001b[0m \u001b[32m98.0/98.0 KB\u001b[0m \u001b[31m1.4 MB/s\u001b[0m eta \u001b[36m0:00:00\u001b[0m[31m22.7 MB/s\u001b[0m eta \u001b[36m0:00:01\u001b[0m\n",
      "\u001b[?25hCollecting fonttools>=4.22.0\n",
      "  Downloading fonttools-4.29.1-py3-none-any.whl (895 kB)\n",
      "\u001b[2K     \u001b[38;2;114;156;31m━━━━━━━━━━━━━━━━━━━━━━━━━━━━━━━━━━━━━━━\u001b[0m \u001b[32m895.5/895.5 KB\u001b[0m \u001b[31m3.6 MB/s\u001b[0m eta \u001b[36m0:00:00\u001b[0mm eta \u001b[36m0:00:01\u001b[0m[36m0:00:01\u001b[0m\n",
      "\u001b[?25hCollecting packaging>=20.0\n",
      "  Downloading packaging-21.3-py3-none-any.whl (40 kB)\n",
      "\u001b[2K     \u001b[38;2;114;156;31m━━━━━━━━━━━━━━━━━━━━━━━━━━━━━━━━━━━━━━━\u001b[0m \u001b[32m40.8/40.8 KB\u001b[0m \u001b[31m656.4 kB/s\u001b[0m eta \u001b[36m0:00:00\u001b[0mMB/s\u001b[0m eta \u001b[36m0:00:01\u001b[0m\n",
      "\u001b[?25hCollecting tensorflow-io-gcs-filesystem==0.24.0\n",
      "  Using cached tensorflow_io_gcs_filesystem-0.24.0-cp37-cp37m-macosx_10_14_x86_64.whl (1.6 MB)\n",
      "Collecting uritemplate<5,>=3.0.1\n",
      "  Using cached uritemplate-4.1.1-py2.py3-none-any.whl (10 kB)\n",
      "Collecting google-api-core<3.0.0dev,>=1.21.0\n",
      "  Using cached google_api_core-2.5.0-py2.py3-none-any.whl (111 kB)\n",
      "Collecting google-auth<3.0.0dev,>=1.16.0\n",
      "  Using cached google_auth-2.6.0-py2.py3-none-any.whl (156 kB)\n",
      "Collecting google-auth-httplib2>=0.1.0\n",
      "  Using cached google_auth_httplib2-0.1.0-py2.py3-none-any.whl (9.3 kB)\n",
      "Collecting docopt\n",
      "  Using cached docopt-0.6.2-py2.py3-none-any.whl\n",
      "Collecting pyparsing>=2.4.0\n",
      "  Downloading pyparsing-2.4.7-py2.py3-none-any.whl (67 kB)\n",
      "\u001b[2K     \u001b[38;2;114;156;31m━━━━━━━━━━━━━━━━━━━━━━━━━━━━━━━━━━━━━━━\u001b[0m \u001b[32m67.8/67.8 KB\u001b[0m \u001b[31m929.7 kB/s\u001b[0m eta \u001b[36m0:00:00\u001b[0m MB/s\u001b[0m eta \u001b[36m0:00:01\u001b[0m\n",
      "\u001b[?25hCollecting urllib3\n",
      "  Downloading urllib3-1.26.8-py2.py3-none-any.whl (138 kB)\n",
      "\u001b[2K     \u001b[38;2;114;156;31m━━━━━━━━━━━━━━━━━━━━━━━━━━━━━━━━━━━━━━━\u001b[0m \u001b[32m138.7/138.7 KB\u001b[0m \u001b[31m1.9 MB/s\u001b[0m eta \u001b[36m0:00:00\u001b[0m MB/s\u001b[0m eta \u001b[36m0:00:01\u001b[0m\n",
      "\u001b[?25hCollecting certifi\n",
      "  Downloading certifi-2021.10.8-py2.py3-none-any.whl (149 kB)\n",
      "\u001b[2K     \u001b[38;2;114;156;31m━━━━━━━━━━━━━━━━━━━━━━━━━━━━━━━━━━━━━━━\u001b[0m \u001b[32m149.2/149.2 KB\u001b[0m \u001b[31m2.4 MB/s\u001b[0m eta \u001b[36m0:00:00\u001b[0m31m15.1 MB/s\u001b[0m eta \u001b[36m0:00:01\u001b[0m\n",
      "\u001b[?25hCollecting tqdm\n",
      "  Downloading tqdm-4.62.3-py2.py3-none-any.whl (76 kB)\n",
      "\u001b[2K     \u001b[38;2;114;156;31m━━━━━━━━━━━━━━━━━━━━━━━━━━━━━━━━━━━━━━━━\u001b[0m \u001b[32m76.2/76.2 KB\u001b[0m \u001b[31m1.4 MB/s\u001b[0m eta \u001b[36m0:00:00\u001b[0m[31m31.4 MB/s\u001b[0m eta \u001b[36m0:00:01\u001b[0m\n",
      "\u001b[?25hCollecting python-slugify\n",
      "  Using cached python_slugify-5.0.2-py2.py3-none-any.whl (6.7 kB)\n",
      "Collecting rsa>=3.1.4\n",
      "  Using cached rsa-4.8-py3-none-any.whl (39 kB)\n",
      "Collecting pyasn1-modules>=0.0.5\n",
      "  Using cached pyasn1_modules-0.2.8-py2.py3-none-any.whl (155 kB)\n",
      "Collecting pyasn1>=0.1.7\n",
      "  Using cached pyasn1-0.4.8-py2.py3-none-any.whl (77 kB)\n",
      "Collecting idna<4,>=2.5\n",
      "  Downloading idna-3.3-py3-none-any.whl (61 kB)\n",
      "\u001b[2K     \u001b[38;2;114;156;31m━━━━━━━━━━━━━━━━━━━━━━━━━━━━━━━━━━━━━━━\u001b[0m \u001b[32m61.2/61.2 KB\u001b[0m \u001b[31m439.9 kB/s\u001b[0m eta \u001b[36m0:00:00\u001b[0m MB/s\u001b[0m eta \u001b[36m0:00:01\u001b[0m\n",
      "\u001b[?25hCollecting charset-normalizer~=2.0.0\n",
      "  Downloading charset_normalizer-2.0.11-py3-none-any.whl (39 kB)\n",
      "Collecting h5py>=2.9.0\n",
      "  Downloading h5py-3.6.0-cp37-cp37m-macosx_10_9_x86_64.whl (3.1 MB)\n",
      "\u001b[2K     \u001b[38;2;114;156;31m━━━━━━━━━━━━━━━━━━━━━━━━━━━━━━━━━━━━━━━━\u001b[0m \u001b[32m3.1/3.1 MB\u001b[0m \u001b[31m5.6 MB/s\u001b[0m eta \u001b[36m0:00:00\u001b[0mm eta \u001b[36m0:00:01\u001b[0m0:01\u001b[0m:01\u001b[0m\n",
      "\u001b[?25hCollecting google-pasta>=0.1.1\n",
      "  Using cached google_pasta-0.2.0-py3-none-any.whl (57 kB)\n",
      "Collecting libclang>=9.0.1\n",
      "  Using cached libclang-13.0.0-py2.py3-none-macosx_10_9_x86_64.whl (13.0 MB)\n",
      "Collecting tensorboard<2.9,>=2.8\n",
      "  Using cached tensorboard-2.8.0-py3-none-any.whl (5.8 MB)\n",
      "Collecting wrapt>=1.11.0\n",
      "  Downloading wrapt-1.13.3-cp37-cp37m-macosx_10_9_x86_64.whl (33 kB)\n",
      "Collecting gast>=0.2.1\n",
      "  Using cached gast-0.5.3-py3-none-any.whl (19 kB)\n",
      "Collecting flatbuffers>=1.12\n",
      "  Using cached flatbuffers-2.0-py2.py3-none-any.whl (26 kB)\n",
      "Collecting astunparse>=1.6.0\n",
      "  Using cached astunparse-1.6.3-py2.py3-none-any.whl (12 kB)\n",
      "Collecting tf-estimator-nightly==2.8.0.dev2021122109\n",
      "  Using cached tf_estimator_nightly-2.8.0.dev2021122109-py2.py3-none-any.whl (462 kB)\n",
      "Requirement already satisfied: setuptools in /Users/riturajsharma/Desktop/placement_job/fabrik/Connector_Detection_App/connector_detection_model/cdenv/lib/python3.7/site-packages (from tensorflow~=2.8.0->tf-models-official>=2.5.1->object-detection==0.1) (47.1.0)\n",
      "Collecting keras-preprocessing>=1.1.1\n",
      "  Using cached Keras_Preprocessing-1.1.2-py2.py3-none-any.whl (42 kB)\n",
      "Collecting termcolor>=1.1.0\n",
      "  Using cached termcolor-1.1.0-py3-none-any.whl\n",
      "Collecting opt-einsum>=2.3.2\n",
      "  Using cached opt_einsum-3.3.0-py3-none-any.whl (65 kB)\n",
      "Collecting dm-tree~=0.1.1\n",
      "  Using cached dm_tree-0.1.6-cp37-cp37m-macosx_10_14_x86_64.whl (94 kB)\n",
      "Collecting regex\n",
      "  Downloading regex-2022.1.18-cp37-cp37m-macosx_10_9_x86_64.whl (289 kB)\n",
      "\u001b[2K     \u001b[38;2;114;156;31m━━━━━━━━━━━━━━━━━━━━━━━━━━━━━━━━━━━━━━━\u001b[0m \u001b[32m289.1/289.1 KB\u001b[0m \u001b[31m2.7 MB/s\u001b[0m eta \u001b[36m0:00:00\u001b[0mm eta \u001b[36m0:00:01\u001b[0m[36m0:00:01\u001b[0m\n",
      "\u001b[?25hCollecting colorama\n",
      "  Downloading colorama-0.4.4-py2.py3-none-any.whl (16 kB)\n",
      "Collecting tabulate>=0.8.9\n",
      "  Using cached tabulate-0.8.9-py3-none-any.whl (25 kB)\n",
      "Collecting portalocker\n",
      "  Using cached portalocker-2.3.2-py2.py3-none-any.whl (15 kB)\n",
      "Collecting scikit-learn>=0.21.3\n",
      "  Downloading scikit_learn-1.0.2-cp37-cp37m-macosx_10_13_x86_64.whl (7.8 MB)\n",
      "\u001b[2K     \u001b[38;2;114;156;31m━━━━━━━━━━━━━━━━━━━━━━━━━━━━━━━━━━━━━━━━\u001b[0m \u001b[32m7.8/7.8 MB\u001b[0m \u001b[31m3.5 MB/s\u001b[0m eta \u001b[36m0:00:00\u001b[0mm eta \u001b[36m0:00:01\u001b[0m[36m0:00:01\u001b[0m\n",
      "\u001b[?25hCollecting typeguard>=2.7\n",
      "  Using cached typeguard-2.13.3-py3-none-any.whl (17 kB)\n",
      "Collecting tensorflow-metadata\n",
      "  Using cached tensorflow_metadata-1.6.0-py3-none-any.whl (48 kB)\n",
      "Collecting promise\n",
      "  Using cached promise-2.3-py3-none-any.whl\n",
      "Collecting importlib-resources\n",
      "  Using cached importlib_resources-5.4.0-py3-none-any.whl (28 kB)\n",
      "Collecting wheel<1.0,>=0.23.0\n",
      "  Using cached wheel-0.37.1-py2.py3-none-any.whl (35 kB)\n",
      "Collecting googleapis-common-protos<2.0dev,>=1.52.0\n",
      "  Using cached googleapis_common_protos-1.54.0-py2.py3-none-any.whl (207 kB)\n",
      "Collecting cachetools<6.0,>=2.0.0\n",
      "  Using cached cachetools-5.0.0-py3-none-any.whl (9.1 kB)\n",
      "Collecting cached-property\n",
      "  Downloading cached_property-1.5.2-py2.py3-none-any.whl (7.6 kB)\n",
      "Collecting joblib>=0.11\n",
      "  Downloading joblib-1.1.0-py2.py3-none-any.whl (306 kB)\n",
      "\u001b[2K     \u001b[38;2;114;156;31m━━━━━━━━━━━━━━━━━━━━━━━━━━━━━━━━━━━━━━━\u001b[0m \u001b[32m307.0/307.0 KB\u001b[0m \u001b[31m1.7 MB/s\u001b[0m eta \u001b[36m0:00:00\u001b[0m[31m2.9 MB/s\u001b[0m eta \u001b[36m0:00:01\u001b[0m\n",
      "\u001b[?25hCollecting threadpoolctl>=2.0.0\n",
      "  Downloading threadpoolctl-3.1.0-py3-none-any.whl (14 kB)\n",
      "Collecting werkzeug>=0.11.15\n",
      "  Downloading Werkzeug-2.0.2-py3-none-any.whl (288 kB)\n",
      "\u001b[2K     \u001b[38;2;114;156;31m━━━━━━━━━━━━━━━━━━━━━━━━━━━━━━━━━━━━━━━\u001b[0m \u001b[32m288.9/288.9 KB\u001b[0m \u001b[31m1.8 MB/s\u001b[0m eta \u001b[36m0:00:00\u001b[0mm eta \u001b[36m0:00:01\u001b[0m0:01\u001b[0m\n",
      "\u001b[?25hCollecting tensorboard-data-server<0.7.0,>=0.6.0\n",
      "  Using cached tensorboard_data_server-0.6.1-py3-none-macosx_10_9_x86_64.whl (3.5 MB)\n",
      "Collecting google-auth-oauthlib<0.5,>=0.4.1\n",
      "  Using cached google_auth_oauthlib-0.4.6-py2.py3-none-any.whl (18 kB)\n",
      "Collecting tensorboard-plugin-wit>=1.6.0\n",
      "  Using cached tensorboard_plugin_wit-1.8.1-py3-none-any.whl (781 kB)\n",
      "Collecting markdown>=2.6.8\n",
      "  Using cached Markdown-3.3.6-py3-none-any.whl (97 kB)\n",
      "Collecting zipp>=3.1.0\n",
      "  Downloading zipp-3.7.0-py3-none-any.whl (5.3 kB)\n",
      "Collecting text-unidecode>=1.3\n",
      "  Using cached text_unidecode-1.3-py2.py3-none-any.whl (78 kB)\n",
      "Collecting requests-oauthlib>=0.7.0\n",
      "  Using cached requests_oauthlib-1.3.1-py2.py3-none-any.whl (23 kB)\n",
      "Collecting importlib-metadata>=4.4\n",
      "  Using cached importlib_metadata-4.10.1-py3-none-any.whl (17 kB)\n",
      "Collecting oauthlib>=3.0.0\n",
      "  Using cached oauthlib-3.2.0-py3-none-any.whl (151 kB)\n",
      "Using legacy 'setup.py install' for object-detection, since package 'wheel' is not installed.\n",
      "Installing collected packages: typing-extensions, tf-estimator-nightly, text-unidecode, termcolor, tensorboard-plugin-wit, tabulate, sentencepiece, regex, pytz, pyasn1, py-cpuinfo, libclang, keras, gin-config, flatbuffers, docopt, crcmod, certifi, cached-property, zipp, wrapt, wheel, werkzeug, urllib3, uritemplate, typeguard, tqdm, threadpoolctl, tensorflow-io-gcs-filesystem, tensorboard-data-server, rsa, pyyaml, python-slugify, pyparsing, pymongo, pyasn1-modules, psutil, protobuf, promise, portalocker, pillow, orjson, oauthlib, numpy, lxml, kiwisolver, joblib, idna, grpcio, google-pasta, gast, fonttools, fastavro, dm-tree, dill, Cython, cycler, contextlib2, colorama, charset-normalizer, cachetools, avro-python3, absl-py, tf-slim, tensorflow-model-optimization, tensorflow_io, tensorflow-hub, tensorflow-addons, scipy, sacrebleu, requests, pydot, pyarrow, proto-plus, pandas, packaging, opt-einsum, opencv-python-headless, opencv-python, keras-preprocessing, importlib-resources, importlib-metadata, httplib2, h5py, googleapis-common-protos, google-auth, astunparse, tensorflow-metadata, scikit-learn, requests-oauthlib, oauth2client, matplotlib, markdown, kaggle, hdfs, google-auth-httplib2, google-api-core, tensorflow-datasets, seqeval, pycocotools, lvis, google-auth-oauthlib, google-api-python-client, apache-beam, tensorboard, tensorflow, tensorflow-text, tf-models-official, object-detection\n"
     ]
    },
    {
     "name": "stdout",
     "output_type": "stream",
     "text": [
      "  Running setup.py install for object-detection ... \u001b[?25ldone\n",
      "\u001b[?25hSuccessfully installed Cython-0.29.27 absl-py-1.0.0 apache-beam-2.35.0 astunparse-1.6.3 avro-python3-1.10.2 cached-property-1.5.2 cachetools-5.0.0 certifi-2021.10.8 charset-normalizer-2.0.11 colorama-0.4.4 contextlib2-21.6.0 crcmod-1.7 cycler-0.11.0 dill-0.3.1.1 dm-tree-0.1.6 docopt-0.6.2 fastavro-1.4.9 flatbuffers-2.0 fonttools-4.29.1 gast-0.5.3 gin-config-0.5.0 google-api-core-2.5.0 google-api-python-client-2.36.0 google-auth-2.6.0 google-auth-httplib2-0.1.0 google-auth-oauthlib-0.4.6 google-pasta-0.2.0 googleapis-common-protos-1.54.0 grpcio-1.43.0 h5py-3.6.0 hdfs-2.6.0 httplib2-0.19.1 idna-3.3 importlib-metadata-4.10.1 importlib-resources-5.4.0 joblib-1.1.0 kaggle-1.5.12 keras-2.8.0 keras-preprocessing-1.1.2 kiwisolver-1.3.2 libclang-13.0.0 lvis-0.5.3 lxml-4.7.1 markdown-3.3.6 matplotlib-3.5.1 numpy-1.20.3 oauth2client-4.1.3 oauthlib-3.2.0 object-detection-0.1 opencv-python-4.5.5.62 opencv-python-headless-4.5.5.62 opt-einsum-3.3.0 orjson-3.6.6 packaging-21.3 pandas-1.3.5 pillow-9.0.1 portalocker-2.3.2 promise-2.3 proto-plus-1.19.9 protobuf-3.19.4 psutil-5.9.0 py-cpuinfo-8.0.0 pyarrow-6.0.1 pyasn1-0.4.8 pyasn1-modules-0.2.8 pycocotools-2.0.4 pydot-1.4.2 pymongo-3.12.3 pyparsing-2.4.7 python-slugify-5.0.2 pytz-2021.3 pyyaml-5.4.1 regex-2022.1.18 requests-2.27.1 requests-oauthlib-1.3.1 rsa-4.8 sacrebleu-2.0.0 scikit-learn-1.0.2 scipy-1.7.3 sentencepiece-0.1.96 seqeval-1.2.2 tabulate-0.8.9 tensorboard-2.8.0 tensorboard-data-server-0.6.1 tensorboard-plugin-wit-1.8.1 tensorflow-2.8.0 tensorflow-addons-0.15.0 tensorflow-datasets-4.5.2 tensorflow-hub-0.12.0 tensorflow-io-gcs-filesystem-0.24.0 tensorflow-metadata-1.6.0 tensorflow-model-optimization-0.7.0 tensorflow-text-2.8.1 tensorflow_io-0.24.0 termcolor-1.1.0 text-unidecode-1.3 tf-estimator-nightly-2.8.0.dev2021122109 tf-models-official-2.8.0 tf-slim-1.1.0 threadpoolctl-3.1.0 tqdm-4.62.3 typeguard-2.13.3 typing-extensions-3.10.0.2 uritemplate-4.1.1 urllib3-1.26.8 werkzeug-2.0.2 wheel-0.37.1 wrapt-1.13.3 zipp-3.7.0\n"
     ]
    }
   ],
   "source": [
    "# install tensorflow object detection API\n",
    "if os.name=='posix':  \n",
    "#     !apt-get install protobuf-compiler\n",
    "    !cd Tensorflow/models/research && protoc object_detection/protos/*.proto --python_out=. && cp object_detection/packages/tf2/setup.py . && python -m pip install . \n",
    "    \n",
    "if os.name=='nt':\n",
    "    url=\"https://github.com/protocolbuffers/protobuf/releases/download/v3.15.6/protoc-3.15.6-win64.zip\"\n",
    "    wget.download(url)\n",
    "    !move protoc-3.15.6-win64.zip {paths['PROTOC_PATH']}\n",
    "    !cd {paths['PROTOC_PATH']} && tar -xf protoc-3.15.6-win64.zip\n",
    "    os.environ['PATH'] += os.pathsep + os.path.abspath(os.path.join(paths['PROTOC_PATH'], 'bin'))   \n",
    "    !cd Tensorflow/models/research && protoc object_detection/protos/*.proto --python_out=. && copy object_detection\\\\packages\\\\tf2\\\\setup.py setup.py && python setup.py build && python setup.py install\n",
    "    !cd Tensorflow/models/research/slim && pip install -e . "
   ]
  },
  {
   "cell_type": "code",
   "execution_count": 15,
   "id": "3f0783fe",
   "metadata": {},
   "outputs": [
    {
     "name": "stdout",
     "output_type": "stream",
     "text": [
      "Running tests under Python 3.7.11: /Users/riturajsharma/Desktop/placement_job/fabrik/Connector_Detection_App/connector_detection_model/cdenv/bin/python\n",
      "[ RUN      ] ModelBuilderTF2Test.test_create_center_net_deepmac\n",
      "2022-02-07 19:21:42.160608: I tensorflow/core/platform/cpu_feature_guard.cc:151] This TensorFlow binary is optimized with oneAPI Deep Neural Network Library (oneDNN) to use the following CPU instructions in performance-critical operations:  AVX2 FMA\n",
      "To enable them in other operations, rebuild TensorFlow with the appropriate compiler flags.\n",
      "/Users/riturajsharma/Desktop/placement_job/fabrik/Connector_Detection_App/connector_detection_model/cdenv/lib/python3.7/site-packages/object_detection/builders/model_builder.py:1100: DeprecationWarning: The 'warn' function is deprecated, use 'warning' instead\n",
      "  logging.warn(('Building experimental DeepMAC meta-arch.'\n",
      "W0207 19:21:42.604528 4379622912 model_builder.py:1100] Building experimental DeepMAC meta-arch. Some features may be omitted.\n",
      "INFO:tensorflow:time(__main__.ModelBuilderTF2Test.test_create_center_net_deepmac): 1.04s\n",
      "I0207 19:21:43.185027 4379622912 test_util.py:2309] time(__main__.ModelBuilderTF2Test.test_create_center_net_deepmac): 1.04s\n",
      "[       OK ] ModelBuilderTF2Test.test_create_center_net_deepmac\n",
      "[ RUN      ] ModelBuilderTF2Test.test_create_center_net_model0 (customize_head_params=True)\n",
      "INFO:tensorflow:time(__main__.ModelBuilderTF2Test.test_create_center_net_model0 (customize_head_params=True)): 1.89s\n",
      "I0207 19:21:45.078946 4379622912 test_util.py:2309] time(__main__.ModelBuilderTF2Test.test_create_center_net_model0 (customize_head_params=True)): 1.89s\n",
      "[       OK ] ModelBuilderTF2Test.test_create_center_net_model0 (customize_head_params=True)\n",
      "[ RUN      ] ModelBuilderTF2Test.test_create_center_net_model1 (customize_head_params=False)\n",
      "INFO:tensorflow:time(__main__.ModelBuilderTF2Test.test_create_center_net_model1 (customize_head_params=False)): 0.55s\n",
      "I0207 19:21:45.629514 4379622912 test_util.py:2309] time(__main__.ModelBuilderTF2Test.test_create_center_net_model1 (customize_head_params=False)): 0.55s\n",
      "[       OK ] ModelBuilderTF2Test.test_create_center_net_model1 (customize_head_params=False)\n",
      "[ RUN      ] ModelBuilderTF2Test.test_create_center_net_model_from_keypoints\n",
      "INFO:tensorflow:time(__main__.ModelBuilderTF2Test.test_create_center_net_model_from_keypoints): 0.41s\n",
      "I0207 19:21:46.035391 4379622912 test_util.py:2309] time(__main__.ModelBuilderTF2Test.test_create_center_net_model_from_keypoints): 0.41s\n",
      "[       OK ] ModelBuilderTF2Test.test_create_center_net_model_from_keypoints\n",
      "[ RUN      ] ModelBuilderTF2Test.test_create_center_net_model_mobilenet\n",
      "INFO:tensorflow:time(__main__.ModelBuilderTF2Test.test_create_center_net_model_mobilenet): 3.01s\n",
      "I0207 19:21:49.044294 4379622912 test_util.py:2309] time(__main__.ModelBuilderTF2Test.test_create_center_net_model_mobilenet): 3.01s\n",
      "[       OK ] ModelBuilderTF2Test.test_create_center_net_model_mobilenet\n",
      "[ RUN      ] ModelBuilderTF2Test.test_create_experimental_model\n",
      "INFO:tensorflow:time(__main__.ModelBuilderTF2Test.test_create_experimental_model): 0.0s\n",
      "I0207 19:21:49.045665 4379622912 test_util.py:2309] time(__main__.ModelBuilderTF2Test.test_create_experimental_model): 0.0s\n",
      "[       OK ] ModelBuilderTF2Test.test_create_experimental_model\n",
      "[ RUN      ] ModelBuilderTF2Test.test_create_faster_rcnn_from_config_with_crop_feature0 (True)\n",
      "INFO:tensorflow:time(__main__.ModelBuilderTF2Test.test_create_faster_rcnn_from_config_with_crop_feature0 (True)): 0.04s\n",
      "I0207 19:21:49.084146 4379622912 test_util.py:2309] time(__main__.ModelBuilderTF2Test.test_create_faster_rcnn_from_config_with_crop_feature0 (True)): 0.04s\n",
      "[       OK ] ModelBuilderTF2Test.test_create_faster_rcnn_from_config_with_crop_feature0 (True)\n",
      "[ RUN      ] ModelBuilderTF2Test.test_create_faster_rcnn_from_config_with_crop_feature1 (False)\n",
      "INFO:tensorflow:time(__main__.ModelBuilderTF2Test.test_create_faster_rcnn_from_config_with_crop_feature1 (False)): 0.03s\n",
      "I0207 19:21:49.110143 4379622912 test_util.py:2309] time(__main__.ModelBuilderTF2Test.test_create_faster_rcnn_from_config_with_crop_feature1 (False)): 0.03s\n",
      "[       OK ] ModelBuilderTF2Test.test_create_faster_rcnn_from_config_with_crop_feature1 (False)\n",
      "[ RUN      ] ModelBuilderTF2Test.test_create_faster_rcnn_model_from_config_with_example_miner\n",
      "INFO:tensorflow:time(__main__.ModelBuilderTF2Test.test_create_faster_rcnn_model_from_config_with_example_miner): 0.03s\n",
      "I0207 19:21:49.144352 4379622912 test_util.py:2309] time(__main__.ModelBuilderTF2Test.test_create_faster_rcnn_model_from_config_with_example_miner): 0.03s\n",
      "[       OK ] ModelBuilderTF2Test.test_create_faster_rcnn_model_from_config_with_example_miner\n",
      "[ RUN      ] ModelBuilderTF2Test.test_create_faster_rcnn_models_from_config_faster_rcnn_with_matmul\n",
      "INFO:tensorflow:time(__main__.ModelBuilderTF2Test.test_create_faster_rcnn_models_from_config_faster_rcnn_with_matmul): 0.19s\n",
      "I0207 19:21:49.333363 4379622912 test_util.py:2309] time(__main__.ModelBuilderTF2Test.test_create_faster_rcnn_models_from_config_faster_rcnn_with_matmul): 0.19s\n",
      "[       OK ] ModelBuilderTF2Test.test_create_faster_rcnn_models_from_config_faster_rcnn_with_matmul\n",
      "[ RUN      ] ModelBuilderTF2Test.test_create_faster_rcnn_models_from_config_faster_rcnn_without_matmul\n",
      "INFO:tensorflow:time(__main__.ModelBuilderTF2Test.test_create_faster_rcnn_models_from_config_faster_rcnn_without_matmul): 0.18s\n",
      "I0207 19:21:49.509529 4379622912 test_util.py:2309] time(__main__.ModelBuilderTF2Test.test_create_faster_rcnn_models_from_config_faster_rcnn_without_matmul): 0.18s\n",
      "[       OK ] ModelBuilderTF2Test.test_create_faster_rcnn_models_from_config_faster_rcnn_without_matmul\n",
      "[ RUN      ] ModelBuilderTF2Test.test_create_faster_rcnn_models_from_config_mask_rcnn_with_matmul\n",
      "INFO:tensorflow:time(__main__.ModelBuilderTF2Test.test_create_faster_rcnn_models_from_config_mask_rcnn_with_matmul): 0.2s\n",
      "I0207 19:21:49.708238 4379622912 test_util.py:2309] time(__main__.ModelBuilderTF2Test.test_create_faster_rcnn_models_from_config_mask_rcnn_with_matmul): 0.2s\n",
      "[       OK ] ModelBuilderTF2Test.test_create_faster_rcnn_models_from_config_mask_rcnn_with_matmul\n",
      "[ RUN      ] ModelBuilderTF2Test.test_create_faster_rcnn_models_from_config_mask_rcnn_without_matmul\n",
      "INFO:tensorflow:time(__main__.ModelBuilderTF2Test.test_create_faster_rcnn_models_from_config_mask_rcnn_without_matmul): 0.18s\n",
      "I0207 19:21:49.894006 4379622912 test_util.py:2309] time(__main__.ModelBuilderTF2Test.test_create_faster_rcnn_models_from_config_mask_rcnn_without_matmul): 0.18s\n",
      "[       OK ] ModelBuilderTF2Test.test_create_faster_rcnn_models_from_config_mask_rcnn_without_matmul\n",
      "[ RUN      ] ModelBuilderTF2Test.test_create_rfcn_model_from_config\n",
      "INFO:tensorflow:time(__main__.ModelBuilderTF2Test.test_create_rfcn_model_from_config): 0.21s\n",
      "I0207 19:21:50.107984 4379622912 test_util.py:2309] time(__main__.ModelBuilderTF2Test.test_create_rfcn_model_from_config): 0.21s\n",
      "[       OK ] ModelBuilderTF2Test.test_create_rfcn_model_from_config\n",
      "[ RUN      ] ModelBuilderTF2Test.test_create_ssd_fpn_model_from_config\n",
      "INFO:tensorflow:time(__main__.ModelBuilderTF2Test.test_create_ssd_fpn_model_from_config): 0.06s\n",
      "I0207 19:21:50.170475 4379622912 test_util.py:2309] time(__main__.ModelBuilderTF2Test.test_create_ssd_fpn_model_from_config): 0.06s\n",
      "[       OK ] ModelBuilderTF2Test.test_create_ssd_fpn_model_from_config\n",
      "[ RUN      ] ModelBuilderTF2Test.test_create_ssd_models_from_config\n",
      "I0207 19:21:50.504523 4379622912 ssd_efficientnet_bifpn_feature_extractor.py:146] EfficientDet EfficientNet backbone version: efficientnet-b0\n",
      "I0207 19:21:50.504786 4379622912 ssd_efficientnet_bifpn_feature_extractor.py:147] EfficientDet BiFPN num filters: 64\n",
      "I0207 19:21:50.504944 4379622912 ssd_efficientnet_bifpn_feature_extractor.py:149] EfficientDet BiFPN num iterations: 3\n",
      "I0207 19:21:50.509019 4379622912 efficientnet_model.py:144] round_filter input=32 output=32\n",
      "I0207 19:21:50.535803 4379622912 efficientnet_model.py:144] round_filter input=32 output=32\n",
      "I0207 19:21:50.535964 4379622912 efficientnet_model.py:144] round_filter input=16 output=16\n",
      "I0207 19:21:50.642580 4379622912 efficientnet_model.py:144] round_filter input=16 output=16\n",
      "I0207 19:21:50.642743 4379622912 efficientnet_model.py:144] round_filter input=24 output=24\n"
     ]
    },
    {
     "name": "stdout",
     "output_type": "stream",
     "text": [
      "I0207 19:21:50.927225 4379622912 efficientnet_model.py:144] round_filter input=24 output=24\n",
      "I0207 19:21:50.927386 4379622912 efficientnet_model.py:144] round_filter input=40 output=40\n",
      "I0207 19:21:51.196613 4379622912 efficientnet_model.py:144] round_filter input=40 output=40\n",
      "I0207 19:21:51.196825 4379622912 efficientnet_model.py:144] round_filter input=80 output=80\n",
      "I0207 19:21:51.622668 4379622912 efficientnet_model.py:144] round_filter input=80 output=80\n",
      "I0207 19:21:51.622906 4379622912 efficientnet_model.py:144] round_filter input=112 output=112\n",
      "I0207 19:21:51.993199 4379622912 efficientnet_model.py:144] round_filter input=112 output=112\n",
      "I0207 19:21:51.993458 4379622912 efficientnet_model.py:144] round_filter input=192 output=192\n",
      "I0207 19:21:52.585410 4379622912 efficientnet_model.py:144] round_filter input=192 output=192\n",
      "I0207 19:21:52.585574 4379622912 efficientnet_model.py:144] round_filter input=320 output=320\n",
      "I0207 19:21:52.727664 4379622912 efficientnet_model.py:144] round_filter input=1280 output=1280\n",
      "I0207 19:21:52.852058 4379622912 efficientnet_model.py:454] Building model efficientnet with params ModelConfig(width_coefficient=1.0, depth_coefficient=1.0, resolution=224, dropout_rate=0.2, blocks=(BlockConfig(input_filters=32, output_filters=16, kernel_size=3, num_repeat=1, expand_ratio=1, strides=(1, 1), se_ratio=0.25, id_skip=True, fused_conv=False, conv_type='depthwise'), BlockConfig(input_filters=16, output_filters=24, kernel_size=3, num_repeat=2, expand_ratio=6, strides=(2, 2), se_ratio=0.25, id_skip=True, fused_conv=False, conv_type='depthwise'), BlockConfig(input_filters=24, output_filters=40, kernel_size=5, num_repeat=2, expand_ratio=6, strides=(2, 2), se_ratio=0.25, id_skip=True, fused_conv=False, conv_type='depthwise'), BlockConfig(input_filters=40, output_filters=80, kernel_size=3, num_repeat=3, expand_ratio=6, strides=(2, 2), se_ratio=0.25, id_skip=True, fused_conv=False, conv_type='depthwise'), BlockConfig(input_filters=80, output_filters=112, kernel_size=5, num_repeat=3, expand_ratio=6, strides=(1, 1), se_ratio=0.25, id_skip=True, fused_conv=False, conv_type='depthwise'), BlockConfig(input_filters=112, output_filters=192, kernel_size=5, num_repeat=4, expand_ratio=6, strides=(2, 2), se_ratio=0.25, id_skip=True, fused_conv=False, conv_type='depthwise'), BlockConfig(input_filters=192, output_filters=320, kernel_size=3, num_repeat=1, expand_ratio=6, strides=(1, 1), se_ratio=0.25, id_skip=True, fused_conv=False, conv_type='depthwise')), stem_base_filters=32, top_base_filters=1280, activation='simple_swish', batch_norm='default', bn_momentum=0.99, bn_epsilon=0.001, weight_decay=5e-06, drop_connect_rate=0.2, depth_divisor=8, min_depth=None, use_se=True, input_channels=3, num_classes=1000, model_name='efficientnet', rescale_input=False, data_format='channels_last', dtype='float32')\n",
      "I0207 19:21:52.958538 4379622912 ssd_efficientnet_bifpn_feature_extractor.py:146] EfficientDet EfficientNet backbone version: efficientnet-b1\n",
      "I0207 19:21:52.958809 4379622912 ssd_efficientnet_bifpn_feature_extractor.py:147] EfficientDet BiFPN num filters: 88\n",
      "I0207 19:21:52.959067 4379622912 ssd_efficientnet_bifpn_feature_extractor.py:149] EfficientDet BiFPN num iterations: 4\n",
      "I0207 19:21:52.962375 4379622912 efficientnet_model.py:144] round_filter input=32 output=32\n",
      "I0207 19:21:52.988821 4379622912 efficientnet_model.py:144] round_filter input=32 output=32\n",
      "I0207 19:21:52.988990 4379622912 efficientnet_model.py:144] round_filter input=16 output=16\n",
      "I0207 19:21:53.225172 4379622912 efficientnet_model.py:144] round_filter input=16 output=16\n",
      "I0207 19:21:53.225409 4379622912 efficientnet_model.py:144] round_filter input=24 output=24\n",
      "I0207 19:21:53.845288 4379622912 efficientnet_model.py:144] round_filter input=24 output=24\n",
      "I0207 19:21:53.845487 4379622912 efficientnet_model.py:144] round_filter input=40 output=40\n",
      "I0207 19:21:54.230981 4379622912 efficientnet_model.py:144] round_filter input=40 output=40\n",
      "I0207 19:21:54.231151 4379622912 efficientnet_model.py:144] round_filter input=80 output=80\n",
      "I0207 19:21:54.712203 4379622912 efficientnet_model.py:144] round_filter input=80 output=80\n",
      "I0207 19:21:54.712374 4379622912 efficientnet_model.py:144] round_filter input=112 output=112\n",
      "I0207 19:21:55.261859 4379622912 efficientnet_model.py:144] round_filter input=112 output=112\n",
      "I0207 19:21:55.262197 4379622912 efficientnet_model.py:144] round_filter input=192 output=192\n",
      "I0207 19:21:55.976633 4379622912 efficientnet_model.py:144] round_filter input=192 output=192\n",
      "I0207 19:21:55.976814 4379622912 efficientnet_model.py:144] round_filter input=320 output=320\n",
      "I0207 19:21:56.322924 4379622912 efficientnet_model.py:144] round_filter input=1280 output=1280\n",
      "I0207 19:21:56.488446 4379622912 efficientnet_model.py:454] Building model efficientnet with params ModelConfig(width_coefficient=1.0, depth_coefficient=1.1, resolution=240, dropout_rate=0.2, blocks=(BlockConfig(input_filters=32, output_filters=16, kernel_size=3, num_repeat=1, expand_ratio=1, strides=(1, 1), se_ratio=0.25, id_skip=True, fused_conv=False, conv_type='depthwise'), BlockConfig(input_filters=16, output_filters=24, kernel_size=3, num_repeat=2, expand_ratio=6, strides=(2, 2), se_ratio=0.25, id_skip=True, fused_conv=False, conv_type='depthwise'), BlockConfig(input_filters=24, output_filters=40, kernel_size=5, num_repeat=2, expand_ratio=6, strides=(2, 2), se_ratio=0.25, id_skip=True, fused_conv=False, conv_type='depthwise'), BlockConfig(input_filters=40, output_filters=80, kernel_size=3, num_repeat=3, expand_ratio=6, strides=(2, 2), se_ratio=0.25, id_skip=True, fused_conv=False, conv_type='depthwise'), BlockConfig(input_filters=80, output_filters=112, kernel_size=5, num_repeat=3, expand_ratio=6, strides=(1, 1), se_ratio=0.25, id_skip=True, fused_conv=False, conv_type='depthwise'), BlockConfig(input_filters=112, output_filters=192, kernel_size=5, num_repeat=4, expand_ratio=6, strides=(2, 2), se_ratio=0.25, id_skip=True, fused_conv=False, conv_type='depthwise'), BlockConfig(input_filters=192, output_filters=320, kernel_size=3, num_repeat=1, expand_ratio=6, strides=(1, 1), se_ratio=0.25, id_skip=True, fused_conv=False, conv_type='depthwise')), stem_base_filters=32, top_base_filters=1280, activation='simple_swish', batch_norm='default', bn_momentum=0.99, bn_epsilon=0.001, weight_decay=5e-06, drop_connect_rate=0.2, depth_divisor=8, min_depth=None, use_se=True, input_channels=3, num_classes=1000, model_name='efficientnet', rescale_input=False, data_format='channels_last', dtype='float32')\n",
      "I0207 19:21:56.628167 4379622912 ssd_efficientnet_bifpn_feature_extractor.py:146] EfficientDet EfficientNet backbone version: efficientnet-b2\n",
      "I0207 19:21:56.628348 4379622912 ssd_efficientnet_bifpn_feature_extractor.py:147] EfficientDet BiFPN num filters: 112\n",
      "I0207 19:21:56.628459 4379622912 ssd_efficientnet_bifpn_feature_extractor.py:149] EfficientDet BiFPN num iterations: 5\n",
      "I0207 19:21:56.630682 4379622912 efficientnet_model.py:144] round_filter input=32 output=32\n",
      "I0207 19:21:56.659033 4379622912 efficientnet_model.py:144] round_filter input=32 output=32\n",
      "I0207 19:21:56.659247 4379622912 efficientnet_model.py:144] round_filter input=16 output=16\n",
      "I0207 19:21:56.918792 4379622912 efficientnet_model.py:144] round_filter input=16 output=16\n",
      "I0207 19:21:56.919067 4379622912 efficientnet_model.py:144] round_filter input=24 output=24\n",
      "I0207 19:21:57.444669 4379622912 efficientnet_model.py:144] round_filter input=24 output=24\n",
      "I0207 19:21:57.444945 4379622912 efficientnet_model.py:144] round_filter input=40 output=48\n",
      "I0207 19:21:58.091204 4379622912 efficientnet_model.py:144] round_filter input=40 output=48\n",
      "I0207 19:21:58.091458 4379622912 efficientnet_model.py:144] round_filter input=80 output=88\n",
      "I0207 19:21:58.901251 4379622912 efficientnet_model.py:144] round_filter input=80 output=88\n",
      "I0207 19:21:58.901670 4379622912 efficientnet_model.py:144] round_filter input=112 output=120\n",
      "I0207 19:21:59.602127 4379622912 efficientnet_model.py:144] round_filter input=112 output=120\n",
      "I0207 19:21:59.602352 4379622912 efficientnet_model.py:144] round_filter input=192 output=208\n",
      "I0207 19:22:00.463254 4379622912 efficientnet_model.py:144] round_filter input=192 output=208\n",
      "I0207 19:22:00.463444 4379622912 efficientnet_model.py:144] round_filter input=320 output=352\n"
     ]
    },
    {
     "name": "stdout",
     "output_type": "stream",
     "text": [
      "I0207 19:22:00.984728 4379622912 efficientnet_model.py:144] round_filter input=1280 output=1408\n",
      "I0207 19:22:01.132375 4379622912 efficientnet_model.py:454] Building model efficientnet with params ModelConfig(width_coefficient=1.1, depth_coefficient=1.2, resolution=260, dropout_rate=0.3, blocks=(BlockConfig(input_filters=32, output_filters=16, kernel_size=3, num_repeat=1, expand_ratio=1, strides=(1, 1), se_ratio=0.25, id_skip=True, fused_conv=False, conv_type='depthwise'), BlockConfig(input_filters=16, output_filters=24, kernel_size=3, num_repeat=2, expand_ratio=6, strides=(2, 2), se_ratio=0.25, id_skip=True, fused_conv=False, conv_type='depthwise'), BlockConfig(input_filters=24, output_filters=40, kernel_size=5, num_repeat=2, expand_ratio=6, strides=(2, 2), se_ratio=0.25, id_skip=True, fused_conv=False, conv_type='depthwise'), BlockConfig(input_filters=40, output_filters=80, kernel_size=3, num_repeat=3, expand_ratio=6, strides=(2, 2), se_ratio=0.25, id_skip=True, fused_conv=False, conv_type='depthwise'), BlockConfig(input_filters=80, output_filters=112, kernel_size=5, num_repeat=3, expand_ratio=6, strides=(1, 1), se_ratio=0.25, id_skip=True, fused_conv=False, conv_type='depthwise'), BlockConfig(input_filters=112, output_filters=192, kernel_size=5, num_repeat=4, expand_ratio=6, strides=(2, 2), se_ratio=0.25, id_skip=True, fused_conv=False, conv_type='depthwise'), BlockConfig(input_filters=192, output_filters=320, kernel_size=3, num_repeat=1, expand_ratio=6, strides=(1, 1), se_ratio=0.25, id_skip=True, fused_conv=False, conv_type='depthwise')), stem_base_filters=32, top_base_filters=1280, activation='simple_swish', batch_norm='default', bn_momentum=0.99, bn_epsilon=0.001, weight_decay=5e-06, drop_connect_rate=0.2, depth_divisor=8, min_depth=None, use_se=True, input_channels=3, num_classes=1000, model_name='efficientnet', rescale_input=False, data_format='channels_last', dtype='float32')\n",
      "I0207 19:22:01.382279 4379622912 ssd_efficientnet_bifpn_feature_extractor.py:146] EfficientDet EfficientNet backbone version: efficientnet-b3\n",
      "I0207 19:22:01.382444 4379622912 ssd_efficientnet_bifpn_feature_extractor.py:147] EfficientDet BiFPN num filters: 160\n",
      "I0207 19:22:01.382529 4379622912 ssd_efficientnet_bifpn_feature_extractor.py:149] EfficientDet BiFPN num iterations: 6\n",
      "I0207 19:22:01.393353 4379622912 efficientnet_model.py:144] round_filter input=32 output=40\n",
      "I0207 19:22:01.439628 4379622912 efficientnet_model.py:144] round_filter input=32 output=40\n",
      "I0207 19:22:01.440015 4379622912 efficientnet_model.py:144] round_filter input=16 output=24\n",
      "I0207 19:22:01.704801 4379622912 efficientnet_model.py:144] round_filter input=16 output=24\n",
      "I0207 19:22:01.705186 4379622912 efficientnet_model.py:144] round_filter input=24 output=32\n",
      "I0207 19:22:02.170288 4379622912 efficientnet_model.py:144] round_filter input=24 output=32\n",
      "I0207 19:22:02.170680 4379622912 efficientnet_model.py:144] round_filter input=40 output=48\n",
      "I0207 19:22:02.728024 4379622912 efficientnet_model.py:144] round_filter input=40 output=48\n",
      "I0207 19:22:02.728209 4379622912 efficientnet_model.py:144] round_filter input=80 output=96\n",
      "I0207 19:22:03.415664 4379622912 efficientnet_model.py:144] round_filter input=80 output=96\n",
      "I0207 19:22:03.415823 4379622912 efficientnet_model.py:144] round_filter input=112 output=136\n",
      "I0207 19:22:04.549594 4379622912 efficientnet_model.py:144] round_filter input=112 output=136\n",
      "I0207 19:22:04.549831 4379622912 efficientnet_model.py:144] round_filter input=192 output=232\n",
      "I0207 19:22:05.755187 4379622912 efficientnet_model.py:144] round_filter input=192 output=232\n",
      "I0207 19:22:05.755447 4379622912 efficientnet_model.py:144] round_filter input=320 output=384\n",
      "I0207 19:22:06.136558 4379622912 efficientnet_model.py:144] round_filter input=1280 output=1536\n",
      "I0207 19:22:06.224526 4379622912 efficientnet_model.py:454] Building model efficientnet with params ModelConfig(width_coefficient=1.2, depth_coefficient=1.4, resolution=300, dropout_rate=0.3, blocks=(BlockConfig(input_filters=32, output_filters=16, kernel_size=3, num_repeat=1, expand_ratio=1, strides=(1, 1), se_ratio=0.25, id_skip=True, fused_conv=False, conv_type='depthwise'), BlockConfig(input_filters=16, output_filters=24, kernel_size=3, num_repeat=2, expand_ratio=6, strides=(2, 2), se_ratio=0.25, id_skip=True, fused_conv=False, conv_type='depthwise'), BlockConfig(input_filters=24, output_filters=40, kernel_size=5, num_repeat=2, expand_ratio=6, strides=(2, 2), se_ratio=0.25, id_skip=True, fused_conv=False, conv_type='depthwise'), BlockConfig(input_filters=40, output_filters=80, kernel_size=3, num_repeat=3, expand_ratio=6, strides=(2, 2), se_ratio=0.25, id_skip=True, fused_conv=False, conv_type='depthwise'), BlockConfig(input_filters=80, output_filters=112, kernel_size=5, num_repeat=3, expand_ratio=6, strides=(1, 1), se_ratio=0.25, id_skip=True, fused_conv=False, conv_type='depthwise'), BlockConfig(input_filters=112, output_filters=192, kernel_size=5, num_repeat=4, expand_ratio=6, strides=(2, 2), se_ratio=0.25, id_skip=True, fused_conv=False, conv_type='depthwise'), BlockConfig(input_filters=192, output_filters=320, kernel_size=3, num_repeat=1, expand_ratio=6, strides=(1, 1), se_ratio=0.25, id_skip=True, fused_conv=False, conv_type='depthwise')), stem_base_filters=32, top_base_filters=1280, activation='simple_swish', batch_norm='default', bn_momentum=0.99, bn_epsilon=0.001, weight_decay=5e-06, drop_connect_rate=0.2, depth_divisor=8, min_depth=None, use_se=True, input_channels=3, num_classes=1000, model_name='efficientnet', rescale_input=False, data_format='channels_last', dtype='float32')\n",
      "I0207 19:22:06.327240 4379622912 ssd_efficientnet_bifpn_feature_extractor.py:146] EfficientDet EfficientNet backbone version: efficientnet-b4\n",
      "I0207 19:22:06.327421 4379622912 ssd_efficientnet_bifpn_feature_extractor.py:147] EfficientDet BiFPN num filters: 224\n",
      "I0207 19:22:06.327535 4379622912 ssd_efficientnet_bifpn_feature_extractor.py:149] EfficientDet BiFPN num iterations: 7\n",
      "I0207 19:22:06.329836 4379622912 efficientnet_model.py:144] round_filter input=32 output=48\n",
      "I0207 19:22:06.356220 4379622912 efficientnet_model.py:144] round_filter input=32 output=48\n",
      "I0207 19:22:06.356481 4379622912 efficientnet_model.py:144] round_filter input=16 output=24\n",
      "I0207 19:22:06.742239 4379622912 efficientnet_model.py:144] round_filter input=16 output=24\n",
      "I0207 19:22:06.742489 4379622912 efficientnet_model.py:144] round_filter input=24 output=32\n",
      "I0207 19:22:07.573976 4379622912 efficientnet_model.py:144] round_filter input=24 output=32\n",
      "I0207 19:22:07.574186 4379622912 efficientnet_model.py:144] round_filter input=40 output=56\n",
      "I0207 19:22:08.207696 4379622912 efficientnet_model.py:144] round_filter input=40 output=56\n",
      "I0207 19:22:08.207877 4379622912 efficientnet_model.py:144] round_filter input=80 output=112\n",
      "I0207 19:22:09.356715 4379622912 efficientnet_model.py:144] round_filter input=80 output=112\n",
      "I0207 19:22:09.357722 4379622912 efficientnet_model.py:144] round_filter input=112 output=160\n",
      "I0207 19:22:10.407290 4379622912 efficientnet_model.py:144] round_filter input=112 output=160\n",
      "I0207 19:22:10.407449 4379622912 efficientnet_model.py:144] round_filter input=192 output=272\n",
      "I0207 19:22:11.608666 4379622912 efficientnet_model.py:144] round_filter input=192 output=272\n",
      "I0207 19:22:11.608836 4379622912 efficientnet_model.py:144] round_filter input=320 output=448\n",
      "I0207 19:22:11.943745 4379622912 efficientnet_model.py:144] round_filter input=1280 output=1792\n",
      "I0207 19:22:12.051035 4379622912 efficientnet_model.py:454] Building model efficientnet with params ModelConfig(width_coefficient=1.4, depth_coefficient=1.8, resolution=380, dropout_rate=0.4, blocks=(BlockConfig(input_filters=32, output_filters=16, kernel_size=3, num_repeat=1, expand_ratio=1, strides=(1, 1), se_ratio=0.25, id_skip=True, fused_conv=False, conv_type='depthwise'), BlockConfig(input_filters=16, output_filters=24, kernel_size=3, num_repeat=2, expand_ratio=6, strides=(2, 2), se_ratio=0.25, id_skip=True, fused_conv=False, conv_type='depthwise'), BlockConfig(input_filters=24, output_filters=40, kernel_size=5, num_repeat=2, expand_ratio=6, strides=(2, 2), se_ratio=0.25, id_skip=True, fused_conv=False, conv_type='depthwise'), BlockConfig(input_filters=40, output_filters=80, kernel_size=3, num_repeat=3, expand_ratio=6, strides=(2, 2), se_ratio=0.25, id_skip=True, fused_conv=False, conv_type='depthwise'), BlockConfig(input_filters=80, output_filters=112, kernel_size=5, num_repeat=3, expand_ratio=6, strides=(1, 1), se_ratio=0.25, id_skip=True, fused_conv=False, conv_type='depthwise'), BlockConfig(input_filters=112, output_filters=192, kernel_size=5, num_repeat=4, expand_ratio=6, strides=(2, 2), se_ratio=0.25, id_skip=True, fused_conv=False, conv_type='depthwise'), BlockConfig(input_filters=192, output_filters=320, kernel_size=3, num_repeat=1, expand_ratio=6, strides=(1, 1), se_ratio=0.25, id_skip=True, fused_conv=False, conv_type='depthwise')), stem_base_filters=32, top_base_filters=1280, activation='simple_swish', batch_norm='default', bn_momentum=0.99, bn_epsilon=0.001, weight_decay=5e-06, drop_connect_rate=0.2, depth_divisor=8, min_depth=None, use_se=True, input_channels=3, num_classes=1000, model_name='efficientnet', rescale_input=False, data_format='channels_last', dtype='float32')\n"
     ]
    },
    {
     "name": "stdout",
     "output_type": "stream",
     "text": [
      "I0207 19:22:12.252649 4379622912 ssd_efficientnet_bifpn_feature_extractor.py:146] EfficientDet EfficientNet backbone version: efficientnet-b5\n",
      "I0207 19:22:12.252932 4379622912 ssd_efficientnet_bifpn_feature_extractor.py:147] EfficientDet BiFPN num filters: 288\n",
      "I0207 19:22:12.253067 4379622912 ssd_efficientnet_bifpn_feature_extractor.py:149] EfficientDet BiFPN num iterations: 7\n",
      "I0207 19:22:12.255826 4379622912 efficientnet_model.py:144] round_filter input=32 output=48\n",
      "I0207 19:22:12.277475 4379622912 efficientnet_model.py:144] round_filter input=32 output=48\n",
      "I0207 19:22:12.277631 4379622912 efficientnet_model.py:144] round_filter input=16 output=24\n",
      "I0207 19:22:12.543853 4379622912 efficientnet_model.py:144] round_filter input=16 output=24\n",
      "I0207 19:22:12.544020 4379622912 efficientnet_model.py:144] round_filter input=24 output=40\n",
      "I0207 19:22:13.199305 4379622912 efficientnet_model.py:144] round_filter input=24 output=40\n",
      "I0207 19:22:13.199472 4379622912 efficientnet_model.py:144] round_filter input=40 output=64\n",
      "I0207 19:22:13.841790 4379622912 efficientnet_model.py:144] round_filter input=40 output=64\n",
      "I0207 19:22:13.841976 4379622912 efficientnet_model.py:144] round_filter input=80 output=128\n",
      "I0207 19:22:15.585200 4379622912 efficientnet_model.py:144] round_filter input=80 output=128\n",
      "I0207 19:22:15.585412 4379622912 efficientnet_model.py:144] round_filter input=112 output=176\n",
      "I0207 19:22:16.799269 4379622912 efficientnet_model.py:144] round_filter input=112 output=176\n",
      "I0207 19:22:16.799468 4379622912 efficientnet_model.py:144] round_filter input=192 output=304\n",
      "I0207 19:22:18.734989 4379622912 efficientnet_model.py:144] round_filter input=192 output=304\n",
      "I0207 19:22:18.735220 4379622912 efficientnet_model.py:144] round_filter input=320 output=512\n",
      "I0207 19:22:19.299638 4379622912 efficientnet_model.py:144] round_filter input=1280 output=2048\n",
      "I0207 19:22:19.395237 4379622912 efficientnet_model.py:454] Building model efficientnet with params ModelConfig(width_coefficient=1.6, depth_coefficient=2.2, resolution=456, dropout_rate=0.4, blocks=(BlockConfig(input_filters=32, output_filters=16, kernel_size=3, num_repeat=1, expand_ratio=1, strides=(1, 1), se_ratio=0.25, id_skip=True, fused_conv=False, conv_type='depthwise'), BlockConfig(input_filters=16, output_filters=24, kernel_size=3, num_repeat=2, expand_ratio=6, strides=(2, 2), se_ratio=0.25, id_skip=True, fused_conv=False, conv_type='depthwise'), BlockConfig(input_filters=24, output_filters=40, kernel_size=5, num_repeat=2, expand_ratio=6, strides=(2, 2), se_ratio=0.25, id_skip=True, fused_conv=False, conv_type='depthwise'), BlockConfig(input_filters=40, output_filters=80, kernel_size=3, num_repeat=3, expand_ratio=6, strides=(2, 2), se_ratio=0.25, id_skip=True, fused_conv=False, conv_type='depthwise'), BlockConfig(input_filters=80, output_filters=112, kernel_size=5, num_repeat=3, expand_ratio=6, strides=(1, 1), se_ratio=0.25, id_skip=True, fused_conv=False, conv_type='depthwise'), BlockConfig(input_filters=112, output_filters=192, kernel_size=5, num_repeat=4, expand_ratio=6, strides=(2, 2), se_ratio=0.25, id_skip=True, fused_conv=False, conv_type='depthwise'), BlockConfig(input_filters=192, output_filters=320, kernel_size=3, num_repeat=1, expand_ratio=6, strides=(1, 1), se_ratio=0.25, id_skip=True, fused_conv=False, conv_type='depthwise')), stem_base_filters=32, top_base_filters=1280, activation='simple_swish', batch_norm='default', bn_momentum=0.99, bn_epsilon=0.001, weight_decay=5e-06, drop_connect_rate=0.2, depth_divisor=8, min_depth=None, use_se=True, input_channels=3, num_classes=1000, model_name='efficientnet', rescale_input=False, data_format='channels_last', dtype='float32')\n",
      "I0207 19:22:19.578439 4379622912 ssd_efficientnet_bifpn_feature_extractor.py:146] EfficientDet EfficientNet backbone version: efficientnet-b6\n",
      "I0207 19:22:19.578600 4379622912 ssd_efficientnet_bifpn_feature_extractor.py:147] EfficientDet BiFPN num filters: 384\n",
      "I0207 19:22:19.578683 4379622912 ssd_efficientnet_bifpn_feature_extractor.py:149] EfficientDet BiFPN num iterations: 8\n",
      "I0207 19:22:19.582033 4379622912 efficientnet_model.py:144] round_filter input=32 output=56\n",
      "I0207 19:22:19.613628 4379622912 efficientnet_model.py:144] round_filter input=32 output=56\n",
      "I0207 19:22:19.614010 4379622912 efficientnet_model.py:144] round_filter input=16 output=32\n",
      "I0207 19:22:19.911036 4379622912 efficientnet_model.py:144] round_filter input=16 output=32\n",
      "I0207 19:22:19.911224 4379622912 efficientnet_model.py:144] round_filter input=24 output=40\n",
      "I0207 19:22:20.590389 4379622912 efficientnet_model.py:144] round_filter input=24 output=40\n",
      "I0207 19:22:20.590559 4379622912 efficientnet_model.py:144] round_filter input=40 output=72\n",
      "I0207 19:22:21.481642 4379622912 efficientnet_model.py:144] round_filter input=40 output=72\n",
      "I0207 19:22:21.481861 4379622912 efficientnet_model.py:144] round_filter input=80 output=144\n",
      "I0207 19:22:22.583116 4379622912 efficientnet_model.py:144] round_filter input=80 output=144\n",
      "I0207 19:22:22.583285 4379622912 efficientnet_model.py:144] round_filter input=112 output=200\n",
      "I0207 19:22:23.663935 4379622912 efficientnet_model.py:144] round_filter input=112 output=200\n",
      "I0207 19:22:23.664149 4379622912 efficientnet_model.py:144] round_filter input=192 output=344\n",
      "I0207 19:22:25.935855 4379622912 efficientnet_model.py:144] round_filter input=192 output=344\n",
      "I0207 19:22:25.936098 4379622912 efficientnet_model.py:144] round_filter input=320 output=576\n",
      "I0207 19:22:26.641906 4379622912 efficientnet_model.py:144] round_filter input=1280 output=2304\n",
      "I0207 19:22:26.785947 4379622912 efficientnet_model.py:454] Building model efficientnet with params ModelConfig(width_coefficient=1.8, depth_coefficient=2.6, resolution=528, dropout_rate=0.5, blocks=(BlockConfig(input_filters=32, output_filters=16, kernel_size=3, num_repeat=1, expand_ratio=1, strides=(1, 1), se_ratio=0.25, id_skip=True, fused_conv=False, conv_type='depthwise'), BlockConfig(input_filters=16, output_filters=24, kernel_size=3, num_repeat=2, expand_ratio=6, strides=(2, 2), se_ratio=0.25, id_skip=True, fused_conv=False, conv_type='depthwise'), BlockConfig(input_filters=24, output_filters=40, kernel_size=5, num_repeat=2, expand_ratio=6, strides=(2, 2), se_ratio=0.25, id_skip=True, fused_conv=False, conv_type='depthwise'), BlockConfig(input_filters=40, output_filters=80, kernel_size=3, num_repeat=3, expand_ratio=6, strides=(2, 2), se_ratio=0.25, id_skip=True, fused_conv=False, conv_type='depthwise'), BlockConfig(input_filters=80, output_filters=112, kernel_size=5, num_repeat=3, expand_ratio=6, strides=(1, 1), se_ratio=0.25, id_skip=True, fused_conv=False, conv_type='depthwise'), BlockConfig(input_filters=112, output_filters=192, kernel_size=5, num_repeat=4, expand_ratio=6, strides=(2, 2), se_ratio=0.25, id_skip=True, fused_conv=False, conv_type='depthwise'), BlockConfig(input_filters=192, output_filters=320, kernel_size=3, num_repeat=1, expand_ratio=6, strides=(1, 1), se_ratio=0.25, id_skip=True, fused_conv=False, conv_type='depthwise')), stem_base_filters=32, top_base_filters=1280, activation='simple_swish', batch_norm='default', bn_momentum=0.99, bn_epsilon=0.001, weight_decay=5e-06, drop_connect_rate=0.2, depth_divisor=8, min_depth=None, use_se=True, input_channels=3, num_classes=1000, model_name='efficientnet', rescale_input=False, data_format='channels_last', dtype='float32')\n",
      "I0207 19:22:26.985457 4379622912 ssd_efficientnet_bifpn_feature_extractor.py:146] EfficientDet EfficientNet backbone version: efficientnet-b7\n",
      "I0207 19:22:26.985654 4379622912 ssd_efficientnet_bifpn_feature_extractor.py:147] EfficientDet BiFPN num filters: 384\n",
      "I0207 19:22:26.985774 4379622912 ssd_efficientnet_bifpn_feature_extractor.py:149] EfficientDet BiFPN num iterations: 8\n",
      "I0207 19:22:26.988332 4379622912 efficientnet_model.py:144] round_filter input=32 output=64\n",
      "I0207 19:22:27.016646 4379622912 efficientnet_model.py:144] round_filter input=32 output=64\n",
      "I0207 19:22:27.016869 4379622912 efficientnet_model.py:144] round_filter input=16 output=32\n",
      "I0207 19:22:27.737284 4379622912 efficientnet_model.py:144] round_filter input=16 output=32\n",
      "I0207 19:22:27.737968 4379622912 efficientnet_model.py:144] round_filter input=24 output=48\n"
     ]
    },
    {
     "name": "stdout",
     "output_type": "stream",
     "text": [
      "I0207 19:22:28.835184 4379622912 efficientnet_model.py:144] round_filter input=24 output=48\n",
      "I0207 19:22:28.835352 4379622912 efficientnet_model.py:144] round_filter input=40 output=80\n",
      "I0207 19:22:30.048098 4379622912 efficientnet_model.py:144] round_filter input=40 output=80\n",
      "I0207 19:22:30.048267 4379622912 efficientnet_model.py:144] round_filter input=80 output=160\n",
      "I0207 19:22:31.877477 4379622912 efficientnet_model.py:144] round_filter input=80 output=160\n",
      "I0207 19:22:31.877688 4379622912 efficientnet_model.py:144] round_filter input=112 output=224\n",
      "I0207 19:22:33.227900 4379622912 efficientnet_model.py:144] round_filter input=112 output=224\n",
      "I0207 19:22:33.228068 4379622912 efficientnet_model.py:144] round_filter input=192 output=384\n",
      "I0207 19:22:35.306137 4379622912 efficientnet_model.py:144] round_filter input=192 output=384\n",
      "I0207 19:22:35.306366 4379622912 efficientnet_model.py:144] round_filter input=320 output=640\n",
      "I0207 19:22:36.189305 4379622912 efficientnet_model.py:144] round_filter input=1280 output=2560\n",
      "I0207 19:22:36.302443 4379622912 efficientnet_model.py:454] Building model efficientnet with params ModelConfig(width_coefficient=2.0, depth_coefficient=3.1, resolution=600, dropout_rate=0.5, blocks=(BlockConfig(input_filters=32, output_filters=16, kernel_size=3, num_repeat=1, expand_ratio=1, strides=(1, 1), se_ratio=0.25, id_skip=True, fused_conv=False, conv_type='depthwise'), BlockConfig(input_filters=16, output_filters=24, kernel_size=3, num_repeat=2, expand_ratio=6, strides=(2, 2), se_ratio=0.25, id_skip=True, fused_conv=False, conv_type='depthwise'), BlockConfig(input_filters=24, output_filters=40, kernel_size=5, num_repeat=2, expand_ratio=6, strides=(2, 2), se_ratio=0.25, id_skip=True, fused_conv=False, conv_type='depthwise'), BlockConfig(input_filters=40, output_filters=80, kernel_size=3, num_repeat=3, expand_ratio=6, strides=(2, 2), se_ratio=0.25, id_skip=True, fused_conv=False, conv_type='depthwise'), BlockConfig(input_filters=80, output_filters=112, kernel_size=5, num_repeat=3, expand_ratio=6, strides=(1, 1), se_ratio=0.25, id_skip=True, fused_conv=False, conv_type='depthwise'), BlockConfig(input_filters=112, output_filters=192, kernel_size=5, num_repeat=4, expand_ratio=6, strides=(2, 2), se_ratio=0.25, id_skip=True, fused_conv=False, conv_type='depthwise'), BlockConfig(input_filters=192, output_filters=320, kernel_size=3, num_repeat=1, expand_ratio=6, strides=(1, 1), se_ratio=0.25, id_skip=True, fused_conv=False, conv_type='depthwise')), stem_base_filters=32, top_base_filters=1280, activation='simple_swish', batch_norm='default', bn_momentum=0.99, bn_epsilon=0.001, weight_decay=5e-06, drop_connect_rate=0.2, depth_divisor=8, min_depth=None, use_se=True, input_channels=3, num_classes=1000, model_name='efficientnet', rescale_input=False, data_format='channels_last', dtype='float32')\n",
      "INFO:tensorflow:time(__main__.ModelBuilderTF2Test.test_create_ssd_models_from_config): 46.37s\n",
      "I0207 19:22:36.542589 4379622912 test_util.py:2309] time(__main__.ModelBuilderTF2Test.test_create_ssd_models_from_config): 46.37s\n",
      "[       OK ] ModelBuilderTF2Test.test_create_ssd_models_from_config\n",
      "[ RUN      ] ModelBuilderTF2Test.test_invalid_faster_rcnn_batchnorm_update\n",
      "INFO:tensorflow:time(__main__.ModelBuilderTF2Test.test_invalid_faster_rcnn_batchnorm_update): 0.0s\n",
      "I0207 19:22:36.555330 4379622912 test_util.py:2309] time(__main__.ModelBuilderTF2Test.test_invalid_faster_rcnn_batchnorm_update): 0.0s\n",
      "[       OK ] ModelBuilderTF2Test.test_invalid_faster_rcnn_batchnorm_update\n",
      "[ RUN      ] ModelBuilderTF2Test.test_invalid_first_stage_nms_iou_threshold\n",
      "INFO:tensorflow:time(__main__.ModelBuilderTF2Test.test_invalid_first_stage_nms_iou_threshold): 0.0s\n",
      "I0207 19:22:36.558398 4379622912 test_util.py:2309] time(__main__.ModelBuilderTF2Test.test_invalid_first_stage_nms_iou_threshold): 0.0s\n",
      "[       OK ] ModelBuilderTF2Test.test_invalid_first_stage_nms_iou_threshold\n",
      "[ RUN      ] ModelBuilderTF2Test.test_invalid_model_config_proto\n",
      "INFO:tensorflow:time(__main__.ModelBuilderTF2Test.test_invalid_model_config_proto): 0.0s\n",
      "I0207 19:22:36.559065 4379622912 test_util.py:2309] time(__main__.ModelBuilderTF2Test.test_invalid_model_config_proto): 0.0s\n",
      "[       OK ] ModelBuilderTF2Test.test_invalid_model_config_proto\n",
      "[ RUN      ] ModelBuilderTF2Test.test_invalid_second_stage_batch_size\n",
      "INFO:tensorflow:time(__main__.ModelBuilderTF2Test.test_invalid_second_stage_batch_size): 0.0s\n",
      "I0207 19:22:36.563325 4379622912 test_util.py:2309] time(__main__.ModelBuilderTF2Test.test_invalid_second_stage_batch_size): 0.0s\n",
      "[       OK ] ModelBuilderTF2Test.test_invalid_second_stage_batch_size\n",
      "[ RUN      ] ModelBuilderTF2Test.test_session\n",
      "[  SKIPPED ] ModelBuilderTF2Test.test_session\n",
      "[ RUN      ] ModelBuilderTF2Test.test_unknown_faster_rcnn_feature_extractor\n",
      "INFO:tensorflow:time(__main__.ModelBuilderTF2Test.test_unknown_faster_rcnn_feature_extractor): 0.0s\n",
      "I0207 19:22:36.566785 4379622912 test_util.py:2309] time(__main__.ModelBuilderTF2Test.test_unknown_faster_rcnn_feature_extractor): 0.0s\n",
      "[       OK ] ModelBuilderTF2Test.test_unknown_faster_rcnn_feature_extractor\n",
      "[ RUN      ] ModelBuilderTF2Test.test_unknown_meta_architecture\n",
      "INFO:tensorflow:time(__main__.ModelBuilderTF2Test.test_unknown_meta_architecture): 0.0s\n",
      "I0207 19:22:36.567407 4379622912 test_util.py:2309] time(__main__.ModelBuilderTF2Test.test_unknown_meta_architecture): 0.0s\n",
      "[       OK ] ModelBuilderTF2Test.test_unknown_meta_architecture\n",
      "[ RUN      ] ModelBuilderTF2Test.test_unknown_ssd_feature_extractor\n",
      "INFO:tensorflow:time(__main__.ModelBuilderTF2Test.test_unknown_ssd_feature_extractor): 0.0s\n",
      "I0207 19:22:36.569178 4379622912 test_util.py:2309] time(__main__.ModelBuilderTF2Test.test_unknown_ssd_feature_extractor): 0.0s\n",
      "[       OK ] ModelBuilderTF2Test.test_unknown_ssd_feature_extractor\n",
      "----------------------------------------------------------------------\n",
      "Ran 24 tests in 54.421s\n",
      "\n",
      "OK (skipped=1)\n"
     ]
    }
   ],
   "source": [
    "VERIFICATION_SCRIPT = os.path.join(paths['APIMODEL_PATH'], 'research', 'object_detection', 'builders', 'model_builder_tf2_test.py')\n",
    "# Verify Installation\n",
    "!python {VERIFICATION_SCRIPT}"
   ]
  },
  {
   "cell_type": "code",
   "execution_count": 16,
   "id": "aee8ba15",
   "metadata": {},
   "outputs": [],
   "source": []
  },
  {
   "cell_type": "code",
   "execution_count": 26,
   "id": "2717fde1",
   "metadata": {},
   "outputs": [],
   "source": [
    "import object_detection"
   ]
  },
  {
   "cell_type": "code",
   "execution_count": 27,
   "id": "b47923ed",
   "metadata": {},
   "outputs": [
    {
     "name": "stdout",
     "output_type": "stream",
     "text": [
      "--2022-02-08 17:09:00--  http://download.tensorflow.org/models/object_detection/tf2/20200711/efficientdet_d2_coco17_tpu-32.tar.gz\n",
      "Resolving download.tensorflow.org (download.tensorflow.org)... 172.217.163.208\n",
      "Connecting to download.tensorflow.org (download.tensorflow.org)|172.217.163.208|:80... connected.\n",
      "HTTP request sent, awaiting response... 200 OK\n",
      "Length: 62929273 (60M) [application/x-tar]\n",
      "Saving to: ‘efficientdet_d2_coco17_tpu-32.tar.gz’\n",
      "\n",
      "efficientdet_d2_coc 100%[===================>]  60.01M  6.72MB/s    in 10s     \n",
      "\n",
      "2022-02-08 17:09:11 (5.86 MB/s) - ‘efficientdet_d2_coco17_tpu-32.tar.gz’ saved [62929273/62929273]\n",
      "\n",
      "x efficientdet_d2_coco17_tpu-32/\n",
      "x efficientdet_d2_coco17_tpu-32/checkpoint/\n",
      "x efficientdet_d2_coco17_tpu-32/checkpoint/ckpt-0.data-00000-of-00001\n",
      "x efficientdet_d2_coco17_tpu-32/checkpoint/checkpoint\n",
      "x efficientdet_d2_coco17_tpu-32/checkpoint/ckpt-0.index\n",
      "x efficientdet_d2_coco17_tpu-32/pipeline.config\n",
      "x efficientdet_d2_coco17_tpu-32/saved_model/\n",
      "x efficientdet_d2_coco17_tpu-32/saved_model/saved_model.pb\n",
      "x efficientdet_d2_coco17_tpu-32/saved_model/assets/\n",
      "x efficientdet_d2_coco17_tpu-32/saved_model/variables/\n",
      "x efficientdet_d2_coco17_tpu-32/saved_model/variables/variables.data-00000-of-00001\n",
      "x efficientdet_d2_coco17_tpu-32/saved_model/variables/variables.index\n"
     ]
    }
   ],
   "source": [
    "# Download pretrained object detection model \n",
    "if os.name =='posix':\n",
    "    !wget {PRETRAINED_MODEL_URL}\n",
    "    !mv {PRETRAINED_MODEL_NAME+'.tar.gz'} {paths['PRETRAINED_MODEL_PATH']}\n",
    "    !cd {paths['PRETRAINED_MODEL_PATH']} && tar -zxvf {PRETRAINED_MODEL_NAME+'.tar.gz'}\n",
    "if os.name == 'nt':\n",
    "    wget.download(PRETRAINED_MODEL_URL)\n",
    "    !move {PRETRAINED_MODEL_NAME+'.tar.gz'} {paths['PRETRAINED_MODEL_PATH']}\n",
    "    !cd {paths['PRETRAINED_MODEL_PATH']} && tar -zxvf {PRETRAINED_MODEL_NAME+'.tar.gz'}"
   ]
  },
  {
   "cell_type": "markdown",
   "id": "88239891",
   "metadata": {},
   "source": [
    "# Generating TF Records"
   ]
  },
  {
   "cell_type": "code",
   "execution_count": 28,
   "id": "44925e8c",
   "metadata": {},
   "outputs": [],
   "source": [
    "labels = [{'name':'connector', 'id':1}]\n",
    "\n",
    "# generating label_map\n",
    "with open(files['LABELMAP'], 'w') as f:\n",
    "    for label in labels:\n",
    "        f.write('item { \\n')\n",
    "        f.write('\\tname:\\'{}\\'\\n'.format(label['name']))\n",
    "        f.write('\\tid:{}\\n'.format(label['id']))\n",
    "        f.write('}\\n')"
   ]
  },
  {
   "cell_type": "code",
   "execution_count": 29,
   "id": "6ca86002",
   "metadata": {},
   "outputs": [
    {
     "name": "stdout",
     "output_type": "stream",
     "text": [
      "Successfully created the TFRecord file: Tensorflow/workspace/annotations/train.record\n",
      "Successfully created the TFRecord file: Tensorflow/workspace/annotations/test.record\n"
     ]
    }
   ],
   "source": [
    "# creating tf_records of train\n",
    "!python {files['TF_RECORD_SCRIPT']} -x {os.path.join(paths['IMAGE_PATH'], 'train')} -l {files['LABELMAP']} -o {os.path.join(paths['ANNOTATION_PATH'], 'train.record')} \n",
    "\n",
    "# creating tf_records of test\n",
    "!python {files['TF_RECORD_SCRIPT']} -x {os.path.join(paths['IMAGE_PATH'], 'test')} -l {files['LABELMAP']} -o {os.path.join(paths['ANNOTATION_PATH'], 'test.record')} "
   ]
  },
  {
   "cell_type": "code",
   "execution_count": 30,
   "id": "59b8e21a",
   "metadata": {},
   "outputs": [],
   "source": [
    "# copy pipeline.config from pretrained models to custom model\n",
    "if os.name =='posix':\n",
    "    !cp {os.path.join(paths['PRETRAINED_MODEL_PATH'], PRETRAINED_MODEL_NAME, 'pipeline.config')} {os.path.join(paths['CHECKPOINT_PATH'])}\n",
    "if os.name == 'nt':\n",
    "    !copy {os.path.join(paths['PRETRAINED_MODEL_PATH'], PRETRAINED_MODEL_NAME, 'pipeline.config')} {os.path.join(paths['CHECKPOINT_PATH'])}"
   ]
  },
  {
   "cell_type": "markdown",
   "id": "4cf4e9c9",
   "metadata": {},
   "source": [
    "# Train and Evaluate Model "
   ]
  },
  {
   "cell_type": "code",
   "execution_count": 31,
   "id": "c9c1466a",
   "metadata": {},
   "outputs": [],
   "source": [
    "import tensorflow as tf\n",
    "from object_detection.utils import config_util\n",
    "from object_detection.protos import pipeline_pb2\n",
    "from google.protobuf import text_format"
   ]
  },
  {
   "cell_type": "code",
   "execution_count": 32,
   "id": "ef9e587a",
   "metadata": {},
   "outputs": [],
   "source": [
    "config = config_util.get_configs_from_pipeline_file(files['PIPELINE_CONFIG'])"
   ]
  },
  {
   "cell_type": "code",
   "execution_count": 34,
   "id": "c7496e83",
   "metadata": {},
   "outputs": [],
   "source": [
    "# config"
   ]
  },
  {
   "cell_type": "code",
   "execution_count": 35,
   "id": "ab4bfd34",
   "metadata": {},
   "outputs": [],
   "source": [
    "pipeline_config = pipeline_pb2.TrainEvalPipelineConfig()\n",
    "with tf.io.gfile.GFile(files['PIPELINE_CONFIG'], \"r\") as f:                                                                                                                                                                                                                     \n",
    "    proto_str = f.read()                                                                                                                                                                                                                                          \n",
    "    text_format.Merge(proto_str, pipeline_config)  \n"
   ]
  },
  {
   "cell_type": "code",
   "execution_count": 36,
   "id": "bfbbf1c3",
   "metadata": {},
   "outputs": [],
   "source": [
    "# modify the pipeline.config of custom model as per the requirement of the custom model\n",
    "pipeline_config.model.ssd.num_classes = len(labels)\n",
    "pipeline_config.train_config.batch_size = 1\n",
    "pipeline_config.train_config.fine_tune_checkpoint = os.path.join(paths['PRETRAINED_MODEL_PATH'], PRETRAINED_MODEL_NAME, 'checkpoint', 'ckpt-0')\n",
    "pipeline_config.train_config.fine_tune_checkpoint_type = \"detection\"\n",
    "pipeline_config.train_input_reader.label_map_path= files['LABELMAP']\n",
    "pipeline_config.train_input_reader.tf_record_input_reader.input_path[:] = [os.path.join(paths['ANNOTATION_PATH'], 'train.record')]\n",
    "pipeline_config.eval_input_reader[0].label_map_path = files['LABELMAP']\n",
    "pipeline_config.eval_input_reader[0].tf_record_input_reader.input_path[:] = [os.path.join(paths['ANNOTATION_PATH'], 'test.record')]"
   ]
  },
  {
   "cell_type": "code",
   "execution_count": 37,
   "id": "53a10888",
   "metadata": {},
   "outputs": [],
   "source": [
    "config_text = text_format.MessageToString(pipeline_config)                                                                                                                                                                                                        \n",
    "with tf.io.gfile.GFile(files['PIPELINE_CONFIG'], \"wb\") as f:                                                                                                                                                                                                                     \n",
    "    f.write(config_text)   "
   ]
  },
  {
   "cell_type": "code",
   "execution_count": 39,
   "id": "e66c5b52",
   "metadata": {},
   "outputs": [],
   "source": [
    "# config_text"
   ]
  },
  {
   "cell_type": "code",
   "execution_count": 40,
   "id": "69e953f1",
   "metadata": {},
   "outputs": [],
   "source": [
    "TRAINING_SCRIPT = os.path.join(paths['APIMODEL_PATH'], 'research', 'object_detection', 'model_main_tf2.py')"
   ]
  },
  {
   "cell_type": "code",
   "execution_count": 46,
   "id": "5dc09db4",
   "metadata": {},
   "outputs": [
    {
     "data": {
      "text/plain": [
       "'Tensorflow/models/research/object_detection/model_main_tf2.py'"
      ]
     },
     "execution_count": 46,
     "metadata": {},
     "output_type": "execute_result"
    }
   ],
   "source": [
    "TRAINING_SCRIPT"
   ]
  },
  {
   "cell_type": "code",
   "execution_count": 44,
   "id": "f66ee0bc",
   "metadata": {},
   "outputs": [],
   "source": [
    "# training command\n",
    "train_command = command = \"python {} --model_dir={} --pipeline_config_path={} --num_train_steps=5000\".format(TRAINING_SCRIPT, paths['CHECKPOINT_PATH'],files['PIPELINE_CONFIG'])\n"
   ]
  },
  {
   "cell_type": "code",
   "execution_count": 45,
   "id": "7ac41ee4",
   "metadata": {},
   "outputs": [
    {
     "data": {
      "text/plain": [
       "'python Tensorflow/models/research/object_detection/model_main_tf2.py --model_dir=Tensorflow/workspace/models/my_efficientdet_d2 --pipeline_config_path=Tensorflow/workspace/models/my_efficientdet_d2/pipeline.config --num_train_steps=5000'"
      ]
     },
     "execution_count": 45,
     "metadata": {},
     "output_type": "execute_result"
    }
   ],
   "source": [
    "train_command"
   ]
  },
  {
   "cell_type": "code",
   "execution_count": 43,
   "id": "ef0287ae",
   "metadata": {},
   "outputs": [],
   "source": [
    "# !{command}"
   ]
  },
  {
   "cell_type": "code",
   "execution_count": 69,
   "id": "8723ba9b",
   "metadata": {},
   "outputs": [],
   "source": [
    "# evaluation command\n",
    "eval_command = \"python {} --model_dir={} --pipeline_config_path={} --checkpoint_dir={}\".format(TRAINING_SCRIPT, paths['CHECKPOINT_PATH'],files['PIPELINE_CONFIG'], paths['CHECKPOINT_PATH'])"
   ]
  },
  {
   "cell_type": "code",
   "execution_count": 70,
   "id": "b5d2e03f",
   "metadata": {},
   "outputs": [
    {
     "data": {
      "text/plain": [
       "'python Tensorflow/models/research/object_detection/model_main_tf2.py --model_dir=Tensorflow/workspace/models/my_ssd_mobnet --pipeline_config_path=Tensorflow/workspace/models/my_ssd_mobnet/pipeline.config --checkpoint_dir=Tensorflow/workspace/models/my_ssd_mobnet'"
      ]
     },
     "execution_count": 70,
     "metadata": {},
     "output_type": "execute_result"
    }
   ],
   "source": [
    "eval_command"
   ]
  },
  {
   "cell_type": "code",
   "execution_count": null,
   "id": "f76336eb",
   "metadata": {},
   "outputs": [],
   "source": []
  },
  {
   "cell_type": "markdown",
   "id": "01263735",
   "metadata": {},
   "source": [
    "# Load Train Model from Checkpoint"
   ]
  },
  {
   "cell_type": "code",
   "execution_count": 9,
   "id": "5900292b",
   "metadata": {},
   "outputs": [],
   "source": [
    "import os\n",
    "import tensorflow as tf\n",
    "from object_detection.utils import label_map_util\n",
    "from object_detection.utils import visualization_utils as viz_utils\n",
    "from object_detection.builders import model_builder\n",
    "from object_detection.utils import config_util"
   ]
  },
  {
   "cell_type": "code",
   "execution_count": 10,
   "id": "e194aca7",
   "metadata": {},
   "outputs": [
    {
     "name": "stderr",
     "output_type": "stream",
     "text": [
      "2022-02-07 12:22:23.747953: I tensorflow/core/platform/cpu_feature_guard.cc:151] This TensorFlow binary is optimized with oneAPI Deep Neural Network Library (oneDNN) to use the following CPU instructions in performance-critical operations:  AVX2 FMA\n",
      "To enable them in other operations, rebuild TensorFlow with the appropriate compiler flags.\n"
     ]
    }
   ],
   "source": [
    "# Load pipeline config and build a detection model\n",
    "configs = config_util.get_configs_from_pipeline_file(files['PIPELINE_CONFIG'])\n",
    "detection_model = model_builder.build(model_config=configs['model'], is_training=False)\n",
    "\n",
    "# Restore checkpoint\n",
    "ckpt = tf.compat.v2.train.Checkpoint(model=detection_model)\n",
    "ckpt.restore(os.path.join(paths['CHECKPOINT_PATH'], 'ckpt-3')).expect_partial()\n",
    "\n",
    "@tf.function\n",
    "def detect_fn(image):\n",
    "    image, shapes = detection_model.preprocess(image)\n",
    "    prediction_dict = detection_model.predict(image, shapes)\n",
    "    detections = detection_model.postprocess(prediction_dict, shapes)\n",
    "    return detections"
   ]
  },
  {
   "cell_type": "code",
   "execution_count": null,
   "id": "23005799",
   "metadata": {},
   "outputs": [],
   "source": []
  },
  {
   "cell_type": "markdown",
   "id": "d11ce0c3",
   "metadata": {},
   "source": [
    "# Detect from Image"
   ]
  },
  {
   "cell_type": "code",
   "execution_count": 11,
   "id": "2e37e4d5",
   "metadata": {},
   "outputs": [],
   "source": [
    "import cv2 \n",
    "import numpy as np\n",
    "from matplotlib import pyplot as plt\n",
    "%matplotlib inline"
   ]
  },
  {
   "cell_type": "code",
   "execution_count": 12,
   "id": "dfe67f71",
   "metadata": {},
   "outputs": [],
   "source": [
    "category_index = label_map_util.create_category_index_from_labelmap(files['LABELMAP'])"
   ]
  },
  {
   "cell_type": "code",
   "execution_count": 13,
   "id": "a1fba024",
   "metadata": {},
   "outputs": [],
   "source": [
    "IMAGE_PATH = os.path.join(paths['IMAGE_PATH'], 'test', 'IMG_20200228_122244.jpg')"
   ]
  },
  {
   "cell_type": "code",
   "execution_count": 14,
   "id": "ff8159e7",
   "metadata": {},
   "outputs": [
    {
     "data": {
      "image/png": "[encoded data removed]",
      "text/plain": [
       "<Figure size 432x288 with 1 Axes>"
      ]
     },
     "metadata": {
      "needs_background": "light"
     },
     "output_type": "display_data"
    }
   ],
   "source": [
    "img = cv2.imread(IMAGE_PATH)\n",
    "image_np = np.array(img)\n",
    "\n",
    "input_tensor = tf.convert_to_tensor(np.expand_dims(image_np, 0), dtype=tf.float32)\n",
    "detections = detect_fn(input_tensor)\n",
    "\n",
    "num_detections = int(detections.pop('num_detections'))\n",
    "detections = {key: value[0, :num_detections].numpy()\n",
    "              for key, value in detections.items()}\n",
    "detections['num_detections'] = num_detections\n",
    "\n",
    "# detection_classes should be ints.\n",
    "detections['detection_classes'] = detections['detection_classes'].astype(np.int64)\n",
    "\n",
    "label_id_offset = 1\n",
    "image_np_with_detections = image_np.copy()\n",
    "\n",
    "viz_utils.visualize_boxes_and_labels_on_image_array(\n",
    "            image_np_with_detections,\n",
    "            detections['detection_boxes'],\n",
    "            detections['detection_classes']+label_id_offset,\n",
    "            detections['detection_scores'],\n",
    "            category_index,\n",
    "            use_normalized_coordinates=True,\n",
    "            max_boxes_to_draw=1,\n",
    "            min_score_thresh=.5,\n",
    "            agnostic_mode=False,\n",
    "            line_thickness=10,\n",
    "            )\n",
    "\n",
    "plt.imshow(cv2.cvtColor(image_np_with_detections, cv2.COLOR_BGR2RGB))\n",
    "plt.show()"
   ]
  },
  {
   "cell_type": "markdown",
   "id": "3973c0da",
   "metadata": {},
   "source": [
    "# Real Time Detection from Webcam"
   ]
  },
  {
   "cell_type": "code",
   "execution_count": 16,
   "id": "0cae471d",
   "metadata": {},
   "outputs": [],
   "source": [
    "cap = cv2.VideoCapture(0)\n",
    "width = int(cap.get(cv2.CAP_PROP_FRAME_WIDTH))\n",
    "height = int(cap.get(cv2.CAP_PROP_FRAME_HEIGHT))\n",
    "\n",
    "while cap.isOpened(): \n",
    "    ret, frame = cap.read()\n",
    "    image_np = np.array(frame)\n",
    "    \n",
    "    input_tensor = tf.convert_to_tensor(np.expand_dims(image_np, 0), dtype=tf.float32)\n",
    "    detections = detect_fn(input_tensor)\n",
    "    \n",
    "    num_detections = int(detections.pop('num_detections'))\n",
    "    detections = {key: value[0, :num_detections].numpy()\n",
    "                  for key, value in detections.items()}\n",
    "    detections['num_detections'] = num_detections\n",
    "\n",
    "    # detection_classes should be ints.\n",
    "    detections['detection_classes'] = detections['detection_classes'].astype(np.int64)\n",
    "\n",
    "    label_id_offset = 1\n",
    "    image_np_with_detections = image_np.copy()\n",
    "\n",
    "    viz_utils.visualize_boxes_and_labels_on_image_array(\n",
    "                image_np_with_detections,\n",
    "                detections['detection_boxes'],\n",
    "                detections['detection_classes']+label_id_offset,\n",
    "                detections['detection_scores'],\n",
    "                category_index,\n",
    "                use_normalized_coordinates=True,\n",
    "                max_boxes_to_draw=5,\n",
    "                min_score_thresh=.8,\n",
    "                agnostic_mode=False)\n",
    "\n",
    "    cv2.imshow('object detection',  cv2.resize(image_np_with_detections, (800, 600)))\n",
    "    \n",
    "    if cv2.waitKey(10) & 0xFF == ord('q'):\n",
    "        cap.release()\n",
    "        cv2.destroyAllWindows()\n",
    "        break"
   ]
  },
  {
   "cell_type": "markdown",
   "id": "f2968073",
   "metadata": {},
   "source": [
    "# Freezing the Graph"
   ]
  },
  {
   "cell_type": "code",
   "execution_count": 18,
   "id": "cbc48ed3",
   "metadata": {},
   "outputs": [
    {
     "data": {
      "text/plain": [
       "'Tensorflow/models/research/object_detection/exporter_main_v2.py '"
      ]
     },
     "execution_count": 18,
     "metadata": {},
     "output_type": "execute_result"
    }
   ],
   "source": [
    "FREEZE_SCRIPT = os.path.join(paths['APIMODEL_PATH'], 'research', 'object_detection', 'exporter_main_v2.py ')\n",
    "FREEZE_SCRIPT"
   ]
  },
  {
   "cell_type": "code",
   "execution_count": 19,
   "id": "1f4ae1ab",
   "metadata": {},
   "outputs": [],
   "source": [
    "command = \"python {} --input_type=image_tensor --pipeline_config_path={} --trained_checkpoint_dir={} --output_directory={}\".format(FREEZE_SCRIPT ,files['PIPELINE_CONFIG'], paths['CHECKPOINT_PATH'], paths['OUTPUT_PATH'])\n",
    "\n"
   ]
  },
  {
   "cell_type": "code",
   "execution_count": 21,
   "id": "837f8c5d",
   "metadata": {},
   "outputs": [
    {
     "name": "stdout",
     "output_type": "stream",
     "text": [
      "2022-02-07 12:31:38.828908: I tensorflow/core/platform/cpu_feature_guard.cc:151] This TensorFlow binary is optimized with oneAPI Deep Neural Network Library (oneDNN) to use the following CPU instructions in performance-critical operations:  AVX2 FMA\n",
      "To enable them in other operations, rebuild TensorFlow with the appropriate compiler flags.\n",
      "WARNING:tensorflow:From /Users/riturajsharma/Desktop/placement_job/Fabrik/code/odenv/lib/python3.7/site-packages/tensorflow/python/autograph/impl/api.py:464: calling map_fn_v2 (from tensorflow.python.ops.map_fn) with back_prop=False is deprecated and will be removed in a future version.\n",
      "Instructions for updating:\n",
      "back_prop=False is deprecated. Consider using tf.stop_gradient instead.\n",
      "Instead of:\n",
      "results = tf.map_fn(fn, elems, back_prop=False)\n",
      "Use:\n",
      "results = tf.nest.map_structure(tf.stop_gradient, tf.map_fn(fn, elems))\n",
      "W0207 12:31:39.321008 4452617728 deprecation.py:619] From /Users/riturajsharma/Desktop/placement_job/Fabrik/code/odenv/lib/python3.7/site-packages/tensorflow/python/autograph/impl/api.py:464: calling map_fn_v2 (from tensorflow.python.ops.map_fn) with back_prop=False is deprecated and will be removed in a future version.\n",
      "Instructions for updating:\n",
      "back_prop=False is deprecated. Consider using tf.stop_gradient instead.\n",
      "Instead of:\n",
      "results = tf.map_fn(fn, elems, back_prop=False)\n",
      "Use:\n",
      "results = tf.nest.map_structure(tf.stop_gradient, tf.map_fn(fn, elems))\n",
      "WARNING:tensorflow:Skipping full serialization of Keras layer <object_detection.meta_architectures.ssd_meta_arch.SSDMetaArch object at 0x7fcaf7f24710>, because it is not built.\n",
      "W0207 12:32:11.290570 4452617728 save_impl.py:72] Skipping full serialization of Keras layer <object_detection.meta_architectures.ssd_meta_arch.SSDMetaArch object at 0x7fcaf7f24710>, because it is not built.\n",
      "WARNING:tensorflow:Skipping full serialization of Keras layer <keras.layers.convolutional.SeparableConv2D object at 0x7fcaf805ef10>, because it is not built.\n",
      "W0207 12:32:12.014842 4452617728 save_impl.py:72] Skipping full serialization of Keras layer <keras.layers.convolutional.SeparableConv2D object at 0x7fcaf805ef10>, because it is not built.\n",
      "WARNING:tensorflow:Skipping full serialization of Keras layer <object_detection.core.freezable_batch_norm.FreezableBatchNorm object at 0x7fcadb3514d0>, because it is not built.\n",
      "W0207 12:32:12.015223 4452617728 save_impl.py:72] Skipping full serialization of Keras layer <object_detection.core.freezable_batch_norm.FreezableBatchNorm object at 0x7fcadb3514d0>, because it is not built.\n",
      "WARNING:tensorflow:Skipping full serialization of Keras layer <keras.layers.core.lambda_layer.Lambda object at 0x7fcadb351b10>, because it is not built.\n",
      "W0207 12:32:12.015539 4452617728 save_impl.py:72] Skipping full serialization of Keras layer <keras.layers.core.lambda_layer.Lambda object at 0x7fcadb351b10>, because it is not built.\n",
      "WARNING:tensorflow:Skipping full serialization of Keras layer <keras.layers.convolutional.SeparableConv2D object at 0x7fcadb351f90>, because it is not built.\n",
      "W0207 12:32:12.015729 4452617728 save_impl.py:72] Skipping full serialization of Keras layer <keras.layers.convolutional.SeparableConv2D object at 0x7fcadb351f90>, because it is not built.\n",
      "WARNING:tensorflow:Skipping full serialization of Keras layer <object_detection.core.freezable_batch_norm.FreezableBatchNorm object at 0x7fcadb3479d0>, because it is not built.\n",
      "W0207 12:32:12.015887 4452617728 save_impl.py:72] Skipping full serialization of Keras layer <object_detection.core.freezable_batch_norm.FreezableBatchNorm object at 0x7fcadb3479d0>, because it is not built.\n",
      "WARNING:tensorflow:Skipping full serialization of Keras layer <keras.layers.core.lambda_layer.Lambda object at 0x7fcadb347ad0>, because it is not built.\n",
      "W0207 12:32:12.016066 4452617728 save_impl.py:72] Skipping full serialization of Keras layer <keras.layers.core.lambda_layer.Lambda object at 0x7fcadb347ad0>, because it is not built.\n",
      "WARNING:tensorflow:Skipping full serialization of Keras layer <keras.layers.convolutional.SeparableConv2D object at 0x7fcadb347cd0>, because it is not built.\n",
      "W0207 12:32:12.016216 4452617728 save_impl.py:72] Skipping full serialization of Keras layer <keras.layers.convolutional.SeparableConv2D object at 0x7fcadb347cd0>, because it is not built.\n",
      "WARNING:tensorflow:Skipping full serialization of Keras layer <object_detection.core.freezable_batch_norm.FreezableBatchNorm object at 0x7fcadb3470d0>, because it is not built.\n",
      "W0207 12:32:12.016315 4452617728 save_impl.py:72] Skipping full serialization of Keras layer <object_detection.core.freezable_batch_norm.FreezableBatchNorm object at 0x7fcadb3470d0>, because it is not built.\n",
      "WARNING:tensorflow:Skipping full serialization of Keras layer <keras.layers.core.lambda_layer.Lambda object at 0x7fcadb35f910>, because it is not built.\n",
      "W0207 12:32:12.016469 4452617728 save_impl.py:72] Skipping full serialization of Keras layer <keras.layers.core.lambda_layer.Lambda object at 0x7fcadb35f910>, because it is not built.\n",
      "WARNING:tensorflow:Skipping full serialization of Keras layer <keras.layers.convolutional.SeparableConv2D object at 0x7fcadb35fed0>, because it is not built.\n",
      "W0207 12:32:12.016633 4452617728 save_impl.py:72] Skipping full serialization of Keras layer <keras.layers.convolutional.SeparableConv2D object at 0x7fcadb35fed0>, because it is not built.\n",
      "WARNING:tensorflow:Skipping full serialization of Keras layer <object_detection.core.freezable_batch_norm.FreezableBatchNorm object at 0x7fcadb341dd0>, because it is not built.\n",
      "W0207 12:32:12.016783 4452617728 save_impl.py:72] Skipping full serialization of Keras layer <object_detection.core.freezable_batch_norm.FreezableBatchNorm object at 0x7fcadb341dd0>, because it is not built.\n",
      "WARNING:tensorflow:Skipping full serialization of Keras layer <keras.layers.core.lambda_layer.Lambda object at 0x7fcadb3415d0>, because it is not built.\n",
      "W0207 12:32:12.016943 4452617728 save_impl.py:72] Skipping full serialization of Keras layer <keras.layers.core.lambda_layer.Lambda object at 0x7fcadb3415d0>, because it is not built.\n",
      "WARNING:tensorflow:Skipping full serialization of Keras layer <object_detection.core.freezable_batch_norm.FreezableBatchNorm object at 0x7fcada30e750>, because it is not built.\n",
      "W0207 12:32:12.017086 4452617728 save_impl.py:72] Skipping full serialization of Keras layer <object_detection.core.freezable_batch_norm.FreezableBatchNorm object at 0x7fcada30e750>, because it is not built.\n",
      "WARNING:tensorflow:Skipping full serialization of Keras layer <keras.layers.core.lambda_layer.Lambda object at 0x7fcaf849bdd0>, because it is not built.\n",
      "W0207 12:32:12.017229 4452617728 save_impl.py:72] Skipping full serialization of Keras layer <keras.layers.core.lambda_layer.Lambda object at 0x7fcaf849bdd0>, because it is not built.\n",
      "WARNING:tensorflow:Skipping full serialization of Keras layer <object_detection.core.freezable_batch_norm.FreezableBatchNorm object at 0x7fcad9bab6d0>, because it is not built.\n",
      "W0207 12:32:12.017338 4452617728 save_impl.py:72] Skipping full serialization of Keras layer <object_detection.core.freezable_batch_norm.FreezableBatchNorm object at 0x7fcad9bab6d0>, because it is not built.\n",
      "WARNING:tensorflow:Skipping full serialization of Keras layer <keras.layers.core.lambda_layer.Lambda object at 0x7fcaf835ae50>, because it is not built.\n",
      "W0207 12:32:12.017637 4452617728 save_impl.py:72] Skipping full serialization of Keras layer <keras.layers.core.lambda_layer.Lambda object at 0x7fcaf835ae50>, because it is not built.\n",
      "WARNING:tensorflow:Skipping full serialization of Keras layer <object_detection.core.freezable_batch_norm.FreezableBatchNorm object at 0x7fcada27d310>, because it is not built.\n",
      "W0207 12:32:12.017817 4452617728 save_impl.py:72] Skipping full serialization of Keras layer <object_detection.core.freezable_batch_norm.FreezableBatchNorm object at 0x7fcada27d310>, because it is not built.\n",
      "WARNING:tensorflow:Skipping full serialization of Keras layer <keras.layers.core.lambda_layer.Lambda object at 0x7fcadb2455d0>, because it is not built.\n",
      "W0207 12:32:12.017978 4452617728 save_impl.py:72] Skipping full serialization of Keras layer <keras.layers.core.lambda_layer.Lambda object at 0x7fcadb2455d0>, because it is not built.\n",
      "WARNING:tensorflow:Skipping full serialization of Keras layer <object_detection.core.freezable_batch_norm.FreezableBatchNorm object at 0x7fcadb245790>, because it is not built.\n",
      "W0207 12:32:12.018124 4452617728 save_impl.py:72] Skipping full serialization of Keras layer <object_detection.core.freezable_batch_norm.FreezableBatchNorm object at 0x7fcadb245790>, because it is not built.\n",
      "WARNING:tensorflow:Skipping full serialization of Keras layer <keras.layers.core.lambda_layer.Lambda object at 0x7fcadb245dd0>, because it is not built.\n",
      "W0207 12:32:12.018268 4452617728 save_impl.py:72] Skipping full serialization of Keras layer <keras.layers.core.lambda_layer.Lambda object at 0x7fcadb245dd0>, because it is not built.\n",
      "WARNING:tensorflow:Skipping full serialization of Keras layer <object_detection.core.freezable_batch_norm.FreezableBatchNorm object at 0x7fcada4ad690>, because it is not built.\n",
      "W0207 12:32:12.018367 4452617728 save_impl.py:72] Skipping full serialization of Keras layer <object_detection.core.freezable_batch_norm.FreezableBatchNorm object at 0x7fcada4ad690>, because it is not built.\n",
      "WARNING:tensorflow:Skipping full serialization of Keras layer <keras.layers.core.lambda_layer.Lambda object at 0x7fcada4a3790>, because it is not built.\n",
      "W0207 12:32:12.018561 4452617728 save_impl.py:72] Skipping full serialization of Keras layer <keras.layers.core.lambda_layer.Lambda object at 0x7fcada4a3790>, because it is not built.\n",
      "WARNING:tensorflow:Skipping full serialization of Keras layer <object_detection.core.freezable_batch_norm.FreezableBatchNorm object at 0x7fcada03b0d0>, because it is not built.\n",
      "W0207 12:32:12.018714 4452617728 save_impl.py:72] Skipping full serialization of Keras layer <object_detection.core.freezable_batch_norm.FreezableBatchNorm object at 0x7fcada03b0d0>, because it is not built.\n"
     ]
    },
    {
     "name": "stdout",
     "output_type": "stream",
     "text": [
      "WARNING:tensorflow:Skipping full serialization of Keras layer <keras.layers.core.lambda_layer.Lambda object at 0x7fcadb223950>, because it is not built.\n",
      "W0207 12:32:12.018813 4452617728 save_impl.py:72] Skipping full serialization of Keras layer <keras.layers.core.lambda_layer.Lambda object at 0x7fcadb223950>, because it is not built.\n",
      "WARNING:tensorflow:Skipping full serialization of Keras layer <object_detection.core.freezable_batch_norm.FreezableBatchNorm object at 0x7fcadb223d90>, because it is not built.\n",
      "W0207 12:32:12.018912 4452617728 save_impl.py:72] Skipping full serialization of Keras layer <object_detection.core.freezable_batch_norm.FreezableBatchNorm object at 0x7fcadb223d90>, because it is not built.\n",
      "WARNING:tensorflow:Skipping full serialization of Keras layer <keras.layers.core.lambda_layer.Lambda object at 0x7fcadb223f10>, because it is not built.\n",
      "W0207 12:32:12.019305 4452617728 save_impl.py:72] Skipping full serialization of Keras layer <keras.layers.core.lambda_layer.Lambda object at 0x7fcadb223f10>, because it is not built.\n",
      "WARNING:tensorflow:Skipping full serialization of Keras layer <object_detection.core.freezable_batch_norm.FreezableBatchNorm object at 0x7fcadb2238d0>, because it is not built.\n",
      "W0207 12:32:12.020207 4452617728 save_impl.py:72] Skipping full serialization of Keras layer <object_detection.core.freezable_batch_norm.FreezableBatchNorm object at 0x7fcadb2238d0>, because it is not built.\n",
      "WARNING:tensorflow:Skipping full serialization of Keras layer <keras.layers.core.lambda_layer.Lambda object at 0x7fcadb223550>, because it is not built.\n",
      "W0207 12:32:12.022458 4452617728 save_impl.py:72] Skipping full serialization of Keras layer <keras.layers.core.lambda_layer.Lambda object at 0x7fcadb223550>, because it is not built.\n",
      "WARNING:tensorflow:Skipping full serialization of Keras layer <object_detection.core.freezable_batch_norm.FreezableBatchNorm object at 0x7fcada307990>, because it is not built.\n",
      "W0207 12:32:12.022874 4452617728 save_impl.py:72] Skipping full serialization of Keras layer <object_detection.core.freezable_batch_norm.FreezableBatchNorm object at 0x7fcada307990>, because it is not built.\n",
      "WARNING:tensorflow:Skipping full serialization of Keras layer <keras.layers.core.lambda_layer.Lambda object at 0x7fcad97c2610>, because it is not built.\n",
      "W0207 12:32:12.023128 4452617728 save_impl.py:72] Skipping full serialization of Keras layer <keras.layers.core.lambda_layer.Lambda object at 0x7fcad97c2610>, because it is not built.\n",
      "WARNING:tensorflow:Skipping full serialization of Keras layer <object_detection.core.freezable_batch_norm.FreezableBatchNorm object at 0x7fcada49d910>, because it is not built.\n",
      "W0207 12:32:12.023350 4452617728 save_impl.py:72] Skipping full serialization of Keras layer <object_detection.core.freezable_batch_norm.FreezableBatchNorm object at 0x7fcada49d910>, because it is not built.\n",
      "WARNING:tensorflow:Skipping full serialization of Keras layer <keras.layers.core.lambda_layer.Lambda object at 0x7fcada49ddd0>, because it is not built.\n",
      "W0207 12:32:12.024770 4452617728 save_impl.py:72] Skipping full serialization of Keras layer <keras.layers.core.lambda_layer.Lambda object at 0x7fcada49ddd0>, because it is not built.\n",
      "WARNING:tensorflow:Skipping full serialization of Keras layer <object_detection.core.freezable_batch_norm.FreezableBatchNorm object at 0x7fcada49d150>, because it is not built.\n",
      "W0207 12:32:12.025295 4452617728 save_impl.py:72] Skipping full serialization of Keras layer <object_detection.core.freezable_batch_norm.FreezableBatchNorm object at 0x7fcada49d150>, because it is not built.\n",
      "WARNING:tensorflow:Skipping full serialization of Keras layer <keras.layers.core.lambda_layer.Lambda object at 0x7fcada49d9d0>, because it is not built.\n",
      "W0207 12:32:12.025799 4452617728 save_impl.py:72] Skipping full serialization of Keras layer <keras.layers.core.lambda_layer.Lambda object at 0x7fcada49d9d0>, because it is not built.\n",
      "WARNING:tensorflow:Skipping full serialization of Keras layer <object_detection.core.freezable_batch_norm.FreezableBatchNorm object at 0x7fcada49d5d0>, because it is not built.\n",
      "W0207 12:32:12.032464 4452617728 save_impl.py:72] Skipping full serialization of Keras layer <object_detection.core.freezable_batch_norm.FreezableBatchNorm object at 0x7fcada49d5d0>, because it is not built.\n",
      "WARNING:tensorflow:Skipping full serialization of Keras layer <keras.layers.core.lambda_layer.Lambda object at 0x7fcaf84d0e50>, because it is not built.\n",
      "W0207 12:32:12.032896 4452617728 save_impl.py:72] Skipping full serialization of Keras layer <keras.layers.core.lambda_layer.Lambda object at 0x7fcaf84d0e50>, because it is not built.\n",
      "WARNING:tensorflow:Skipping full serialization of Keras layer <object_detection.core.freezable_batch_norm.FreezableBatchNorm object at 0x7fcada307a90>, because it is not built.\n",
      "W0207 12:32:12.033274 4452617728 save_impl.py:72] Skipping full serialization of Keras layer <object_detection.core.freezable_batch_norm.FreezableBatchNorm object at 0x7fcada307a90>, because it is not built.\n",
      "WARNING:tensorflow:Skipping full serialization of Keras layer <keras.layers.core.lambda_layer.Lambda object at 0x7fcad9ba6ad0>, because it is not built.\n",
      "W0207 12:32:12.033535 4452617728 save_impl.py:72] Skipping full serialization of Keras layer <keras.layers.core.lambda_layer.Lambda object at 0x7fcad9ba6ad0>, because it is not built.\n",
      "WARNING:tensorflow:Skipping full serialization of Keras layer <object_detection.core.freezable_batch_norm.FreezableBatchNorm object at 0x7fcad9ba6610>, because it is not built.\n",
      "W0207 12:32:12.033812 4452617728 save_impl.py:72] Skipping full serialization of Keras layer <object_detection.core.freezable_batch_norm.FreezableBatchNorm object at 0x7fcad9ba6610>, because it is not built.\n",
      "WARNING:tensorflow:Skipping full serialization of Keras layer <keras.layers.core.lambda_layer.Lambda object at 0x7fcad9ba6d90>, because it is not built.\n",
      "W0207 12:32:12.034006 4452617728 save_impl.py:72] Skipping full serialization of Keras layer <keras.layers.core.lambda_layer.Lambda object at 0x7fcad9ba6d90>, because it is not built.\n",
      "WARNING:tensorflow:Skipping full serialization of Keras layer <object_detection.core.freezable_batch_norm.FreezableBatchNorm object at 0x7fcad9ba6cd0>, because it is not built.\n",
      "W0207 12:32:12.034178 4452617728 save_impl.py:72] Skipping full serialization of Keras layer <object_detection.core.freezable_batch_norm.FreezableBatchNorm object at 0x7fcad9ba6cd0>, because it is not built.\n",
      "WARNING:tensorflow:Skipping full serialization of Keras layer <keras.layers.core.lambda_layer.Lambda object at 0x7fcaf841c990>, because it is not built.\n",
      "W0207 12:32:12.034350 4452617728 save_impl.py:72] Skipping full serialization of Keras layer <keras.layers.core.lambda_layer.Lambda object at 0x7fcaf841c990>, because it is not built.\n",
      "WARNING:tensorflow:Skipping full serialization of Keras layer <object_detection.core.freezable_batch_norm.FreezableBatchNorm object at 0x7fcada3074d0>, because it is not built.\n",
      "W0207 12:32:12.034518 4452617728 save_impl.py:72] Skipping full serialization of Keras layer <object_detection.core.freezable_batch_norm.FreezableBatchNorm object at 0x7fcada3074d0>, because it is not built.\n",
      "WARNING:tensorflow:Skipping full serialization of Keras layer <keras.layers.core.lambda_layer.Lambda object at 0x7fcad96d3dd0>, because it is not built.\n",
      "W0207 12:32:12.034683 4452617728 save_impl.py:72] Skipping full serialization of Keras layer <keras.layers.core.lambda_layer.Lambda object at 0x7fcad96d3dd0>, because it is not built.\n",
      "2022-02-07 12:32:36.157569: W tensorflow/python/util/util.cc:368] Sets are not currently considered sequences, but this may change in the future, so consider avoiding using them.\n",
      "W0207 12:33:02.538378 4452617728 save.py:268] Found untraced functions such as WeightSharedConvolutionalBoxPredictor_layer_call_fn, WeightSharedConvolutionalBoxPredictor_layer_call_and_return_conditional_losses, WeightSharedConvolutionalBoxHead_layer_call_fn, WeightSharedConvolutionalBoxHead_layer_call_and_return_conditional_losses, WeightSharedConvolutionalBoxPredictor_layer_call_fn while saving (showing 5 of 260). These functions will not be directly callable after loading.\n"
     ]
    },
    {
     "name": "stdout",
     "output_type": "stream",
     "text": [
      "INFO:tensorflow:Assets written to: Tensorflow/workspace/models/my_ssd_mobnet/export/saved_model/assets\n",
      "I0207 12:33:10.658879 4452617728 builder_impl.py:784] Assets written to: Tensorflow/workspace/models/my_ssd_mobnet/export/saved_model/assets\n",
      "INFO:tensorflow:Writing pipeline config file to Tensorflow/workspace/models/my_ssd_mobnet/export/pipeline.config\n",
      "I0207 12:33:14.123888 4452617728 config_util.py:254] Writing pipeline config file to Tensorflow/workspace/models/my_ssd_mobnet/export/pipeline.config\n"
     ]
    }
   ],
   "source": [
    "!{command}"
   ]
  },
  {
   "cell_type": "code",
   "execution_count": null,
   "id": "24884230",
   "metadata": {},
   "outputs": [],
   "source": []
  },
  {
   "cell_type": "markdown",
   "id": "58a08195",
   "metadata": {},
   "source": [
    "# Exporting to TensorflowJS (TFJS)"
   ]
  },
  {
   "cell_type": "code",
   "execution_count": 45,
   "id": "a529ff36",
   "metadata": {},
   "outputs": [],
   "source": [
    "# !pip install tensorflowjs"
   ]
  },
  {
   "cell_type": "code",
   "execution_count": 46,
   "id": "88882052",
   "metadata": {},
   "outputs": [],
   "source": [
    "tfjs_command = \"tensorflowjs_converter --input_format=tf_saved_model --output_node_names='detection_boxes,detection_classes,detection_features,detection_multiclass_scores,detection_scores,num_detections,raw_detection_boxes,raw_detection_scores' --output_format=tfjs_graph_model --signature_name=serving_default {} {}\".format(os.path.join(paths['OUTPUT_PATH'], 'saved_model'), paths['TFJS_PATH'])\n"
   ]
  },
  {
   "cell_type": "code",
   "execution_count": 47,
   "id": "ba03c189",
   "metadata": {},
   "outputs": [
    {
     "name": "stdout",
     "output_type": "stream",
     "text": [
      "2022-02-07 14:53:53.285850: I tensorflow/core/platform/cpu_feature_guard.cc:151] This TensorFlow binary is optimized with oneAPI Deep Neural Network Library (oneDNN) to use the following CPU instructions in performance-critical operations:  AVX2 FMA\n",
      "To enable them in other operations, rebuild TensorFlow with the appropriate compiler flags.\n",
      "2022-02-07 14:54:10.010489: I tensorflow/core/grappler/devices.cc:75] Number of eligible GPUs (core count >= 8, compute capability >= 0.0): 0 (Note: TensorFlow was not compiled with CUDA or ROCm support)\n",
      "2022-02-07 14:54:10.011271: I tensorflow/core/grappler/clusters/single_machine.cc:358] Starting new session\n",
      "2022-02-07 14:54:10.737058: I tensorflow/core/grappler/optimizers/meta_optimizer.cc:1149] Optimization results for grappler item: graph_to_optimize\n",
      "  function_optimizer: Graph size after: 3654 nodes (3244), 4879 edges (4462), time = 416.41ms.\n",
      "  function_optimizer: function_optimizer did nothing. time = 12.901ms.\n",
      "\n",
      "2022-02-07 14:54:17.700537: I tensorflow/core/grappler/optimizers/meta_optimizer.cc:1149] Optimization results for grappler item: graph_to_optimize\n",
      "  debug_stripper: Graph size after: 3381 nodes (0), 4687 edges (0), time = 62.057ms.\n",
      "  model_pruner: Graph size after: 2933 nodes (-448), 4239 edges (-448), time = 130.166ms.\n",
      "  constant_folding: Graph size after: 1405 nodes (-1528), 2471 edges (-1768), time = 329.127ms.\n",
      "  arithmetic_optimizer: Graph size after: 1421 nodes (16), 2481 edges (10), time = 70.627ms.\n",
      "  dependency_optimizer: Graph size after: 1329 nodes (-92), 1484 edges (-997), time = 43.924ms.\n",
      "  model_pruner: Graph size after: 1329 nodes (0), 1484 edges (0), time = 22.065ms.\n",
      "  constant_folding: Graph size after: 1329 nodes (0), 1484 edges (0), time = 76.114ms.\n",
      "  arithmetic_optimizer: Graph size after: 1329 nodes (0), 1484 edges (0), time = 44.45ms.\n",
      "  dependency_optimizer: Graph size after: 1326 nodes (-3), 1481 edges (-3), time = 38.242ms.\n",
      "  debug_stripper: debug_stripper did nothing. time = 6.661ms.\n",
      "  model_pruner: Graph size after: 1326 nodes (0), 1481 edges (0), time = 20.861ms.\n",
      "  constant_folding: Graph size after: 1326 nodes (0), 1481 edges (0), time = 104.551ms.\n",
      "  arithmetic_optimizer: Graph size after: 1326 nodes (0), 1481 edges (0), time = 80.403ms.\n",
      "  dependency_optimizer: Graph size after: 1326 nodes (0), 1481 edges (0), time = 44.256ms.\n",
      "  model_pruner: Graph size after: 1326 nodes (0), 1481 edges (0), time = 27.763ms.\n",
      "  constant_folding: Graph size after: 1326 nodes (0), 1481 edges (0), time = 87.477ms.\n",
      "  arithmetic_optimizer: Graph size after: 1326 nodes (0), 1481 edges (0), time = 54.275ms.\n",
      "  dependency_optimizer: Graph size after: 1326 nodes (0), 1481 edges (0), time = 53.362ms.\n",
      "\n",
      "2022-02-07 14:54:30.470774: I tensorflow/core/grappler/optimizers/meta_optimizer.cc:1149] Optimization results for grappler item: graph_to_optimize\n",
      "  remapper: Graph size after: 1290 nodes (-112), 1141 edges (-112), time = 58.89ms.\n",
      "  constant_folding: Graph size after: 986 nodes (-304), 1141 edges (0), time = 75.736ms.\n",
      "  arithmetic_optimizer: Graph size after: 986 nodes (0), 1141 edges (0), time = 40.501ms.\n",
      "  dependency_optimizer: Graph size after: 986 nodes (0), 1141 edges (0), time = 26.404ms.\n",
      "  remapper: Graph size after: 986 nodes (0), 1141 edges (0), time = 16.315ms.\n",
      "  constant_folding: Graph size after: 986 nodes (0), 1141 edges (0), time = 55.051ms.\n",
      "  arithmetic_optimizer: Graph size after: 986 nodes (0), 1141 edges (0), time = 39.835ms.\n",
      "  dependency_optimizer: Graph size after: 986 nodes (0), 1141 edges (0), time = 26.29ms.\n",
      "\n",
      "Writing weight file Tensorflow/workspace/models/my_ssd_mobnet/tfjsexport/model.json...\n"
     ]
    }
   ],
   "source": [
    "!{tfjs_command}"
   ]
  },
  {
   "cell_type": "code",
   "execution_count": null,
   "id": "fcf96312",
   "metadata": {},
   "outputs": [],
   "source": []
  }
 ],
 "metadata": {
  "kernelspec": {
   "display_name": "cdenv",
   "language": "python",
   "name": "cdenv"
  },
  "language_info": {
   "codemirror_mode": {
    "name": "ipython",
    "version": 3
   },
   "file_extension": ".py",
   "mimetype": "text/x-python",
   "name": "python",
   "nbconvert_exporter": "python",
   "pygments_lexer": "ipython3",
   "version": "3.7.11"
  }
 },
 "nbformat": 4,
 "nbformat_minor": 5
}
