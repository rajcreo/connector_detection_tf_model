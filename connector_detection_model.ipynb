{
 "cells": [
  {
   "cell_type": "code",
   "execution_count": 2,
   "id": "295603e7",
   "metadata": {},
   "outputs": [],
   "source": [
    "import os"
   ]
  },
  {
   "cell_type": "markdown",
   "id": "235da4ff",
   "metadata": {},
   "source": [
    "# Setup Paths"
   ]
  },
  {
   "cell_type": "code",
   "execution_count": 41,
   "id": "07296d02",
   "metadata": {},
   "outputs": [],
   "source": [
    "CUSTOM_MODEL_NAME = 'my_ssd_mobnet'\n",
    "PRETRAINED_MODEL_NAME = 'ssd_mobilenet_v2_320x320_coco17_tpu-8'\n",
    "PRETRAINED_MODEL_URL = 'http://download.tensorflow.org/models/object_detection/tf2/20200711/ssd_mobilenet_v2_320x320_coco17_tpu-8.tar.gz'\n",
    "TF_RECORD_SCRIPT_NAME = 'generate_tfrecord.py'\n",
    "LABEL_MAP_NAME = 'label_map.pbtxt'"
   ]
  },
  {
   "cell_type": "code",
   "execution_count": 42,
   "id": "18cb6835",
   "metadata": {},
   "outputs": [],
   "source": [
    "os.chdir(\"/Users/riturajsharma/Desktop/placement_job/fabrik/Connector_Detection_App/connector_detection_model\")"
   ]
  },
  {
   "cell_type": "code",
   "execution_count": 43,
   "id": "4df95005",
   "metadata": {},
   "outputs": [],
   "source": [
    "paths = {\n",
    "    'WORKSPACE_PATH': os.path.join('Tensorflow', 'workspace'),\n",
    "    'SCRIPTS_PATH': os.path.join('Tensorflow','scripts'),\n",
    "    'APIMODEL_PATH': os.path.join('Tensorflow','models'),\n",
    "    'ANNOTATION_PATH': os.path.join('Tensorflow', 'workspace','annotations'),\n",
    "    'IMAGE_PATH': os.path.join('Tensorflow', 'workspace','images'),\n",
    "    'MODEL_PATH': os.path.join('Tensorflow', 'workspace','models'),\n",
    "    'PRETRAINED_MODEL_PATH': os.path.join('Tensorflow', 'workspace','pre-trained-models'),\n",
    "    'CHECKPOINT_PATH': os.path.join('Tensorflow', 'workspace','models',CUSTOM_MODEL_NAME), \n",
    "    'OUTPUT_PATH': os.path.join('Tensorflow', 'workspace','models',CUSTOM_MODEL_NAME, 'export'), \n",
    "    'TFJS_PATH':os.path.join('Tensorflow', 'workspace','models',CUSTOM_MODEL_NAME, 'tfjsexport'), \n",
    "    'TFLITE_PATH':os.path.join('Tensorflow', 'workspace','models',CUSTOM_MODEL_NAME, 'tfliteexport'), \n",
    "    'PROTOC_PATH':os.path.join('Tensorflow','protoc')\n",
    " }"
   ]
  },
  {
   "cell_type": "code",
   "execution_count": 44,
   "id": "d6f9d9aa",
   "metadata": {},
   "outputs": [],
   "source": [
    "files = {\n",
    "    'PIPELINE_CONFIG':os.path.join('Tensorflow', 'workspace','models', CUSTOM_MODEL_NAME, 'pipeline.config'),\n",
    "    'TF_RECORD_SCRIPT': os.path.join(paths['SCRIPTS_PATH'], TF_RECORD_SCRIPT_NAME), \n",
    "    'LABELMAP': os.path.join(paths['ANNOTATION_PATH'], LABEL_MAP_NAME)\n",
    "}"
   ]
  },
  {
   "cell_type": "code",
   "execution_count": 45,
   "id": "0c46f2eb",
   "metadata": {},
   "outputs": [],
   "source": [
    "for path in paths.values():\n",
    "    if not os.path.exists(path):\n",
    "        if os.name == 'posix':\n",
    "            !mkdir -p {path}\n",
    "        if os.name == 'nt':\n",
    "            !mkdir {path}"
   ]
  },
  {
   "cell_type": "markdown",
   "id": "d131a689",
   "metadata": {},
   "source": [
    "# Download TF pretrained models from Tensorflow Model Zoo and install Tensorflow Object Detection Model"
   ]
  },
  {
   "cell_type": "code",
   "execution_count": 8,
   "id": "0e9c3152",
   "metadata": {},
   "outputs": [],
   "source": [
    "# !pip install wget\n",
    "import wget\n",
    "# python.__version__\n",
    "# from platform import python_version\n",
    "\n",
    "# print(python_version())"
   ]
  },
  {
   "cell_type": "code",
   "execution_count": 9,
   "id": "5d248a18",
   "metadata": {},
   "outputs": [],
   "source": [
    "# download tensorflow object detection API\n",
    "if not os.path.exists(os.path.join(paths['APIMODEL_PATH'], 'research', 'object_detection')):\n",
    "    !git clone https://github.com/tensorflow/models {paths['APIMODEL_PATH']}"
   ]
  },
  {
   "cell_type": "code",
   "execution_count": 18,
   "id": "f27fa516",
   "metadata": {},
   "outputs": [
    {
     "name": "stdout",
     "output_type": "stream",
     "text": [
      "Processing /Users/riturajsharma/Desktop/placement_job/fabrik/Connector_Detection_App/connector_detection_model/Tensorflow/models/research\n",
      "Collecting avro-python3\n",
      "  Using cached avro-python3-1.10.2.tar.gz (38 kB)\n",
      "Collecting apache-beam\n",
      "  Downloading apache_beam-2.36.0-cp37-cp37m-macosx_10_9_x86_64.whl (4.3 MB)\n",
      "\u001b[K     |████████████████████████████████| 4.3 MB 1.6 MB/s eta 0:00:01\n",
      "\u001b[?25hCollecting pillow\n",
      "  Downloading Pillow-9.0.1-cp37-cp37m-macosx_10_10_x86_64.whl (3.0 MB)\n",
      "\u001b[K     |████████████████████████████████| 3.0 MB 6.3 MB/s eta 0:00:01     |████▉                           | 460 kB 6.3 MB/s eta 0:00:01\n",
      "\u001b[?25hCollecting lxml\n",
      "  Downloading lxml-4.8.0-cp37-cp37m-macosx_10_14_x86_64.whl (4.5 MB)\n",
      "\u001b[K     |████████████████████████████████| 4.5 MB 8.1 MB/s eta 0:00:01     |█████████▊                      | 1.4 MB 8.1 MB/s eta 0:00:01 8.1 MB/s eta 0:00:01\n",
      "\u001b[?25hCollecting matplotlib\n",
      "  Downloading matplotlib-3.5.1-cp37-cp37m-macosx_10_9_x86_64.whl (7.3 MB)\n",
      "\u001b[K     |████████████████████████████████| 7.3 MB 2.3 MB/s eta 0:00:01     |████▏                           | 952 kB 1.9 MB/s eta 0:00:04\n",
      "\u001b[?25hCollecting Cython\n",
      "  Using cached Cython-0.29.28-py2.py3-none-any.whl (983 kB)\n",
      "Collecting contextlib2\n",
      "  Using cached contextlib2-21.6.0-py2.py3-none-any.whl (13 kB)\n",
      "Collecting tf-slim\n",
      "  Using cached tf_slim-1.1.0-py2.py3-none-any.whl (352 kB)\n",
      "Requirement already satisfied: six in /Users/riturajsharma/Desktop/placement_job/fabrik/Connector_Detection_App/connector_detection_model/cdenv/lib/python3.7/site-packages (from object-detection==0.1) (1.16.0)\n",
      "Collecting pycocotools\n",
      "  Using cached pycocotools-2.0.4.tar.gz (106 kB)\n",
      "  Installing build dependencies ... \u001b[?25ldone\n",
      "\u001b[?25h  Getting requirements to build wheel ... \u001b[?25ldone\n",
      "\u001b[?25h    Preparing wheel metadata ... \u001b[?25ldone\n",
      "\u001b[?25hCollecting lvis\n",
      "  Using cached lvis-0.5.3-py3-none-any.whl (14 kB)\n",
      "Collecting scipy\n",
      "  Downloading scipy-1.7.3-cp37-cp37m-macosx_10_9_x86_64.whl (33.0 MB)\n",
      "\u001b[K     |████████████████████████████████| 33.0 MB 9.8 MB/s eta 0:00:01     |█▌                              | 1.5 MB 12.4 MB/s eta 0:00:03     |████████████████████            | 20.7 MB 2.1 MB/s eta 0:00:06\n",
      "\u001b[?25hCollecting pandas\n",
      "  Downloading pandas-1.3.5-cp37-cp37m-macosx_10_9_x86_64.whl (11.0 MB)\n",
      "\u001b[K     |████████████████████████████████| 11.0 MB 15.4 MB/s eta 0:00:017.8 MB 7.4 MB/s eta 0:00:01\n",
      "\u001b[?25hCollecting tf-models-official>=2.5.1\n",
      "  Using cached tf_models_official-2.8.0-py2.py3-none-any.whl (2.2 MB)\n",
      "Collecting tensorflow_io\n",
      "  Downloading tensorflow_io-0.24.0-cp37-cp37m-macosx_10_14_x86_64.whl (24.1 MB)\n",
      "\u001b[K     |████████████████████████████████| 24.1 MB 12.8 MB/s eta 0:00:01    |████████▉                       | 6.7 MB 11.2 MB/s eta 0:00:02  | 8.9 MB 11.2 MB/s eta 0:00:02     |██████████████████████████▍     | 19.9 MB 12.8 MB/s eta 0:00:01��██████████████████████████ | 23.3 MB 12.8 MB/s eta 0:00:01\n",
      "\u001b[?25hRequirement already satisfied: keras in /Users/riturajsharma/Desktop/placement_job/fabrik/Connector_Detection_App/connector_detection_model/cdenv/lib/python3.7/site-packages (from object-detection==0.1) (2.7.0)\n",
      "Collecting pyarrow<7.0.0,>=0.15.1\n",
      "  Downloading pyarrow-6.0.1-cp37-cp37m-macosx_10_13_x86_64.whl (19.1 MB)\n",
      "\u001b[K     |████████████████████████████████| 19.1 MB 3.0 MB/s eta 0:00:01    |▌                               | 286 kB 7.0 MB/s eta 0:00:03     |██▋                             | 1.6 MB 7.0 MB/s eta 0:00:03     |███████████▊                    | 7.0 MB 7.0 MB/s eta 0:00:02\n",
      "\u001b[?25hRequirement already satisfied: numpy<1.22.0,>=1.14.3 in /Users/riturajsharma/Desktop/placement_job/fabrik/Connector_Detection_App/connector_detection_model/cdenv/lib/python3.7/site-packages (from apache-beam->object-detection==0.1) (1.21.5)\n",
      "Collecting proto-plus<2,>=1.7.1\n",
      "  Downloading proto_plus-1.20.2-py3-none-any.whl (45 kB)\n",
      "\u001b[K     |████████████████████████████████| 45 kB 2.2 MB/s eta 0:00:01\n",
      "\u001b[?25hCollecting oauth2client<5,>=2.0.1\n",
      "  Using cached oauth2client-4.1.3-py2.py3-none-any.whl (98 kB)\n",
      "Collecting pymongo<4.0.0,>=3.8.0\n",
      "  Downloading pymongo-3.12.3-cp37-cp37m-macosx_10_6_intel.whl (429 kB)\n",
      "\u001b[K     |████████████████████████████████| 429 kB 7.7 MB/s eta 0:00:01\n",
      "\u001b[?25hCollecting dill<0.3.2,>=0.3.1.1\n",
      "  Using cached dill-0.3.1.1.tar.gz (151 kB)\n",
      "Requirement already satisfied: protobuf<4,>=3.12.2 in /Users/riturajsharma/Desktop/placement_job/fabrik/Connector_Detection_App/connector_detection_model/cdenv/lib/python3.7/site-packages (from apache-beam->object-detection==0.1) (3.19.4)\n",
      "Collecting cloudpickle<3,>=2.0.0\n",
      "  Using cached cloudpickle-2.0.0-py3-none-any.whl (25 kB)\n",
      "Collecting pytz>=2018.3\n",
      "  Using cached pytz-2021.3-py2.py3-none-any.whl (503 kB)\n",
      "Collecting fastavro<2,>=0.21.4\n",
      "  Downloading fastavro-1.4.9-cp37-cp37m-macosx_10_14_x86_64.whl (477 kB)\n",
      "\u001b[K     |████████████████████████████████| 477 kB 2.3 MB/s eta 0:00:01\n",
      "\u001b[?25hCollecting crcmod<2.0,>=1.7\n",
      "  Using cached crcmod-1.7.tar.gz (89 kB)\n",
      "Collecting pydot<2,>=1.2.0\n",
      "  Using cached pydot-1.4.2-py2.py3-none-any.whl (21 kB)\n",
      "Collecting hdfs<3.0.0,>=2.1.0\n",
      "  Using cached hdfs-2.6.0-py3-none-any.whl (33 kB)\n",
      "Collecting httplib2<0.20.0,>=0.8\n",
      "  Using cached httplib2-0.19.1-py3-none-any.whl (95 kB)\n",
      "Requirement already satisfied: requests<3.0.0,>=2.24.0 in /Users/riturajsharma/Desktop/placement_job/fabrik/Connector_Detection_App/connector_detection_model/cdenv/lib/python3.7/site-packages (from apache-beam->object-detection==0.1) (2.27.1)\n",
      "Collecting orjson<4.0\n",
      "  Downloading orjson-3.6.7-cp37-cp37m-macosx_10_9_x86_64.macosx_11_0_arm64.macosx_10_9_universal2.whl (453 kB)\n",
      "\u001b[K     |████████████████████████████████| 453 kB 7.2 MB/s eta 0:00:01\n",
      "\u001b[?25hRequirement already satisfied: grpcio<2,>=1.29.0 in /Users/riturajsharma/Desktop/placement_job/fabrik/Connector_Detection_App/connector_detection_model/cdenv/lib/python3.7/site-packages (from apache-beam->object-detection==0.1) (1.44.0)\n",
      "Requirement already satisfied: python-dateutil<3,>=2.8.0 in /Users/riturajsharma/Desktop/placement_job/fabrik/Connector_Detection_App/connector_detection_model/cdenv/lib/python3.7/site-packages (from apache-beam->object-detection==0.1) (2.8.2)\n",
      "Requirement already satisfied: typing-extensions>=3.7.0 in /Users/riturajsharma/Desktop/placement_job/fabrik/Connector_Detection_App/connector_detection_model/cdenv/lib/python3.7/site-packages (from apache-beam->object-detection==0.1) (4.1.1)\n",
      "Collecting pyparsing>=2.2.1\n",
      "  Using cached pyparsing-3.0.7-py3-none-any.whl (98 kB)\n",
      "Collecting cycler>=0.10\n",
      "  Using cached cycler-0.11.0-py3-none-any.whl (6.4 kB)\n",
      "Collecting kiwisolver>=1.0.1\n",
      "  Downloading kiwisolver-1.3.2-cp37-cp37m-macosx_10_9_x86_64.whl (61 kB)\n",
      "\u001b[K     |████████████████████████████████| 61 kB 30 kB/s  eta 0:00:01\n",
      "\u001b[?25hCollecting packaging>=20.0\n",
      "  Using cached packaging-21.3-py3-none-any.whl (40 kB)\n",
      "Collecting fonttools>=4.22.0\n",
      "  Using cached fonttools-4.29.1-py3-none-any.whl (895 kB)\n",
      "Requirement already satisfied: absl-py>=0.2.2 in /Users/riturajsharma/Desktop/placement_job/fabrik/Connector_Detection_App/connector_detection_model/cdenv/lib/python3.7/site-packages (from tf-slim->object-detection==0.1) (1.0.0)\n",
      "Collecting opencv-python>=4.1.0.25\n",
      "  Using cached opencv_python-4.5.5.62-cp36-abi3-macosx_10_15_x86_64.whl (46.0 MB)\n",
      "Collecting tensorflow-datasets\n",
      "  Using cached tensorflow_datasets-4.5.2-py3-none-any.whl (4.2 MB)\n",
      "Collecting google-api-python-client>=1.6.7\n",
      "  Using cached google_api_python_client-2.37.0-py2.py3-none-any.whl (8.1 MB)\n",
      "Collecting kaggle>=1.3.9\n",
      "  Using cached kaggle-1.5.12.tar.gz (58 kB)\n",
      "Collecting tensorflow-hub>=0.6.0\n",
      "  Using cached tensorflow_hub-0.12.0-py2.py3-none-any.whl (108 kB)\n",
      "Collecting tensorflow-text~=2.8.0\n",
      "  Downloading tensorflow_text-2.8.1-cp37-cp37m-macosx_10_9_x86_64.whl (4.0 MB)\n",
      "\u001b[K     |████████████████████████████████| 4.0 MB 2.7 MB/s eta 0:00:01\n",
      "\u001b[?25hCollecting opencv-python-headless\n",
      "  Using cached opencv_python_headless-4.5.5.62-cp36-abi3-macosx_10_15_x86_64.whl (46.0 MB)\n",
      "Collecting seqeval\n",
      "  Using cached seqeval-1.2.2.tar.gz (43 kB)\n",
      "Collecting psutil>=5.4.3\n",
      "  Downloading psutil-5.9.0-cp37-cp37m-macosx_10_9_x86_64.whl (238 kB)\n",
      "\u001b[K     |████████████████████████████████| 238 kB 7.6 MB/s eta 0:00:01\n",
      "\u001b[?25hCollecting py-cpuinfo>=3.3.0\n",
      "  Using cached py-cpuinfo-8.0.0.tar.gz (99 kB)\n",
      "Collecting gin-config\n",
      "  Using cached gin_config-0.5.0-py3-none-any.whl (61 kB)\n",
      "Collecting tensorflow-addons\n",
      "  Downloading tensorflow_addons-0.16.1-cp37-cp37m-macosx_10_15_x86_64.whl (588 kB)\n",
      "\u001b[K     |████████████████████████████████| 588 kB 3.8 MB/s eta 0:00:01\n",
      "\u001b[?25hCollecting tensorflow~=2.8.0\n",
      "  Downloading tensorflow-2.8.0-cp37-cp37m-macosx_10_14_x86_64.whl (217.4 MB)\n",
      "\u001b[K     |████████████████████████████████| 217.4 MB 783 bytes/s  0:00:013  |▎                               | 1.8 MB 9.0 MB/s eta 0:00:24     |██▊                             | 18.2 MB 1.2 MB/s eta 0:02:53     |████▉                           | 32.6 MB 6.9 MB/s eta 0:00:27     |████▉                           | 32.9 MB 6.9 MB/s eta 0:00:27     |█████▋                          | 38.0 MB 8.3 MB/s eta 0:00:22     |█████▋                          | 38.2 MB 8.3 MB/s eta 0:00:22     |█████▊                          | 39.1 MB 8.3 MB/s eta 0:00:22     |███████▌                        | 50.8 MB 9.4 MB/s eta 0:00:18     |████████▋                       | 58.5 MB 8.6 MB/s eta 0:00:19     |██████████▏                     | 69.1 MB 8.3 MB/s eta 0:00:18     |██████████▉                     | 73.4 MB 10.4 MB/s eta 0:00:14     |██████████████████▍             | 124.9 MB 5.0 MB/s eta 0:00:19     |██████████████████▉             | 128.1 MB 8.1 MB/s eta 0:00:12██████████████             | 129.3 MB 8.1 MB/s eta 0:00:11��█████████████████             | 129.7 MB 8.1 MB/s eta 0:00:1107     |███████████████████▊            | 134.0 MB 12.8 MB/s eta 0:00:07     |████████████████████▉           | 141.6 MB 2.1 MB/s eta 0:00:36     |█████████████████████▋          | 147.0 MB 4.5 MB/s eta 0:00:16     |██████████████████████▍         | 152.0 MB 324 kB/s eta 0:03:22�██         | 156.6 MB 324 kB/s eta 0:03:08     |███████████████████████▊        | 161.4 MB 21.8 MB/s eta 0:00:03�████████████████████▉      | 175.7 MB 6.1 MB/s eta 0:00:07     |██████████████████████████▌     | 179.9 MB 11.5 MB/s eta 0:00:04     |██████████████████████████▉     | 182.0 MB 11.5 MB/s eta 0:00:04     |██████████████████████████▉     | 182.6 MB 11.5 MB/s eta 0:00:04 0:00:08MB/s eta 0:00:08     |████████████████████████████▏   | 191.5 MB 4.0 MB/s eta 0:00:07     |█████████████████████████████▊  | 201.9 MB 2.5 MB/s eta 0:00:07     |███████████████████████████████ | 211.2 MB 2.6 MB/s eta 0:00:03     |███████████████████████████████▎| 212.8 MB 2.6 MB/s eta 0:00:02\n",
      "\u001b[?25hCollecting pyyaml<6.0,>=5.1\n",
      "  Downloading PyYAML-5.4.1-cp37-cp37m-macosx_10_9_x86_64.whl (249 kB)\n",
      "\u001b[K     |████████████████████████████████| 249 kB 4.9 MB/s eta 0:00:01\n",
      "\u001b[?25hCollecting sentencepiece\n",
      "  Downloading sentencepiece-0.1.96-cp37-cp37m-macosx_10_6_x86_64.whl (1.1 MB)\n",
      "\u001b[K     |████████████████████████████████| 1.1 MB 8.4 MB/s eta 0:00:01\n",
      "\u001b[?25hCollecting tensorflow-model-optimization>=0.4.1\n",
      "  Using cached tensorflow_model_optimization-0.7.1-py2.py3-none-any.whl (234 kB)\n",
      "Collecting sacrebleu\n",
      "  Using cached sacrebleu-2.0.0-py3-none-any.whl (90 kB)\n",
      "Requirement already satisfied: tensorflow-io-gcs-filesystem==0.24.0 in /Users/riturajsharma/Desktop/placement_job/fabrik/Connector_Detection_App/connector_detection_model/cdenv/lib/python3.7/site-packages (from tensorflow_io->object-detection==0.1) (0.24.0)\n",
      "Requirement already satisfied: pyasn1>=0.1.7 in /Users/riturajsharma/Desktop/placement_job/fabrik/Connector_Detection_App/connector_detection_model/cdenv/lib/python3.7/site-packages (from oauth2client<5,>=2.0.1->apache-beam->object-detection==0.1) (0.4.8)\n",
      "Requirement already satisfied: rsa>=3.1.4 in /Users/riturajsharma/Desktop/placement_job/fabrik/Connector_Detection_App/connector_detection_model/cdenv/lib/python3.7/site-packages (from oauth2client<5,>=2.0.1->apache-beam->object-detection==0.1) (4.8)\n",
      "Requirement already satisfied: pyasn1-modules>=0.0.5 in /Users/riturajsharma/Desktop/placement_job/fabrik/Connector_Detection_App/connector_detection_model/cdenv/lib/python3.7/site-packages (from oauth2client<5,>=2.0.1->apache-beam->object-detection==0.1) (0.2.8)\n",
      "Collecting docopt\n",
      "  Using cached docopt-0.6.2.tar.gz (25 kB)\n",
      "Requirement already satisfied: charset-normalizer~=2.0.0; python_version >= \"3\" in /Users/riturajsharma/Desktop/placement_job/fabrik/Connector_Detection_App/connector_detection_model/cdenv/lib/python3.7/site-packages (from requests<3.0.0,>=2.24.0->apache-beam->object-detection==0.1) (2.0.12)\n",
      "Requirement already satisfied: urllib3<1.27,>=1.21.1 in /Users/riturajsharma/Desktop/placement_job/fabrik/Connector_Detection_App/connector_detection_model/cdenv/lib/python3.7/site-packages (from requests<3.0.0,>=2.24.0->apache-beam->object-detection==0.1) (1.26.8)\n",
      "Requirement already satisfied: idna<4,>=2.5; python_version >= \"3\" in /Users/riturajsharma/Desktop/placement_job/fabrik/Connector_Detection_App/connector_detection_model/cdenv/lib/python3.7/site-packages (from requests<3.0.0,>=2.24.0->apache-beam->object-detection==0.1) (3.3)\n",
      "Requirement already satisfied: certifi>=2017.4.17 in /Users/riturajsharma/Desktop/placement_job/fabrik/Connector_Detection_App/connector_detection_model/cdenv/lib/python3.7/site-packages (from requests<3.0.0,>=2.24.0->apache-beam->object-detection==0.1) (2021.10.8)\n",
      "Collecting tqdm\n",
      "  Using cached tqdm-4.62.3-py2.py3-none-any.whl (76 kB)\n",
      "Collecting promise\n",
      "  Using cached promise-2.3.tar.gz (19 kB)\n",
      "Collecting tensorflow-metadata\n",
      "  Using cached tensorflow_metadata-1.6.0-py3-none-any.whl (48 kB)\n",
      "Requirement already satisfied: termcolor in /Users/riturajsharma/Desktop/placement_job/fabrik/Connector_Detection_App/connector_detection_model/cdenv/lib/python3.7/site-packages (from tensorflow-datasets->tf-models-official>=2.5.1->object-detection==0.1) (1.1.0)\n",
      "Collecting importlib-resources; python_version < \"3.9\"\n",
      "  Using cached importlib_resources-5.4.0-py3-none-any.whl (28 kB)\n",
      "Collecting google-auth-httplib2>=0.1.0\n",
      "  Using cached google_auth_httplib2-0.1.0-py2.py3-none-any.whl (9.3 kB)\n",
      "Requirement already satisfied: google-auth<3.0.0dev,>=1.16.0 in /Users/riturajsharma/Desktop/placement_job/fabrik/Connector_Detection_App/connector_detection_model/cdenv/lib/python3.7/site-packages (from google-api-python-client>=1.6.7->tf-models-official>=2.5.1->object-detection==0.1) (2.6.0)\n",
      "Collecting google-api-core<3.0.0dev,>=1.21.0\n",
      "  Using cached google_api_core-2.5.0-py2.py3-none-any.whl (111 kB)\n",
      "Collecting uritemplate<5,>=3.0.1\n",
      "  Using cached uritemplate-4.1.1-py2.py3-none-any.whl (10 kB)\n",
      "Collecting python-slugify\n",
      "  Using cached python_slugify-6.0.1-py2.py3-none-any.whl (9.0 kB)\n",
      "Collecting scikit-learn>=0.21.3\n",
      "  Downloading scikit_learn-1.0.2-cp37-cp37m-macosx_10_13_x86_64.whl (7.8 MB)\n",
      "\u001b[K     |████████████████████████████████| 7.8 MB 15.4 MB/s eta 0:00:01    |███▏                            | 778 kB 6.0 MB/s eta 0:00:02\n",
      "\u001b[?25hCollecting typeguard>=2.7\n",
      "  Using cached typeguard-2.13.3-py3-none-any.whl (17 kB)\n",
      "Requirement already satisfied: google-pasta>=0.1.1 in /Users/riturajsharma/Desktop/placement_job/fabrik/Connector_Detection_App/connector_detection_model/cdenv/lib/python3.7/site-packages (from tensorflow~=2.8.0->tf-models-official>=2.5.1->object-detection==0.1) (0.2.0)\n",
      "Requirement already satisfied: flatbuffers>=1.12 in /Users/riturajsharma/Desktop/placement_job/fabrik/Connector_Detection_App/connector_detection_model/cdenv/lib/python3.7/site-packages (from tensorflow~=2.8.0->tf-models-official>=2.5.1->object-detection==0.1) (2.0)\n",
      "Requirement already satisfied: keras-preprocessing>=1.1.1 in /Users/riturajsharma/Desktop/placement_job/fabrik/Connector_Detection_App/connector_detection_model/cdenv/lib/python3.7/site-packages (from tensorflow~=2.8.0->tf-models-official>=2.5.1->object-detection==0.1) (1.1.2)\n",
      "Requirement already satisfied: setuptools in /Users/riturajsharma/Desktop/placement_job/fabrik/Connector_Detection_App/connector_detection_model/cdenv/lib/python3.7/site-packages (from tensorflow~=2.8.0->tf-models-official>=2.5.1->object-detection==0.1) (60.9.2)\n",
      "Requirement already satisfied: wrapt>=1.11.0 in /Users/riturajsharma/Desktop/placement_job/fabrik/Connector_Detection_App/connector_detection_model/cdenv/lib/python3.7/site-packages (from tensorflow~=2.8.0->tf-models-official>=2.5.1->object-detection==0.1) (1.13.3)\n",
      "Requirement already satisfied: opt-einsum>=2.3.2 in /Users/riturajsharma/Desktop/placement_job/fabrik/Connector_Detection_App/connector_detection_model/cdenv/lib/python3.7/site-packages (from tensorflow~=2.8.0->tf-models-official>=2.5.1->object-detection==0.1) (3.3.0)\n",
      "Requirement already satisfied: gast>=0.2.1 in /Users/riturajsharma/Desktop/placement_job/fabrik/Connector_Detection_App/connector_detection_model/cdenv/lib/python3.7/site-packages (from tensorflow~=2.8.0->tf-models-official>=2.5.1->object-detection==0.1) (0.4.0)\n",
      "Requirement already satisfied: libclang>=9.0.1 in /Users/riturajsharma/Desktop/placement_job/fabrik/Connector_Detection_App/connector_detection_model/cdenv/lib/python3.7/site-packages (from tensorflow~=2.8.0->tf-models-official>=2.5.1->object-detection==0.1) (13.0.0)\n",
      "Requirement already satisfied: tensorboard<2.9,>=2.8 in /Users/riturajsharma/Desktop/placement_job/fabrik/Connector_Detection_App/connector_detection_model/cdenv/lib/python3.7/site-packages (from tensorflow~=2.8.0->tf-models-official>=2.5.1->object-detection==0.1) (2.8.0)\n",
      "Requirement already satisfied: h5py>=2.9.0 in /Users/riturajsharma/Desktop/placement_job/fabrik/Connector_Detection_App/connector_detection_model/cdenv/lib/python3.7/site-packages (from tensorflow~=2.8.0->tf-models-official>=2.5.1->object-detection==0.1) (3.6.0)\n",
      "Collecting tf-estimator-nightly==2.8.0.dev2021122109\n",
      "  Using cached tf_estimator_nightly-2.8.0.dev2021122109-py2.py3-none-any.whl (462 kB)\n",
      "Requirement already satisfied: astunparse>=1.6.0 in /Users/riturajsharma/Desktop/placement_job/fabrik/Connector_Detection_App/connector_detection_model/cdenv/lib/python3.7/site-packages (from tensorflow~=2.8.0->tf-models-official>=2.5.1->object-detection==0.1) (1.6.3)\n",
      "Collecting dm-tree~=0.1.1\n",
      "  Downloading dm_tree-0.1.6-cp37-cp37m-macosx_10_14_x86_64.whl (94 kB)\n",
      "\u001b[K     |████████████████████████████████| 94 kB 2.5 MB/s eta 0:00:01\n",
      "\u001b[?25hCollecting portalocker\n",
      "  Using cached portalocker-2.4.0-py2.py3-none-any.whl (16 kB)\n",
      "Collecting colorama\n",
      "  Using cached colorama-0.4.4-py2.py3-none-any.whl (16 kB)\n",
      "Collecting tabulate>=0.8.9\n",
      "  Using cached tabulate-0.8.9-py3-none-any.whl (25 kB)\n",
      "Collecting regex\n",
      "  Downloading regex-2022.1.18-cp37-cp37m-macosx_10_9_x86_64.whl (289 kB)\n",
      "\u001b[K     |████████████████████████████████| 289 kB 6.7 MB/s eta 0:00:01\n",
      "\u001b[?25hCollecting googleapis-common-protos<2,>=1.52.0\n",
      "  Using cached googleapis_common_protos-1.54.0-py2.py3-none-any.whl (207 kB)\n",
      "Requirement already satisfied: zipp>=3.1.0; python_version < \"3.10\" in /Users/riturajsharma/Desktop/placement_job/fabrik/Connector_Detection_App/connector_detection_model/cdenv/lib/python3.7/site-packages (from importlib-resources; python_version < \"3.9\"->tensorflow-datasets->tf-models-official>=2.5.1->object-detection==0.1) (3.7.0)\n",
      "Requirement already satisfied: cachetools<6.0,>=2.0.0 in /Users/riturajsharma/Desktop/placement_job/fabrik/Connector_Detection_App/connector_detection_model/cdenv/lib/python3.7/site-packages (from google-auth<3.0.0dev,>=1.16.0->google-api-python-client>=1.6.7->tf-models-official>=2.5.1->object-detection==0.1) (5.0.0)\n",
      "Collecting text-unidecode>=1.3\n",
      "  Using cached text_unidecode-1.3-py2.py3-none-any.whl (78 kB)\n",
      "Collecting joblib>=0.11\n",
      "  Using cached joblib-1.1.0-py2.py3-none-any.whl (306 kB)\n",
      "Collecting threadpoolctl>=2.0.0\n",
      "  Using cached threadpoolctl-3.1.0-py3-none-any.whl (14 kB)\n",
      "Requirement already satisfied: tensorboard-plugin-wit>=1.6.0 in /Users/riturajsharma/Desktop/placement_job/fabrik/Connector_Detection_App/connector_detection_model/cdenv/lib/python3.7/site-packages (from tensorboard<2.9,>=2.8->tensorflow~=2.8.0->tf-models-official>=2.5.1->object-detection==0.1) (1.8.1)\n",
      "Requirement already satisfied: google-auth-oauthlib<0.5,>=0.4.1 in /Users/riturajsharma/Desktop/placement_job/fabrik/Connector_Detection_App/connector_detection_model/cdenv/lib/python3.7/site-packages (from tensorboard<2.9,>=2.8->tensorflow~=2.8.0->tf-models-official>=2.5.1->object-detection==0.1) (0.4.6)\n",
      "Requirement already satisfied: markdown>=2.6.8 in /Users/riturajsharma/Desktop/placement_job/fabrik/Connector_Detection_App/connector_detection_model/cdenv/lib/python3.7/site-packages (from tensorboard<2.9,>=2.8->tensorflow~=2.8.0->tf-models-official>=2.5.1->object-detection==0.1) (3.3.6)\n",
      "Requirement already satisfied: tensorboard-data-server<0.7.0,>=0.6.0 in /Users/riturajsharma/Desktop/placement_job/fabrik/Connector_Detection_App/connector_detection_model/cdenv/lib/python3.7/site-packages (from tensorboard<2.9,>=2.8->tensorflow~=2.8.0->tf-models-official>=2.5.1->object-detection==0.1) (0.6.1)\n",
      "Requirement already satisfied: werkzeug>=0.11.15 in /Users/riturajsharma/Desktop/placement_job/fabrik/Connector_Detection_App/connector_detection_model/cdenv/lib/python3.7/site-packages (from tensorboard<2.9,>=2.8->tensorflow~=2.8.0->tf-models-official>=2.5.1->object-detection==0.1) (2.0.3)\n",
      "Requirement already satisfied: wheel>=0.26 in /Users/riturajsharma/Desktop/placement_job/fabrik/Connector_Detection_App/connector_detection_model/cdenv/lib/python3.7/site-packages (from tensorboard<2.9,>=2.8->tensorflow~=2.8.0->tf-models-official>=2.5.1->object-detection==0.1) (0.37.1)\n",
      "Requirement already satisfied: cached-property; python_version < \"3.8\" in /Users/riturajsharma/Desktop/placement_job/fabrik/Connector_Detection_App/connector_detection_model/cdenv/lib/python3.7/site-packages (from h5py>=2.9.0->tensorflow~=2.8.0->tf-models-official>=2.5.1->object-detection==0.1) (1.5.2)\n",
      "Requirement already satisfied: requests-oauthlib>=0.7.0 in /Users/riturajsharma/Desktop/placement_job/fabrik/Connector_Detection_App/connector_detection_model/cdenv/lib/python3.7/site-packages (from google-auth-oauthlib<0.5,>=0.4.1->tensorboard<2.9,>=2.8->tensorflow~=2.8.0->tf-models-official>=2.5.1->object-detection==0.1) (1.3.1)\n",
      "Requirement already satisfied: importlib-metadata>=4.4; python_version < \"3.10\" in /Users/riturajsharma/Desktop/placement_job/fabrik/Connector_Detection_App/connector_detection_model/cdenv/lib/python3.7/site-packages (from markdown>=2.6.8->tensorboard<2.9,>=2.8->tensorflow~=2.8.0->tf-models-official>=2.5.1->object-detection==0.1) (4.11.1)\n",
      "Requirement already satisfied: oauthlib>=3.0.0 in /Users/riturajsharma/Desktop/placement_job/fabrik/Connector_Detection_App/connector_detection_model/cdenv/lib/python3.7/site-packages (from requests-oauthlib>=0.7.0->google-auth-oauthlib<0.5,>=0.4.1->tensorboard<2.9,>=2.8->tensorflow~=2.8.0->tf-models-official>=2.5.1->object-detection==0.1) (3.2.0)\n",
      "Building wheels for collected packages: object-detection, avro-python3, pycocotools, dill, crcmod, kaggle, seqeval, py-cpuinfo, docopt, promise\n",
      "  Building wheel for object-detection (setup.py) ... \u001b[?25ldone\n",
      "\u001b[?25h  Created wheel for object-detection: filename=object_detection-0.1-py3-none-any.whl size=1653374 sha256=1cde8c664b75b577894b6ecdbbde6bb6a7faa794e3a1a36712843878e17a7ffa\n",
      "  Stored in directory: /private/var/folders/4h/8rvcyk3d6rvb9xzp5jsy191h0000gn/T/pip-ephem-wheel-cache-24bu5315/wheels/ab/44/06/14f09dc75378caecaf2a833ee2ce4bd670116b7c42133982be\n",
      "  Building wheel for avro-python3 (setup.py) ... \u001b[?25ldone\n",
      "\u001b[?25h  Created wheel for avro-python3: filename=avro_python3-1.10.2-py3-none-any.whl size=44010 sha256=b7189a207fc099efc925d207046b490aad5a5b5e0f230879ab5f42ed534bf990\n",
      "  Stored in directory: /Users/riturajsharma/Library/Caches/pip/wheels/d6/e5/b1/6b151d9b535ee50aaa6ab27d145a0104b6df02e5636f0376da\n",
      "  Building wheel for pycocotools (PEP 517) ... \u001b[?25ldone\n",
      "\u001b[?25h  Created wheel for pycocotools: filename=pycocotools-2.0.4-cp37-cp37m-macosx_10_9_x86_64.whl size=88539 sha256=948fd26f08400e2f4a73ccd534102b0d0ff0b58ed14ea98052d302002d64e45d\n",
      "  Stored in directory: /Users/riturajsharma/Library/Caches/pip/wheels/a3/5f/fa/f011e578cc76e1fc5be8dce30b3eb9fd00f337e744b3bba59b\n",
      "  Building wheel for dill (setup.py) ... \u001b[?25ldone\n",
      "\u001b[?25h  Created wheel for dill: filename=dill-0.3.1.1-py3-none-any.whl size=78544 sha256=1d775beff8c55ccf16b4eebadc6c98dd5a662da0835198e19a2e852d2b54e0fd\n",
      "  Stored in directory: /Users/riturajsharma/Library/Caches/pip/wheels/a4/61/fd/c57e374e580aa78a45ed78d5859b3a44436af17e22ca53284f\n",
      "  Building wheel for crcmod (setup.py) ... \u001b[?25ldone\n",
      "\u001b[?25h  Created wheel for crcmod: filename=crcmod-1.7-cp37-cp37m-macosx_10_9_x86_64.whl size=22318 sha256=32cc4c1460f04c18248b35161d1c6d758a2de1a36459ed7f76e0b28ebcde9537\n",
      "  Stored in directory: /Users/riturajsharma/Library/Caches/pip/wheels/dc/9a/e9/49e627353476cec8484343c4ab656f1e0d783ee77b9dde2d1f\n",
      "  Building wheel for kaggle (setup.py) ... \u001b[?25ldone\n",
      "\u001b[?25h  Created wheel for kaggle: filename=kaggle-1.5.12-py3-none-any.whl size=73049 sha256=8797bf4db69deb13b75c2ce917f2897917fa14051cedcd3ff229d8cd9a8fc8a8\n",
      "  Stored in directory: /Users/riturajsharma/Library/Caches/pip/wheels/62/d6/58/5853130f941e75b2177d281eb7e44b4a98ed46dd155f556dc5\n",
      "  Building wheel for seqeval (setup.py) ... \u001b[?25ldone\n",
      "\u001b[?25h  Created wheel for seqeval: filename=seqeval-1.2.2-py3-none-any.whl size=16180 sha256=3f2dd2a47e93521f60059efc262f680ba62fb85094de4fb4b8d029b6b6a54940\n",
      "  Stored in directory: /Users/riturajsharma/Library/Caches/pip/wheels/05/96/ee/7cac4e74f3b19e3158dce26a20a1c86b3533c43ec72a549fd7\n",
      "  Building wheel for py-cpuinfo (setup.py) ... \u001b[?25ldone\n",
      "\u001b[?25h  Created wheel for py-cpuinfo: filename=py_cpuinfo-8.0.0-py3-none-any.whl size=22258 sha256=f04a788a33ba7f5157ba761b211b446970f472fff8b4a2191c060e3048828494\n",
      "  Stored in directory: /Users/riturajsharma/Library/Caches/pip/wheels/d2/f1/1f/041add21dc9c4220157f1bd2bd6afe1f1a49524c3396b94401\n",
      "  Building wheel for docopt (setup.py) ... \u001b[?25ldone\n",
      "\u001b[?25h  Created wheel for docopt: filename=docopt-0.6.2-py2.py3-none-any.whl size=13723 sha256=e4fe615e1bde5bf7b79199459cda2d536dd5a70eb407772909842553ae233a55\n",
      "  Stored in directory: /Users/riturajsharma/Library/Caches/pip/wheels/72/b0/3f/1d95f96ff986c7dfffe46ce2be4062f38ebd04b506c77c81b9\n",
      "  Building wheel for promise (setup.py) ... \u001b[?25ldone\n",
      "\u001b[?25h  Created wheel for promise: filename=promise-2.3-py3-none-any.whl size=21503 sha256=a5cf9144c8226d7f302dccda4b039fc701bd000cec225678a0abde6c699cf3d3\n",
      "  Stored in directory: /Users/riturajsharma/Library/Caches/pip/wheels/29/93/c6/762e359f8cb6a5b69c72235d798804cae523bbe41c2aa8333d\n",
      "Successfully built object-detection avro-python3 pycocotools dill crcmod kaggle seqeval py-cpuinfo docopt promise\n",
      "\u001b[31mERROR: tensorflow 2.8.0 has requirement keras<2.9,>=2.8.0rc0, but you'll have keras 2.7.0 which is incompatible.\u001b[0m\n",
      "\u001b[31mERROR: httplib2 0.19.1 has requirement pyparsing<3,>=2.4.2, but you'll have pyparsing 3.0.7 which is incompatible.\u001b[0m\n",
      "Installing collected packages: avro-python3, pyarrow, proto-plus, pyparsing, httplib2, oauth2client, pymongo, dill, cloudpickle, pytz, fastavro, crcmod, pydot, docopt, hdfs, orjson, apache-beam, pillow, lxml, cycler, kiwisolver, packaging, fonttools, matplotlib, Cython, contextlib2, tf-slim, pycocotools, opencv-python, lvis, scipy, pandas, tqdm, promise, googleapis-common-protos, tensorflow-metadata, importlib-resources, tensorflow-datasets, google-auth-httplib2, google-api-core, uritemplate, google-api-python-client, text-unidecode, python-slugify, kaggle, tensorflow-hub, tf-estimator-nightly, tensorflow, tensorflow-text, opencv-python-headless, joblib, threadpoolctl, scikit-learn, seqeval, psutil, py-cpuinfo, gin-config, typeguard, tensorflow-addons, pyyaml, sentencepiece, dm-tree, tensorflow-model-optimization, portalocker, colorama, tabulate, regex, sacrebleu, tf-models-official, tensorflow-io, object-detection\n",
      "  Attempting uninstall: tensorflow\n",
      "    Found existing installation: tensorflow 2.7.0\n",
      "    Uninstalling tensorflow-2.7.0:\n",
      "      Successfully uninstalled tensorflow-2.7.0\n",
      "Successfully installed Cython-0.29.28 apache-beam-2.36.0 avro-python3-1.10.2 cloudpickle-2.0.0 colorama-0.4.4 contextlib2-21.6.0 crcmod-1.7 cycler-0.11.0 dill-0.3.1.1 dm-tree-0.1.6 docopt-0.6.2 fastavro-1.4.9 fonttools-4.29.1 gin-config-0.5.0 google-api-core-2.5.0 google-api-python-client-2.37.0 google-auth-httplib2-0.1.0 googleapis-common-protos-1.54.0 hdfs-2.6.0 httplib2-0.19.1 importlib-resources-5.4.0 joblib-1.1.0 kaggle-1.5.12 kiwisolver-1.3.2 lvis-0.5.3 lxml-4.8.0 matplotlib-3.5.1 oauth2client-4.1.3 object-detection-0.1 opencv-python-4.5.5.62 opencv-python-headless-4.5.5.62 orjson-3.6.7 packaging-21.3 pandas-1.3.5 pillow-9.0.1 portalocker-2.4.0 promise-2.3 proto-plus-1.20.2 psutil-5.9.0 py-cpuinfo-8.0.0 pyarrow-6.0.1 pycocotools-2.0.4 pydot-1.4.2 pymongo-3.12.3 pyparsing-3.0.7 python-slugify-6.0.1 pytz-2021.3 pyyaml-5.4.1 regex-2022.1.18 sacrebleu-2.0.0 scikit-learn-1.0.2 scipy-1.7.3 sentencepiece-0.1.96 seqeval-1.2.2 tabulate-0.8.9 tensorflow-2.8.0 tensorflow-addons-0.16.1 tensorflow-datasets-4.5.2 tensorflow-hub-0.12.0 tensorflow-io-0.24.0 tensorflow-metadata-1.6.0 tensorflow-model-optimization-0.7.1 tensorflow-text-2.8.1 text-unidecode-1.3 tf-estimator-nightly-2.8.0.dev2021122109 tf-models-official-2.8.0 tf-slim-1.1.0 threadpoolctl-3.1.0 tqdm-4.62.3 typeguard-2.13.3 uritemplate-4.1.1\n",
      "\u001b[33mWARNING: You are using pip version 20.1.1; however, version 22.0.3 is available.\n",
      "You should consider upgrading via the '/Users/riturajsharma/Desktop/placement_job/fabrik/Connector_Detection_App/connector_detection_model/cdenv/bin/python -m pip install --upgrade pip' command.\u001b[0m\n"
     ]
    }
   ],
   "source": [
    "# install tensorflow object detection API\n",
    "if os.name=='posix':  \n",
    "#     !apt-get install protobuf-compiler\n",
    "    !cd Tensorflow/models/research && protoc object_detection/protos/*.proto --python_out=. && cp object_detection/packages/tf2/setup.py . && python -m pip install . \n",
    "    \n",
    "if os.name=='nt':\n",
    "    url=\"https://github.com/protocolbuffers/protobuf/releases/download/v3.15.6/protoc-3.15.6-win64.zip\"\n",
    "    wget.download(url)\n",
    "    !move protoc-3.15.6-win64.zip {paths['PROTOC_PATH']}\n",
    "    !cd {paths['PROTOC_PATH']} && tar -xf protoc-3.15.6-win64.zip\n",
    "    os.environ['PATH'] += os.pathsep + os.path.abspath(os.path.join(paths['PROTOC_PATH'], 'bin'))   \n",
    "    !cd Tensorflow/models/research && protoc object_detection/protos/*.proto --python_out=. && copy object_detection\\\\packages\\\\tf2\\\\setup.py setup.py && python setup.py build && python setup.py install\n",
    "    !cd Tensorflow/models/research/slim && pip install -e . "
   ]
  },
  {
   "cell_type": "code",
   "execution_count": 23,
   "id": "3f0783fe",
   "metadata": {},
   "outputs": [
    {
     "name": "stdout",
     "output_type": "stream",
     "text": [
      "Running tests under Python 3.7.11: /Users/riturajsharma/Desktop/placement_job/fabrik/Connector_Detection_App/connector_detection_model/cdenv/bin/python\n",
      "[ RUN      ] ModelBuilderTF2Test.test_create_center_net_deepmac\n",
      "2022-02-18 02:44:17.481845: I tensorflow/core/platform/cpu_feature_guard.cc:151] This TensorFlow binary is optimized with oneAPI Deep Neural Network Library (oneDNN) to use the following CPU instructions in performance-critical operations:  AVX2 FMA\n",
      "To enable them in other operations, rebuild TensorFlow with the appropriate compiler flags.\n",
      "/Users/riturajsharma/Desktop/placement_job/fabrik/Connector_Detection_App/connector_detection_model/cdenv/lib/python3.7/site-packages/object_detection/builders/model_builder.py:1100: DeprecationWarning: The 'warn' function is deprecated, use 'warning' instead\n",
      "  logging.warn(('Building experimental DeepMAC meta-arch.'\n",
      "W0218 02:44:18.511701 4731518464 model_builder.py:1100] Building experimental DeepMAC meta-arch. Some features may be omitted.\n",
      "INFO:tensorflow:time(__main__.ModelBuilderTF2Test.test_create_center_net_deepmac): 2.09s\n",
      "I0218 02:44:19.557992 4731518464 test_util.py:2309] time(__main__.ModelBuilderTF2Test.test_create_center_net_deepmac): 2.09s\n",
      "[       OK ] ModelBuilderTF2Test.test_create_center_net_deepmac\n",
      "[ RUN      ] ModelBuilderTF2Test.test_create_center_net_model0 (customize_head_params=True)\n",
      "INFO:tensorflow:time(__main__.ModelBuilderTF2Test.test_create_center_net_model0 (customize_head_params=True)): 2.7s\n",
      "I0218 02:44:22.259669 4731518464 test_util.py:2309] time(__main__.ModelBuilderTF2Test.test_create_center_net_model0 (customize_head_params=True)): 2.7s\n",
      "[       OK ] ModelBuilderTF2Test.test_create_center_net_model0 (customize_head_params=True)\n",
      "[ RUN      ] ModelBuilderTF2Test.test_create_center_net_model1 (customize_head_params=False)\n",
      "INFO:tensorflow:time(__main__.ModelBuilderTF2Test.test_create_center_net_model1 (customize_head_params=False)): 1.0s\n",
      "I0218 02:44:23.261936 4731518464 test_util.py:2309] time(__main__.ModelBuilderTF2Test.test_create_center_net_model1 (customize_head_params=False)): 1.0s\n",
      "[       OK ] ModelBuilderTF2Test.test_create_center_net_model1 (customize_head_params=False)\n",
      "[ RUN      ] ModelBuilderTF2Test.test_create_center_net_model_from_keypoints\n",
      "INFO:tensorflow:time(__main__.ModelBuilderTF2Test.test_create_center_net_model_from_keypoints): 0.72s\n",
      "I0218 02:44:23.982875 4731518464 test_util.py:2309] time(__main__.ModelBuilderTF2Test.test_create_center_net_model_from_keypoints): 0.72s\n",
      "[       OK ] ModelBuilderTF2Test.test_create_center_net_model_from_keypoints\n",
      "[ RUN      ] ModelBuilderTF2Test.test_create_center_net_model_mobilenet\n",
      "INFO:tensorflow:time(__main__.ModelBuilderTF2Test.test_create_center_net_model_mobilenet): 6.28s\n",
      "I0218 02:44:30.263516 4731518464 test_util.py:2309] time(__main__.ModelBuilderTF2Test.test_create_center_net_model_mobilenet): 6.28s\n",
      "[       OK ] ModelBuilderTF2Test.test_create_center_net_model_mobilenet\n",
      "[ RUN      ] ModelBuilderTF2Test.test_create_experimental_model\n",
      "INFO:tensorflow:time(__main__.ModelBuilderTF2Test.test_create_experimental_model): 0.0s\n",
      "I0218 02:44:30.265083 4731518464 test_util.py:2309] time(__main__.ModelBuilderTF2Test.test_create_experimental_model): 0.0s\n",
      "[       OK ] ModelBuilderTF2Test.test_create_experimental_model\n",
      "[ RUN      ] ModelBuilderTF2Test.test_create_faster_rcnn_from_config_with_crop_feature0 (True)\n",
      "INFO:tensorflow:time(__main__.ModelBuilderTF2Test.test_create_faster_rcnn_from_config_with_crop_feature0 (True)): 0.13s\n",
      "I0218 02:44:30.398906 4731518464 test_util.py:2309] time(__main__.ModelBuilderTF2Test.test_create_faster_rcnn_from_config_with_crop_feature0 (True)): 0.13s\n",
      "[       OK ] ModelBuilderTF2Test.test_create_faster_rcnn_from_config_with_crop_feature0 (True)\n",
      "[ RUN      ] ModelBuilderTF2Test.test_create_faster_rcnn_from_config_with_crop_feature1 (False)\n",
      "INFO:tensorflow:time(__main__.ModelBuilderTF2Test.test_create_faster_rcnn_from_config_with_crop_feature1 (False)): 0.11s\n",
      "I0218 02:44:30.518909 4731518464 test_util.py:2309] time(__main__.ModelBuilderTF2Test.test_create_faster_rcnn_from_config_with_crop_feature1 (False)): 0.11s\n",
      "[       OK ] ModelBuilderTF2Test.test_create_faster_rcnn_from_config_with_crop_feature1 (False)\n",
      "[ RUN      ] ModelBuilderTF2Test.test_create_faster_rcnn_model_from_config_with_example_miner\n",
      "INFO:tensorflow:time(__main__.ModelBuilderTF2Test.test_create_faster_rcnn_model_from_config_with_example_miner): 0.13s\n",
      "I0218 02:44:30.656569 4731518464 test_util.py:2309] time(__main__.ModelBuilderTF2Test.test_create_faster_rcnn_model_from_config_with_example_miner): 0.13s\n",
      "[       OK ] ModelBuilderTF2Test.test_create_faster_rcnn_model_from_config_with_example_miner\n",
      "[ RUN      ] ModelBuilderTF2Test.test_create_faster_rcnn_models_from_config_faster_rcnn_with_matmul\n",
      "INFO:tensorflow:time(__main__.ModelBuilderTF2Test.test_create_faster_rcnn_models_from_config_faster_rcnn_with_matmul): 0.37s\n",
      "I0218 02:44:31.023277 4731518464 test_util.py:2309] time(__main__.ModelBuilderTF2Test.test_create_faster_rcnn_models_from_config_faster_rcnn_with_matmul): 0.37s\n",
      "[       OK ] ModelBuilderTF2Test.test_create_faster_rcnn_models_from_config_faster_rcnn_with_matmul\n",
      "[ RUN      ] ModelBuilderTF2Test.test_create_faster_rcnn_models_from_config_faster_rcnn_without_matmul\n",
      "INFO:tensorflow:time(__main__.ModelBuilderTF2Test.test_create_faster_rcnn_models_from_config_faster_rcnn_without_matmul): 0.35s\n",
      "I0218 02:44:31.376173 4731518464 test_util.py:2309] time(__main__.ModelBuilderTF2Test.test_create_faster_rcnn_models_from_config_faster_rcnn_without_matmul): 0.35s\n",
      "[       OK ] ModelBuilderTF2Test.test_create_faster_rcnn_models_from_config_faster_rcnn_without_matmul\n",
      "[ RUN      ] ModelBuilderTF2Test.test_create_faster_rcnn_models_from_config_mask_rcnn_with_matmul\n",
      "INFO:tensorflow:time(__main__.ModelBuilderTF2Test.test_create_faster_rcnn_models_from_config_mask_rcnn_with_matmul): 0.33s\n",
      "I0218 02:44:31.705878 4731518464 test_util.py:2309] time(__main__.ModelBuilderTF2Test.test_create_faster_rcnn_models_from_config_mask_rcnn_with_matmul): 0.33s\n",
      "[       OK ] ModelBuilderTF2Test.test_create_faster_rcnn_models_from_config_mask_rcnn_with_matmul\n",
      "[ RUN      ] ModelBuilderTF2Test.test_create_faster_rcnn_models_from_config_mask_rcnn_without_matmul\n",
      "INFO:tensorflow:time(__main__.ModelBuilderTF2Test.test_create_faster_rcnn_models_from_config_mask_rcnn_without_matmul): 0.45s\n",
      "I0218 02:44:32.161269 4731518464 test_util.py:2309] time(__main__.ModelBuilderTF2Test.test_create_faster_rcnn_models_from_config_mask_rcnn_without_matmul): 0.45s\n",
      "[       OK ] ModelBuilderTF2Test.test_create_faster_rcnn_models_from_config_mask_rcnn_without_matmul\n",
      "[ RUN      ] ModelBuilderTF2Test.test_create_rfcn_model_from_config\n",
      "INFO:tensorflow:time(__main__.ModelBuilderTF2Test.test_create_rfcn_model_from_config): 0.46s\n",
      "I0218 02:44:32.620962 4731518464 test_util.py:2309] time(__main__.ModelBuilderTF2Test.test_create_rfcn_model_from_config): 0.46s\n",
      "[       OK ] ModelBuilderTF2Test.test_create_rfcn_model_from_config\n",
      "[ RUN      ] ModelBuilderTF2Test.test_create_ssd_fpn_model_from_config\n",
      "INFO:tensorflow:time(__main__.ModelBuilderTF2Test.test_create_ssd_fpn_model_from_config): 0.12s\n",
      "I0218 02:44:32.737684 4731518464 test_util.py:2309] time(__main__.ModelBuilderTF2Test.test_create_ssd_fpn_model_from_config): 0.12s\n",
      "[       OK ] ModelBuilderTF2Test.test_create_ssd_fpn_model_from_config\n",
      "[ RUN      ] ModelBuilderTF2Test.test_create_ssd_models_from_config\n",
      "I0218 02:44:33.380814 4731518464 ssd_efficientnet_bifpn_feature_extractor.py:146] EfficientDet EfficientNet backbone version: efficientnet-b0\n",
      "I0218 02:44:33.381083 4731518464 ssd_efficientnet_bifpn_feature_extractor.py:147] EfficientDet BiFPN num filters: 64\n",
      "I0218 02:44:33.381296 4731518464 ssd_efficientnet_bifpn_feature_extractor.py:149] EfficientDet BiFPN num iterations: 3\n",
      "I0218 02:44:33.388774 4731518464 efficientnet_model.py:144] round_filter input=32 output=32\n",
      "I0218 02:44:33.429163 4731518464 efficientnet_model.py:144] round_filter input=32 output=32\n",
      "I0218 02:44:33.429380 4731518464 efficientnet_model.py:144] round_filter input=16 output=16\n",
      "I0218 02:44:33.602486 4731518464 efficientnet_model.py:144] round_filter input=16 output=16\n",
      "I0218 02:44:33.603077 4731518464 efficientnet_model.py:144] round_filter input=24 output=24\n",
      "I0218 02:44:34.128910 4731518464 efficientnet_model.py:144] round_filter input=24 output=24\n",
      "I0218 02:44:34.129142 4731518464 efficientnet_model.py:144] round_filter input=40 output=40\n",
      "I0218 02:44:34.644886 4731518464 efficientnet_model.py:144] round_filter input=40 output=40\n",
      "I0218 02:44:34.645129 4731518464 efficientnet_model.py:144] round_filter input=80 output=80\n",
      "I0218 02:44:35.372969 4731518464 efficientnet_model.py:144] round_filter input=80 output=80\n",
      "I0218 02:44:35.373210 4731518464 efficientnet_model.py:144] round_filter input=112 output=112\n",
      "I0218 02:44:36.225651 4731518464 efficientnet_model.py:144] round_filter input=112 output=112\n",
      "I0218 02:44:36.225934 4731518464 efficientnet_model.py:144] round_filter input=192 output=192\n",
      "I0218 02:44:37.918226 4731518464 efficientnet_model.py:144] round_filter input=192 output=192\n",
      "I0218 02:44:37.918509 4731518464 efficientnet_model.py:144] round_filter input=320 output=320\n",
      "I0218 02:44:38.181045 4731518464 efficientnet_model.py:144] round_filter input=1280 output=1280\n",
      "I0218 02:44:38.515739 4731518464 efficientnet_model.py:454] Building model efficientnet with params ModelConfig(width_coefficient=1.0, depth_coefficient=1.0, resolution=224, dropout_rate=0.2, blocks=(BlockConfig(input_filters=32, output_filters=16, kernel_size=3, num_repeat=1, expand_ratio=1, strides=(1, 1), se_ratio=0.25, id_skip=True, fused_conv=False, conv_type='depthwise'), BlockConfig(input_filters=16, output_filters=24, kernel_size=3, num_repeat=2, expand_ratio=6, strides=(2, 2), se_ratio=0.25, id_skip=True, fused_conv=False, conv_type='depthwise'), BlockConfig(input_filters=24, output_filters=40, kernel_size=5, num_repeat=2, expand_ratio=6, strides=(2, 2), se_ratio=0.25, id_skip=True, fused_conv=False, conv_type='depthwise'), BlockConfig(input_filters=40, output_filters=80, kernel_size=3, num_repeat=3, expand_ratio=6, strides=(2, 2), se_ratio=0.25, id_skip=True, fused_conv=False, conv_type='depthwise'), BlockConfig(input_filters=80, output_filters=112, kernel_size=5, num_repeat=3, expand_ratio=6, strides=(1, 1), se_ratio=0.25, id_skip=True, fused_conv=False, conv_type='depthwise'), BlockConfig(input_filters=112, output_filters=192, kernel_size=5, num_repeat=4, expand_ratio=6, strides=(2, 2), se_ratio=0.25, id_skip=True, fused_conv=False, conv_type='depthwise'), BlockConfig(input_filters=192, output_filters=320, kernel_size=3, num_repeat=1, expand_ratio=6, strides=(1, 1), se_ratio=0.25, id_skip=True, fused_conv=False, conv_type='depthwise')), stem_base_filters=32, top_base_filters=1280, activation='simple_swish', batch_norm='default', bn_momentum=0.99, bn_epsilon=0.001, weight_decay=5e-06, drop_connect_rate=0.2, depth_divisor=8, min_depth=None, use_se=True, input_channels=3, num_classes=1000, model_name='efficientnet', rescale_input=False, data_format='channels_last', dtype='float32')\n",
      "I0218 02:44:38.756900 4731518464 ssd_efficientnet_bifpn_feature_extractor.py:146] EfficientDet EfficientNet backbone version: efficientnet-b1\n",
      "I0218 02:44:38.757223 4731518464 ssd_efficientnet_bifpn_feature_extractor.py:147] EfficientDet BiFPN num filters: 88\n",
      "I0218 02:44:38.757466 4731518464 ssd_efficientnet_bifpn_feature_extractor.py:149] EfficientDet BiFPN num iterations: 4\n",
      "I0218 02:44:38.762842 4731518464 efficientnet_model.py:144] round_filter input=32 output=32\n",
      "I0218 02:44:38.839860 4731518464 efficientnet_model.py:144] round_filter input=32 output=32\n",
      "I0218 02:44:38.840120 4731518464 efficientnet_model.py:144] round_filter input=16 output=16\n",
      "I0218 02:44:39.929267 4731518464 efficientnet_model.py:144] round_filter input=16 output=16\n",
      "I0218 02:44:39.931996 4731518464 efficientnet_model.py:144] round_filter input=24 output=24\n",
      "I0218 02:44:41.033550 4731518464 efficientnet_model.py:144] round_filter input=24 output=24\n",
      "I0218 02:44:41.033760 4731518464 efficientnet_model.py:144] round_filter input=40 output=40\n",
      "I0218 02:44:41.806846 4731518464 efficientnet_model.py:144] round_filter input=40 output=40\n",
      "I0218 02:44:41.807099 4731518464 efficientnet_model.py:144] round_filter input=80 output=80\n",
      "I0218 02:44:42.654842 4731518464 efficientnet_model.py:144] round_filter input=80 output=80\n",
      "I0218 02:44:42.655026 4731518464 efficientnet_model.py:144] round_filter input=112 output=112\n",
      "I0218 02:44:43.665622 4731518464 efficientnet_model.py:144] round_filter input=112 output=112\n",
      "I0218 02:44:43.665966 4731518464 efficientnet_model.py:144] round_filter input=192 output=192\n",
      "I0218 02:44:45.347602 4731518464 efficientnet_model.py:144] round_filter input=192 output=192\n",
      "I0218 02:44:45.347843 4731518464 efficientnet_model.py:144] round_filter input=320 output=320\n",
      "I0218 02:44:46.220903 4731518464 efficientnet_model.py:144] round_filter input=1280 output=1280\n",
      "I0218 02:44:46.371225 4731518464 efficientnet_model.py:454] Building model efficientnet with params ModelConfig(width_coefficient=1.0, depth_coefficient=1.1, resolution=240, dropout_rate=0.2, blocks=(BlockConfig(input_filters=32, output_filters=16, kernel_size=3, num_repeat=1, expand_ratio=1, strides=(1, 1), se_ratio=0.25, id_skip=True, fused_conv=False, conv_type='depthwise'), BlockConfig(input_filters=16, output_filters=24, kernel_size=3, num_repeat=2, expand_ratio=6, strides=(2, 2), se_ratio=0.25, id_skip=True, fused_conv=False, conv_type='depthwise'), BlockConfig(input_filters=24, output_filters=40, kernel_size=5, num_repeat=2, expand_ratio=6, strides=(2, 2), se_ratio=0.25, id_skip=True, fused_conv=False, conv_type='depthwise'), BlockConfig(input_filters=40, output_filters=80, kernel_size=3, num_repeat=3, expand_ratio=6, strides=(2, 2), se_ratio=0.25, id_skip=True, fused_conv=False, conv_type='depthwise'), BlockConfig(input_filters=80, output_filters=112, kernel_size=5, num_repeat=3, expand_ratio=6, strides=(1, 1), se_ratio=0.25, id_skip=True, fused_conv=False, conv_type='depthwise'), BlockConfig(input_filters=112, output_filters=192, kernel_size=5, num_repeat=4, expand_ratio=6, strides=(2, 2), se_ratio=0.25, id_skip=True, fused_conv=False, conv_type='depthwise'), BlockConfig(input_filters=192, output_filters=320, kernel_size=3, num_repeat=1, expand_ratio=6, strides=(1, 1), se_ratio=0.25, id_skip=True, fused_conv=False, conv_type='depthwise')), stem_base_filters=32, top_base_filters=1280, activation='simple_swish', batch_norm='default', bn_momentum=0.99, bn_epsilon=0.001, weight_decay=5e-06, drop_connect_rate=0.2, depth_divisor=8, min_depth=None, use_se=True, input_channels=3, num_classes=1000, model_name='efficientnet', rescale_input=False, data_format='channels_last', dtype='float32')\n",
      "I0218 02:44:46.769814 4731518464 ssd_efficientnet_bifpn_feature_extractor.py:146] EfficientDet EfficientNet backbone version: efficientnet-b2\n",
      "I0218 02:44:46.770095 4731518464 ssd_efficientnet_bifpn_feature_extractor.py:147] EfficientDet BiFPN num filters: 112\n",
      "I0218 02:44:46.770303 4731518464 ssd_efficientnet_bifpn_feature_extractor.py:149] EfficientDet BiFPN num iterations: 5\n",
      "I0218 02:44:46.780298 4731518464 efficientnet_model.py:144] round_filter input=32 output=32\n",
      "I0218 02:44:46.911758 4731518464 efficientnet_model.py:144] round_filter input=32 output=32\n",
      "I0218 02:44:46.912058 4731518464 efficientnet_model.py:144] round_filter input=16 output=16\n",
      "I0218 02:44:47.346365 4731518464 efficientnet_model.py:144] round_filter input=16 output=16\n",
      "I0218 02:44:47.346575 4731518464 efficientnet_model.py:144] round_filter input=24 output=24\n",
      "I0218 02:44:47.949424 4731518464 efficientnet_model.py:144] round_filter input=24 output=24\n",
      "I0218 02:44:47.949699 4731518464 efficientnet_model.py:144] round_filter input=40 output=48\n",
      "I0218 02:44:48.760915 4731518464 efficientnet_model.py:144] round_filter input=40 output=48\n",
      "I0218 02:44:48.761137 4731518464 efficientnet_model.py:144] round_filter input=80 output=88\n",
      "I0218 02:44:49.912560 4731518464 efficientnet_model.py:144] round_filter input=80 output=88\n",
      "I0218 02:44:49.912814 4731518464 efficientnet_model.py:144] round_filter input=112 output=120\n",
      "I0218 02:44:50.971330 4731518464 efficientnet_model.py:144] round_filter input=112 output=120\n",
      "I0218 02:44:50.971585 4731518464 efficientnet_model.py:144] round_filter input=192 output=208\n",
      "I0218 02:44:52.686384 4731518464 efficientnet_model.py:144] round_filter input=192 output=208\n",
      "I0218 02:44:52.686747 4731518464 efficientnet_model.py:144] round_filter input=320 output=352\n",
      "I0218 02:44:53.206519 4731518464 efficientnet_model.py:144] round_filter input=1280 output=1408\n",
      "I0218 02:44:53.306653 4731518464 efficientnet_model.py:454] Building model efficientnet with params ModelConfig(width_coefficient=1.1, depth_coefficient=1.2, resolution=260, dropout_rate=0.3, blocks=(BlockConfig(input_filters=32, output_filters=16, kernel_size=3, num_repeat=1, expand_ratio=1, strides=(1, 1), se_ratio=0.25, id_skip=True, fused_conv=False, conv_type='depthwise'), BlockConfig(input_filters=16, output_filters=24, kernel_size=3, num_repeat=2, expand_ratio=6, strides=(2, 2), se_ratio=0.25, id_skip=True, fused_conv=False, conv_type='depthwise'), BlockConfig(input_filters=24, output_filters=40, kernel_size=5, num_repeat=2, expand_ratio=6, strides=(2, 2), se_ratio=0.25, id_skip=True, fused_conv=False, conv_type='depthwise'), BlockConfig(input_filters=40, output_filters=80, kernel_size=3, num_repeat=3, expand_ratio=6, strides=(2, 2), se_ratio=0.25, id_skip=True, fused_conv=False, conv_type='depthwise'), BlockConfig(input_filters=80, output_filters=112, kernel_size=5, num_repeat=3, expand_ratio=6, strides=(1, 1), se_ratio=0.25, id_skip=True, fused_conv=False, conv_type='depthwise'), BlockConfig(input_filters=112, output_filters=192, kernel_size=5, num_repeat=4, expand_ratio=6, strides=(2, 2), se_ratio=0.25, id_skip=True, fused_conv=False, conv_type='depthwise'), BlockConfig(input_filters=192, output_filters=320, kernel_size=3, num_repeat=1, expand_ratio=6, strides=(1, 1), se_ratio=0.25, id_skip=True, fused_conv=False, conv_type='depthwise')), stem_base_filters=32, top_base_filters=1280, activation='simple_swish', batch_norm='default', bn_momentum=0.99, bn_epsilon=0.001, weight_decay=5e-06, drop_connect_rate=0.2, depth_divisor=8, min_depth=None, use_se=True, input_channels=3, num_classes=1000, model_name='efficientnet', rescale_input=False, data_format='channels_last', dtype='float32')\n",
      "I0218 02:44:53.795989 4731518464 ssd_efficientnet_bifpn_feature_extractor.py:146] EfficientDet EfficientNet backbone version: efficientnet-b3\n",
      "I0218 02:44:53.796228 4731518464 ssd_efficientnet_bifpn_feature_extractor.py:147] EfficientDet BiFPN num filters: 160\n",
      "I0218 02:44:53.796339 4731518464 ssd_efficientnet_bifpn_feature_extractor.py:149] EfficientDet BiFPN num iterations: 6\n",
      "I0218 02:44:53.798731 4731518464 efficientnet_model.py:144] round_filter input=32 output=40\n",
      "I0218 02:44:53.872411 4731518464 efficientnet_model.py:144] round_filter input=32 output=40\n",
      "I0218 02:44:53.873114 4731518464 efficientnet_model.py:144] round_filter input=16 output=24\n",
      "I0218 02:44:54.322075 4731518464 efficientnet_model.py:144] round_filter input=16 output=24\n",
      "I0218 02:44:54.322306 4731518464 efficientnet_model.py:144] round_filter input=24 output=32\n",
      "I0218 02:44:54.886240 4731518464 efficientnet_model.py:144] round_filter input=24 output=32\n",
      "I0218 02:44:54.886569 4731518464 efficientnet_model.py:144] round_filter input=40 output=48\n",
      "I0218 02:44:55.459126 4731518464 efficientnet_model.py:144] round_filter input=40 output=48\n",
      "I0218 02:44:55.459398 4731518464 efficientnet_model.py:144] round_filter input=80 output=96\n",
      "I0218 02:44:56.425186 4731518464 efficientnet_model.py:144] round_filter input=80 output=96\n",
      "I0218 02:44:56.425444 4731518464 efficientnet_model.py:144] round_filter input=112 output=136\n",
      "I0218 02:44:57.620059 4731518464 efficientnet_model.py:144] round_filter input=112 output=136\n",
      "I0218 02:44:57.620408 4731518464 efficientnet_model.py:144] round_filter input=192 output=232\n",
      "I0218 02:44:59.061571 4731518464 efficientnet_model.py:144] round_filter input=192 output=232\n",
      "I0218 02:44:59.061856 4731518464 efficientnet_model.py:144] round_filter input=320 output=384\n",
      "I0218 02:44:59.510277 4731518464 efficientnet_model.py:144] round_filter input=1280 output=1536\n",
      "I0218 02:44:59.613111 4731518464 efficientnet_model.py:454] Building model efficientnet with params ModelConfig(width_coefficient=1.2, depth_coefficient=1.4, resolution=300, dropout_rate=0.3, blocks=(BlockConfig(input_filters=32, output_filters=16, kernel_size=3, num_repeat=1, expand_ratio=1, strides=(1, 1), se_ratio=0.25, id_skip=True, fused_conv=False, conv_type='depthwise'), BlockConfig(input_filters=16, output_filters=24, kernel_size=3, num_repeat=2, expand_ratio=6, strides=(2, 2), se_ratio=0.25, id_skip=True, fused_conv=False, conv_type='depthwise'), BlockConfig(input_filters=24, output_filters=40, kernel_size=5, num_repeat=2, expand_ratio=6, strides=(2, 2), se_ratio=0.25, id_skip=True, fused_conv=False, conv_type='depthwise'), BlockConfig(input_filters=40, output_filters=80, kernel_size=3, num_repeat=3, expand_ratio=6, strides=(2, 2), se_ratio=0.25, id_skip=True, fused_conv=False, conv_type='depthwise'), BlockConfig(input_filters=80, output_filters=112, kernel_size=5, num_repeat=3, expand_ratio=6, strides=(1, 1), se_ratio=0.25, id_skip=True, fused_conv=False, conv_type='depthwise'), BlockConfig(input_filters=112, output_filters=192, kernel_size=5, num_repeat=4, expand_ratio=6, strides=(2, 2), se_ratio=0.25, id_skip=True, fused_conv=False, conv_type='depthwise'), BlockConfig(input_filters=192, output_filters=320, kernel_size=3, num_repeat=1, expand_ratio=6, strides=(1, 1), se_ratio=0.25, id_skip=True, fused_conv=False, conv_type='depthwise')), stem_base_filters=32, top_base_filters=1280, activation='simple_swish', batch_norm='default', bn_momentum=0.99, bn_epsilon=0.001, weight_decay=5e-06, drop_connect_rate=0.2, depth_divisor=8, min_depth=None, use_se=True, input_channels=3, num_classes=1000, model_name='efficientnet', rescale_input=False, data_format='channels_last', dtype='float32')\n",
      "I0218 02:44:59.908482 4731518464 ssd_efficientnet_bifpn_feature_extractor.py:146] EfficientDet EfficientNet backbone version: efficientnet-b4\n",
      "I0218 02:44:59.908666 4731518464 ssd_efficientnet_bifpn_feature_extractor.py:147] EfficientDet BiFPN num filters: 224\n",
      "I0218 02:44:59.908766 4731518464 ssd_efficientnet_bifpn_feature_extractor.py:149] EfficientDet BiFPN num iterations: 7\n",
      "I0218 02:44:59.911328 4731518464 efficientnet_model.py:144] round_filter input=32 output=48\n",
      "I0218 02:44:59.951152 4731518464 efficientnet_model.py:144] round_filter input=32 output=48\n",
      "I0218 02:44:59.951433 4731518464 efficientnet_model.py:144] round_filter input=16 output=24\n",
      "I0218 02:45:00.283771 4731518464 efficientnet_model.py:144] round_filter input=16 output=24\n",
      "I0218 02:45:00.284057 4731518464 efficientnet_model.py:144] round_filter input=24 output=32\n",
      "I0218 02:45:01.052121 4731518464 efficientnet_model.py:144] round_filter input=24 output=32\n",
      "I0218 02:45:01.052424 4731518464 efficientnet_model.py:144] round_filter input=40 output=56\n",
      "I0218 02:45:02.013355 4731518464 efficientnet_model.py:144] round_filter input=40 output=56\n",
      "I0218 02:45:02.013540 4731518464 efficientnet_model.py:144] round_filter input=80 output=112\n",
      "I0218 02:45:03.715546 4731518464 efficientnet_model.py:144] round_filter input=80 output=112\n",
      "I0218 02:45:03.715838 4731518464 efficientnet_model.py:144] round_filter input=112 output=160\n",
      "I0218 02:45:04.885029 4731518464 efficientnet_model.py:144] round_filter input=112 output=160\n",
      "I0218 02:45:04.885292 4731518464 efficientnet_model.py:144] round_filter input=192 output=272\n",
      "I0218 02:45:06.797456 4731518464 efficientnet_model.py:144] round_filter input=192 output=272\n",
      "I0218 02:45:06.797792 4731518464 efficientnet_model.py:144] round_filter input=320 output=448\n",
      "I0218 02:45:07.324973 4731518464 efficientnet_model.py:144] round_filter input=1280 output=1792\n",
      "I0218 02:45:07.466961 4731518464 efficientnet_model.py:454] Building model efficientnet with params ModelConfig(width_coefficient=1.4, depth_coefficient=1.8, resolution=380, dropout_rate=0.4, blocks=(BlockConfig(input_filters=32, output_filters=16, kernel_size=3, num_repeat=1, expand_ratio=1, strides=(1, 1), se_ratio=0.25, id_skip=True, fused_conv=False, conv_type='depthwise'), BlockConfig(input_filters=16, output_filters=24, kernel_size=3, num_repeat=2, expand_ratio=6, strides=(2, 2), se_ratio=0.25, id_skip=True, fused_conv=False, conv_type='depthwise'), BlockConfig(input_filters=24, output_filters=40, kernel_size=5, num_repeat=2, expand_ratio=6, strides=(2, 2), se_ratio=0.25, id_skip=True, fused_conv=False, conv_type='depthwise'), BlockConfig(input_filters=40, output_filters=80, kernel_size=3, num_repeat=3, expand_ratio=6, strides=(2, 2), se_ratio=0.25, id_skip=True, fused_conv=False, conv_type='depthwise'), BlockConfig(input_filters=80, output_filters=112, kernel_size=5, num_repeat=3, expand_ratio=6, strides=(1, 1), se_ratio=0.25, id_skip=True, fused_conv=False, conv_type='depthwise'), BlockConfig(input_filters=112, output_filters=192, kernel_size=5, num_repeat=4, expand_ratio=6, strides=(2, 2), se_ratio=0.25, id_skip=True, fused_conv=False, conv_type='depthwise'), BlockConfig(input_filters=192, output_filters=320, kernel_size=3, num_repeat=1, expand_ratio=6, strides=(1, 1), se_ratio=0.25, id_skip=True, fused_conv=False, conv_type='depthwise')), stem_base_filters=32, top_base_filters=1280, activation='simple_swish', batch_norm='default', bn_momentum=0.99, bn_epsilon=0.001, weight_decay=5e-06, drop_connect_rate=0.2, depth_divisor=8, min_depth=None, use_se=True, input_channels=3, num_classes=1000, model_name='efficientnet', rescale_input=False, data_format='channels_last', dtype='float32')\n",
      "I0218 02:45:07.752752 4731518464 ssd_efficientnet_bifpn_feature_extractor.py:146] EfficientDet EfficientNet backbone version: efficientnet-b5\n",
      "I0218 02:45:07.752955 4731518464 ssd_efficientnet_bifpn_feature_extractor.py:147] EfficientDet BiFPN num filters: 288\n",
      "I0218 02:45:07.753116 4731518464 ssd_efficientnet_bifpn_feature_extractor.py:149] EfficientDet BiFPN num iterations: 7\n",
      "I0218 02:45:07.757462 4731518464 efficientnet_model.py:144] round_filter input=32 output=48\n",
      "I0218 02:45:07.795978 4731518464 efficientnet_model.py:144] round_filter input=32 output=48\n",
      "I0218 02:45:07.796149 4731518464 efficientnet_model.py:144] round_filter input=16 output=24\n",
      "I0218 02:45:08.332278 4731518464 efficientnet_model.py:144] round_filter input=16 output=24\n",
      "I0218 02:45:08.332596 4731518464 efficientnet_model.py:144] round_filter input=24 output=40\n",
      "I0218 02:45:10.246734 4731518464 efficientnet_model.py:144] round_filter input=24 output=40\n",
      "I0218 02:45:10.246925 4731518464 efficientnet_model.py:144] round_filter input=40 output=64\n",
      "I0218 02:45:11.449652 4731518464 efficientnet_model.py:144] round_filter input=40 output=64\n",
      "I0218 02:45:11.449892 4731518464 efficientnet_model.py:144] round_filter input=80 output=128\n",
      "I0218 02:45:12.980614 4731518464 efficientnet_model.py:144] round_filter input=80 output=128\n",
      "I0218 02:45:12.980802 4731518464 efficientnet_model.py:144] round_filter input=112 output=176\n",
      "I0218 02:45:14.443082 4731518464 efficientnet_model.py:144] round_filter input=112 output=176\n",
      "I0218 02:45:14.443331 4731518464 efficientnet_model.py:144] round_filter input=192 output=304\n",
      "I0218 02:45:16.391913 4731518464 efficientnet_model.py:144] round_filter input=192 output=304\n",
      "I0218 02:45:16.392138 4731518464 efficientnet_model.py:144] round_filter input=320 output=512\n",
      "I0218 02:45:17.451148 4731518464 efficientnet_model.py:144] round_filter input=1280 output=2048\n",
      "I0218 02:45:17.634787 4731518464 efficientnet_model.py:454] Building model efficientnet with params ModelConfig(width_coefficient=1.6, depth_coefficient=2.2, resolution=456, dropout_rate=0.4, blocks=(BlockConfig(input_filters=32, output_filters=16, kernel_size=3, num_repeat=1, expand_ratio=1, strides=(1, 1), se_ratio=0.25, id_skip=True, fused_conv=False, conv_type='depthwise'), BlockConfig(input_filters=16, output_filters=24, kernel_size=3, num_repeat=2, expand_ratio=6, strides=(2, 2), se_ratio=0.25, id_skip=True, fused_conv=False, conv_type='depthwise'), BlockConfig(input_filters=24, output_filters=40, kernel_size=5, num_repeat=2, expand_ratio=6, strides=(2, 2), se_ratio=0.25, id_skip=True, fused_conv=False, conv_type='depthwise'), BlockConfig(input_filters=40, output_filters=80, kernel_size=3, num_repeat=3, expand_ratio=6, strides=(2, 2), se_ratio=0.25, id_skip=True, fused_conv=False, conv_type='depthwise'), BlockConfig(input_filters=80, output_filters=112, kernel_size=5, num_repeat=3, expand_ratio=6, strides=(1, 1), se_ratio=0.25, id_skip=True, fused_conv=False, conv_type='depthwise'), BlockConfig(input_filters=112, output_filters=192, kernel_size=5, num_repeat=4, expand_ratio=6, strides=(2, 2), se_ratio=0.25, id_skip=True, fused_conv=False, conv_type='depthwise'), BlockConfig(input_filters=192, output_filters=320, kernel_size=3, num_repeat=1, expand_ratio=6, strides=(1, 1), se_ratio=0.25, id_skip=True, fused_conv=False, conv_type='depthwise')), stem_base_filters=32, top_base_filters=1280, activation='simple_swish', batch_norm='default', bn_momentum=0.99, bn_epsilon=0.001, weight_decay=5e-06, drop_connect_rate=0.2, depth_divisor=8, min_depth=None, use_se=True, input_channels=3, num_classes=1000, model_name='efficientnet', rescale_input=False, data_format='channels_last', dtype='float32')\n",
      "I0218 02:45:17.911190 4731518464 ssd_efficientnet_bifpn_feature_extractor.py:146] EfficientDet EfficientNet backbone version: efficientnet-b6\n",
      "I0218 02:45:17.911356 4731518464 ssd_efficientnet_bifpn_feature_extractor.py:147] EfficientDet BiFPN num filters: 384\n",
      "I0218 02:45:17.911436 4731518464 ssd_efficientnet_bifpn_feature_extractor.py:149] EfficientDet BiFPN num iterations: 8\n",
      "I0218 02:45:17.914139 4731518464 efficientnet_model.py:144] round_filter input=32 output=56\n",
      "I0218 02:45:17.957584 4731518464 efficientnet_model.py:144] round_filter input=32 output=56\n",
      "I0218 02:45:17.957761 4731518464 efficientnet_model.py:144] round_filter input=16 output=32\n",
      "I0218 02:45:18.472702 4731518464 efficientnet_model.py:144] round_filter input=16 output=32\n",
      "I0218 02:45:18.472907 4731518464 efficientnet_model.py:144] round_filter input=24 output=40\n",
      "I0218 02:45:19.554316 4731518464 efficientnet_model.py:144] round_filter input=24 output=40\n",
      "I0218 02:45:19.554857 4731518464 efficientnet_model.py:144] round_filter input=40 output=72\n",
      "I0218 02:45:20.802394 4731518464 efficientnet_model.py:144] round_filter input=40 output=72\n",
      "I0218 02:45:20.802578 4731518464 efficientnet_model.py:144] round_filter input=80 output=144\n",
      "I0218 02:45:22.700961 4731518464 efficientnet_model.py:144] round_filter input=80 output=144\n",
      "I0218 02:45:22.701162 4731518464 efficientnet_model.py:144] round_filter input=112 output=200\n",
      "I0218 02:45:24.272063 4731518464 efficientnet_model.py:144] round_filter input=112 output=200\n",
      "I0218 02:45:24.272430 4731518464 efficientnet_model.py:144] round_filter input=192 output=344\n",
      "I0218 02:45:26.942270 4731518464 efficientnet_model.py:144] round_filter input=192 output=344\n",
      "I0218 02:45:26.942694 4731518464 efficientnet_model.py:144] round_filter input=320 output=576\n",
      "I0218 02:45:27.769736 4731518464 efficientnet_model.py:144] round_filter input=1280 output=2304\n",
      "I0218 02:45:27.901231 4731518464 efficientnet_model.py:454] Building model efficientnet with params ModelConfig(width_coefficient=1.8, depth_coefficient=2.6, resolution=528, dropout_rate=0.5, blocks=(BlockConfig(input_filters=32, output_filters=16, kernel_size=3, num_repeat=1, expand_ratio=1, strides=(1, 1), se_ratio=0.25, id_skip=True, fused_conv=False, conv_type='depthwise'), BlockConfig(input_filters=16, output_filters=24, kernel_size=3, num_repeat=2, expand_ratio=6, strides=(2, 2), se_ratio=0.25, id_skip=True, fused_conv=False, conv_type='depthwise'), BlockConfig(input_filters=24, output_filters=40, kernel_size=5, num_repeat=2, expand_ratio=6, strides=(2, 2), se_ratio=0.25, id_skip=True, fused_conv=False, conv_type='depthwise'), BlockConfig(input_filters=40, output_filters=80, kernel_size=3, num_repeat=3, expand_ratio=6, strides=(2, 2), se_ratio=0.25, id_skip=True, fused_conv=False, conv_type='depthwise'), BlockConfig(input_filters=80, output_filters=112, kernel_size=5, num_repeat=3, expand_ratio=6, strides=(1, 1), se_ratio=0.25, id_skip=True, fused_conv=False, conv_type='depthwise'), BlockConfig(input_filters=112, output_filters=192, kernel_size=5, num_repeat=4, expand_ratio=6, strides=(2, 2), se_ratio=0.25, id_skip=True, fused_conv=False, conv_type='depthwise'), BlockConfig(input_filters=192, output_filters=320, kernel_size=3, num_repeat=1, expand_ratio=6, strides=(1, 1), se_ratio=0.25, id_skip=True, fused_conv=False, conv_type='depthwise')), stem_base_filters=32, top_base_filters=1280, activation='simple_swish', batch_norm='default', bn_momentum=0.99, bn_epsilon=0.001, weight_decay=5e-06, drop_connect_rate=0.2, depth_divisor=8, min_depth=None, use_se=True, input_channels=3, num_classes=1000, model_name='efficientnet', rescale_input=False, data_format='channels_last', dtype='float32')\n",
      "I0218 02:45:28.226269 4731518464 ssd_efficientnet_bifpn_feature_extractor.py:146] EfficientDet EfficientNet backbone version: efficientnet-b7\n",
      "I0218 02:45:28.226461 4731518464 ssd_efficientnet_bifpn_feature_extractor.py:147] EfficientDet BiFPN num filters: 384\n",
      "I0218 02:45:28.226578 4731518464 ssd_efficientnet_bifpn_feature_extractor.py:149] EfficientDet BiFPN num iterations: 8\n",
      "I0218 02:45:28.230064 4731518464 efficientnet_model.py:144] round_filter input=32 output=64\n",
      "I0218 02:45:28.259259 4731518464 efficientnet_model.py:144] round_filter input=32 output=64\n",
      "I0218 02:45:28.259479 4731518464 efficientnet_model.py:144] round_filter input=16 output=32\n",
      "I0218 02:45:29.139039 4731518464 efficientnet_model.py:144] round_filter input=16 output=32\n",
      "I0218 02:45:29.139312 4731518464 efficientnet_model.py:144] round_filter input=24 output=48\n",
      "I0218 02:45:30.613507 4731518464 efficientnet_model.py:144] round_filter input=24 output=48\n",
      "I0218 02:45:30.613800 4731518464 efficientnet_model.py:144] round_filter input=40 output=80\n",
      "I0218 02:45:32.109420 4731518464 efficientnet_model.py:144] round_filter input=40 output=80\n",
      "I0218 02:45:32.109637 4731518464 efficientnet_model.py:144] round_filter input=80 output=160\n",
      "I0218 02:45:33.776830 4731518464 efficientnet_model.py:144] round_filter input=80 output=160\n",
      "I0218 02:45:33.777091 4731518464 efficientnet_model.py:144] round_filter input=112 output=224\n",
      "I0218 02:45:36.153201 4731518464 efficientnet_model.py:144] round_filter input=112 output=224\n",
      "I0218 02:45:36.153481 4731518464 efficientnet_model.py:144] round_filter input=192 output=384\n",
      "I0218 02:45:39.728123 4731518464 efficientnet_model.py:144] round_filter input=192 output=384\n",
      "I0218 02:45:39.728475 4731518464 efficientnet_model.py:144] round_filter input=320 output=640\n",
      "I0218 02:45:41.251729 4731518464 efficientnet_model.py:144] round_filter input=1280 output=2560\n",
      "I0218 02:45:41.414346 4731518464 efficientnet_model.py:454] Building model efficientnet with params ModelConfig(width_coefficient=2.0, depth_coefficient=3.1, resolution=600, dropout_rate=0.5, blocks=(BlockConfig(input_filters=32, output_filters=16, kernel_size=3, num_repeat=1, expand_ratio=1, strides=(1, 1), se_ratio=0.25, id_skip=True, fused_conv=False, conv_type='depthwise'), BlockConfig(input_filters=16, output_filters=24, kernel_size=3, num_repeat=2, expand_ratio=6, strides=(2, 2), se_ratio=0.25, id_skip=True, fused_conv=False, conv_type='depthwise'), BlockConfig(input_filters=24, output_filters=40, kernel_size=5, num_repeat=2, expand_ratio=6, strides=(2, 2), se_ratio=0.25, id_skip=True, fused_conv=False, conv_type='depthwise'), BlockConfig(input_filters=40, output_filters=80, kernel_size=3, num_repeat=3, expand_ratio=6, strides=(2, 2), se_ratio=0.25, id_skip=True, fused_conv=False, conv_type='depthwise'), BlockConfig(input_filters=80, output_filters=112, kernel_size=5, num_repeat=3, expand_ratio=6, strides=(1, 1), se_ratio=0.25, id_skip=True, fused_conv=False, conv_type='depthwise'), BlockConfig(input_filters=112, output_filters=192, kernel_size=5, num_repeat=4, expand_ratio=6, strides=(2, 2), se_ratio=0.25, id_skip=True, fused_conv=False, conv_type='depthwise'), BlockConfig(input_filters=192, output_filters=320, kernel_size=3, num_repeat=1, expand_ratio=6, strides=(1, 1), se_ratio=0.25, id_skip=True, fused_conv=False, conv_type='depthwise')), stem_base_filters=32, top_base_filters=1280, activation='simple_swish', batch_norm='default', bn_momentum=0.99, bn_epsilon=0.001, weight_decay=5e-06, drop_connect_rate=0.2, depth_divisor=8, min_depth=None, use_se=True, input_channels=3, num_classes=1000, model_name='efficientnet', rescale_input=False, data_format='channels_last', dtype='float32')\n",
      "INFO:tensorflow:time(__main__.ModelBuilderTF2Test.test_create_ssd_models_from_config): 69.64s\n",
      "I0218 02:45:42.381745 4731518464 test_util.py:2309] time(__main__.ModelBuilderTF2Test.test_create_ssd_models_from_config): 69.64s\n",
      "[       OK ] ModelBuilderTF2Test.test_create_ssd_models_from_config\n",
      "[ RUN      ] ModelBuilderTF2Test.test_invalid_faster_rcnn_batchnorm_update\n",
      "INFO:tensorflow:time(__main__.ModelBuilderTF2Test.test_invalid_faster_rcnn_batchnorm_update): 0.0s\n",
      "I0218 02:45:42.402597 4731518464 test_util.py:2309] time(__main__.ModelBuilderTF2Test.test_invalid_faster_rcnn_batchnorm_update): 0.0s\n",
      "[       OK ] ModelBuilderTF2Test.test_invalid_faster_rcnn_batchnorm_update\n",
      "[ RUN      ] ModelBuilderTF2Test.test_invalid_first_stage_nms_iou_threshold\n",
      "INFO:tensorflow:time(__main__.ModelBuilderTF2Test.test_invalid_first_stage_nms_iou_threshold): 0.0s\n",
      "I0218 02:45:42.405879 4731518464 test_util.py:2309] time(__main__.ModelBuilderTF2Test.test_invalid_first_stage_nms_iou_threshold): 0.0s\n",
      "[       OK ] ModelBuilderTF2Test.test_invalid_first_stage_nms_iou_threshold\n",
      "[ RUN      ] ModelBuilderTF2Test.test_invalid_model_config_proto\n",
      "INFO:tensorflow:time(__main__.ModelBuilderTF2Test.test_invalid_model_config_proto): 0.0s\n",
      "I0218 02:45:42.406858 4731518464 test_util.py:2309] time(__main__.ModelBuilderTF2Test.test_invalid_model_config_proto): 0.0s\n",
      "[       OK ] ModelBuilderTF2Test.test_invalid_model_config_proto\n",
      "[ RUN      ] ModelBuilderTF2Test.test_invalid_second_stage_batch_size\n",
      "INFO:tensorflow:time(__main__.ModelBuilderTF2Test.test_invalid_second_stage_batch_size): 0.0s\n",
      "I0218 02:45:42.410975 4731518464 test_util.py:2309] time(__main__.ModelBuilderTF2Test.test_invalid_second_stage_batch_size): 0.0s\n",
      "[       OK ] ModelBuilderTF2Test.test_invalid_second_stage_batch_size\n",
      "[ RUN      ] ModelBuilderTF2Test.test_session\n",
      "[  SKIPPED ] ModelBuilderTF2Test.test_session\n",
      "[ RUN      ] ModelBuilderTF2Test.test_unknown_faster_rcnn_feature_extractor\n",
      "INFO:tensorflow:time(__main__.ModelBuilderTF2Test.test_unknown_faster_rcnn_feature_extractor): 0.0s\n",
      "I0218 02:45:42.413450 4731518464 test_util.py:2309] time(__main__.ModelBuilderTF2Test.test_unknown_faster_rcnn_feature_extractor): 0.0s\n",
      "[       OK ] ModelBuilderTF2Test.test_unknown_faster_rcnn_feature_extractor\n",
      "[ RUN      ] ModelBuilderTF2Test.test_unknown_meta_architecture\n",
      "INFO:tensorflow:time(__main__.ModelBuilderTF2Test.test_unknown_meta_architecture): 0.0s\n",
      "I0218 02:45:42.414725 4731518464 test_util.py:2309] time(__main__.ModelBuilderTF2Test.test_unknown_meta_architecture): 0.0s\n",
      "[       OK ] ModelBuilderTF2Test.test_unknown_meta_architecture\n",
      "[ RUN      ] ModelBuilderTF2Test.test_unknown_ssd_feature_extractor\n",
      "INFO:tensorflow:time(__main__.ModelBuilderTF2Test.test_unknown_ssd_feature_extractor): 0.0s\n",
      "I0218 02:45:42.417029 4731518464 test_util.py:2309] time(__main__.ModelBuilderTF2Test.test_unknown_ssd_feature_extractor): 0.0s\n",
      "[       OK ] ModelBuilderTF2Test.test_unknown_ssd_feature_extractor\n",
      "----------------------------------------------------------------------\n",
      "Ran 24 tests in 84.949s\n",
      "\n",
      "OK (skipped=1)\n"
     ]
    }
   ],
   "source": [
    "VERIFICATION_SCRIPT = os.path.join(paths['APIMODEL_PATH'], 'research', 'object_detection', 'builders', 'model_builder_tf2_test.py')\n",
    "# Verify Installation\n",
    "!python {VERIFICATION_SCRIPT}"
   ]
  },
  {
   "cell_type": "code",
   "execution_count": 24,
   "id": "aee8ba15",
   "metadata": {},
   "outputs": [],
   "source": [
    "# !pip3 install absl-py\n",
    "# !pip uninstall tensorflow \n",
    "# !pip install tensorflow==2.7\n",
    "# !pip install pyparsing==2.4.2"
   ]
  },
  {
   "cell_type": "code",
   "execution_count": 10,
   "id": "2717fde1",
   "metadata": {},
   "outputs": [],
   "source": [
    "import object_detection"
   ]
  },
  {
   "cell_type": "code",
   "execution_count": 11,
   "id": "b47923ed",
   "metadata": {},
   "outputs": [
    {
     "name": "stdout",
     "output_type": "stream",
     "text": [
      "--2022-02-18 11:38:39--  http://download.tensorflow.org/models/object_detection/tf2/20200711/ssd_mobilenet_v2_320x320_coco17_tpu-8.tar.gz\n",
      "Resolving download.tensorflow.org (download.tensorflow.org)... 172.217.163.176\n",
      "Connecting to download.tensorflow.org (download.tensorflow.org)|172.217.163.176|:80... connected.\n",
      "HTTP request sent, awaiting response... 200 OK\n",
      "Length: 46042990 (44M) [application/x-tar]\n",
      "Saving to: ‘ssd_mobilenet_v2_320x320_coco17_tpu-8.tar.gz’\n",
      "\n",
      "ssd_mobilenet_v2_32 100%[===================>]  43.91M  5.44MB/s    in 10s     \n",
      "\n",
      "2022-02-18 11:38:50 (4.40 MB/s) - ‘ssd_mobilenet_v2_320x320_coco17_tpu-8.tar.gz’ saved [46042990/46042990]\n",
      "\n",
      "x ssd_mobilenet_v2_320x320_coco17_tpu-8/\n",
      "x ssd_mobilenet_v2_320x320_coco17_tpu-8/checkpoint/\n",
      "x ssd_mobilenet_v2_320x320_coco17_tpu-8/checkpoint/ckpt-0.data-00000-of-00001\n",
      "x ssd_mobilenet_v2_320x320_coco17_tpu-8/checkpoint/checkpoint\n",
      "x ssd_mobilenet_v2_320x320_coco17_tpu-8/checkpoint/ckpt-0.index\n",
      "x ssd_mobilenet_v2_320x320_coco17_tpu-8/pipeline.config\n",
      "x ssd_mobilenet_v2_320x320_coco17_tpu-8/saved_model/\n",
      "x ssd_mobilenet_v2_320x320_coco17_tpu-8/saved_model/saved_model.pb\n",
      "x ssd_mobilenet_v2_320x320_coco17_tpu-8/saved_model/variables/\n",
      "x ssd_mobilenet_v2_320x320_coco17_tpu-8/saved_model/variables/variables.data-00000-of-00001\n",
      "x ssd_mobilenet_v2_320x320_coco17_tpu-8/saved_model/variables/variables.index\n"
     ]
    }
   ],
   "source": [
    "# Download pretrained object detection model \n",
    "if os.name =='posix':\n",
    "    !wget {PRETRAINED_MODEL_URL}\n",
    "    !mv {PRETRAINED_MODEL_NAME+'.tar.gz'} {paths['PRETRAINED_MODEL_PATH']}\n",
    "    !cd {paths['PRETRAINED_MODEL_PATH']} && tar -zxvf {PRETRAINED_MODEL_NAME+'.tar.gz'}\n",
    "if os.name == 'nt':\n",
    "    wget.download(PRETRAINED_MODEL_URL)\n",
    "    !move {PRETRAINED_MODEL_NAME+'.tar.gz'} {paths['PRETRAINED_MODEL_PATH']}\n",
    "    !cd {paths['PRETRAINED_MODEL_PATH']} && tar -zxvf {PRETRAINED_MODEL_NAME+'.tar.gz'}"
   ]
  },
  {
   "cell_type": "markdown",
   "id": "88239891",
   "metadata": {},
   "source": [
    "# Generating TF Records"
   ]
  },
  {
   "cell_type": "code",
   "execution_count": 46,
   "id": "44925e8c",
   "metadata": {},
   "outputs": [],
   "source": [
    "labels = [{'name':'connector', 'id':1}]\n",
    "\n",
    "# generating label_map\n",
    "with open(files['LABELMAP'], 'w') as f:\n",
    "    for label in labels:\n",
    "        f.write('item { \\n')\n",
    "        f.write('\\tname:\\'{}\\'\\n'.format(label['name']))\n",
    "        f.write('\\tid:{}\\n'.format(label['id']))\n",
    "        f.write('}\\n')"
   ]
  },
  {
   "cell_type": "code",
   "execution_count": 13,
   "id": "6ca86002",
   "metadata": {},
   "outputs": [
    {
     "name": "stdout",
     "output_type": "stream",
     "text": [
      "Successfully created the TFRecord file: Tensorflow/workspace/annotations/train.record\n",
      "Successfully created the TFRecord file: Tensorflow/workspace/annotations/test.record\n"
     ]
    }
   ],
   "source": [
    "# creating tf_records of train\n",
    "!python {files['TF_RECORD_SCRIPT']} -x {os.path.join(paths['IMAGE_PATH'], 'train')} -l {files['LABELMAP']} -o {os.path.join(paths['ANNOTATION_PATH'], 'train.record')} \n",
    "\n",
    "# creating tf_records of test\n",
    "!python {files['TF_RECORD_SCRIPT']} -x {os.path.join(paths['IMAGE_PATH'], 'test')} -l {files['LABELMAP']} -o {os.path.join(paths['ANNOTATION_PATH'], 'test.record')} "
   ]
  },
  {
   "cell_type": "code",
   "execution_count": 14,
   "id": "59b8e21a",
   "metadata": {},
   "outputs": [],
   "source": [
    "# copy pipeline.config from pretrained models to custom model\n",
    "if os.name =='posix':\n",
    "    !cp {os.path.join(paths['PRETRAINED_MODEL_PATH'], PRETRAINED_MODEL_NAME, 'pipeline.config')} {os.path.join(paths['CHECKPOINT_PATH'])}\n",
    "if os.name == 'nt':\n",
    "    !copy {os.path.join(paths['PRETRAINED_MODEL_PATH'], PRETRAINED_MODEL_NAME, 'pipeline.config')} {os.path.join(paths['CHECKPOINT_PATH'])}"
   ]
  },
  {
   "cell_type": "markdown",
   "id": "4cf4e9c9",
   "metadata": {},
   "source": [
    "# Train and Evaluate Model "
   ]
  },
  {
   "cell_type": "code",
   "execution_count": 47,
   "id": "c9c1466a",
   "metadata": {},
   "outputs": [],
   "source": [
    "import tensorflow as tf\n",
    "from object_detection.utils import config_util\n",
    "from object_detection.protos import pipeline_pb2\n",
    "from google.protobuf import text_format"
   ]
  },
  {
   "cell_type": "code",
   "execution_count": 48,
   "id": "ef9e587a",
   "metadata": {},
   "outputs": [],
   "source": [
    "config = config_util.get_configs_from_pipeline_file(files['PIPELINE_CONFIG'])"
   ]
  },
  {
   "cell_type": "markdown",
   "id": "7626018f",
   "metadata": {},
   "source": []
  },
  {
   "cell_type": "code",
   "execution_count": 51,
   "id": "c7496e83",
   "metadata": {},
   "outputs": [],
   "source": [
    "# config"
   ]
  },
  {
   "cell_type": "code",
   "execution_count": 49,
   "id": "ab4bfd34",
   "metadata": {},
   "outputs": [],
   "source": [
    "pipeline_config = pipeline_pb2.TrainEvalPipelineConfig()\n",
    "with tf.io.gfile.GFile(files['PIPELINE_CONFIG'], \"r\") as f:                                                                                                                                                                                                                     \n",
    "    proto_str = f.read()                                                                                                                                                                                                                                          \n",
    "    text_format.Merge(proto_str, pipeline_config)  \n"
   ]
  },
  {
   "cell_type": "code",
   "execution_count": 18,
   "id": "bfbbf1c3",
   "metadata": {},
   "outputs": [],
   "source": [
    "# modify the pipeline.config of custom model as per the requirement of the custom model\n",
    "pipeline_config.model.ssd.num_classes = len(labels)\n",
    "pipeline_config.train_config.batch_size = 1\n",
    "pipeline_config.train_config.fine_tune_checkpoint = os.path.join(paths['PRETRAINED_MODEL_PATH'], PRETRAINED_MODEL_NAME, 'checkpoint', 'ckpt-0')\n",
    "pipeline_config.train_config.fine_tune_checkpoint_type = \"detection\"\n",
    "pipeline_config.train_input_reader.label_map_path= files['LABELMAP']\n",
    "pipeline_config.train_input_reader.tf_record_input_reader.input_path[:] = [os.path.join(paths['ANNOTATION_PATH'], 'train.record')]\n",
    "pipeline_config.eval_input_reader[0].label_map_path = files['LABELMAP']\n",
    "pipeline_config.eval_input_reader[0].tf_record_input_reader.input_path[:] = [os.path.join(paths['ANNOTATION_PATH'], 'test.record')]"
   ]
  },
  {
   "cell_type": "code",
   "execution_count": 19,
   "id": "53a10888",
   "metadata": {},
   "outputs": [],
   "source": [
    "config_text = text_format.MessageToString(pipeline_config)                                                                                                                                                                                                        \n",
    "with tf.io.gfile.GFile(files['PIPELINE_CONFIG'], \"wb\") as f:                                                                                                                                                                                                                     \n",
    "    f.write(config_text)   "
   ]
  },
  {
   "cell_type": "code",
   "execution_count": 39,
   "id": "e66c5b52",
   "metadata": {},
   "outputs": [],
   "source": [
    "# config_text"
   ]
  },
  {
   "cell_type": "code",
   "execution_count": 52,
   "id": "69e953f1",
   "metadata": {},
   "outputs": [],
   "source": [
    "TRAINING_SCRIPT = os.path.join(paths['APIMODEL_PATH'], 'research', 'object_detection', 'model_main_tf2.py')"
   ]
  },
  {
   "cell_type": "code",
   "execution_count": 53,
   "id": "5dc09db4",
   "metadata": {},
   "outputs": [
    {
     "data": {
      "text/plain": [
       "'Tensorflow/models/research/object_detection/model_main_tf2.py'"
      ]
     },
     "execution_count": 53,
     "metadata": {},
     "output_type": "execute_result"
    }
   ],
   "source": [
    "TRAINING_SCRIPT"
   ]
  },
  {
   "cell_type": "code",
   "execution_count": 54,
   "id": "f66ee0bc",
   "metadata": {},
   "outputs": [],
   "source": [
    "# training command\n",
    "train_command = command = \"python {} --model_dir={} --pipeline_config_path={} --num_train_steps=5000\".format(TRAINING_SCRIPT, paths['CHECKPOINT_PATH'],files['PIPELINE_CONFIG'])\n"
   ]
  },
  {
   "cell_type": "code",
   "execution_count": 55,
   "id": "7ac41ee4",
   "metadata": {},
   "outputs": [
    {
     "data": {
      "text/plain": [
       "'python Tensorflow/models/research/object_detection/model_main_tf2.py --model_dir=Tensorflow/workspace/models/my_ssd_mobnet --pipeline_config_path=Tensorflow/workspace/models/my_ssd_mobnet/pipeline.config --num_train_steps=5000'"
      ]
     },
     "execution_count": 55,
     "metadata": {},
     "output_type": "execute_result"
    }
   ],
   "source": [
    "train_command"
   ]
  },
  {
   "cell_type": "code",
   "execution_count": null,
   "id": "ef0287ae",
   "metadata": {},
   "outputs": [],
   "source": [
    "!{train_command}"
   ]
  },
  {
   "cell_type": "code",
   "execution_count": 56,
   "id": "8723ba9b",
   "metadata": {},
   "outputs": [],
   "source": [
    "# evaluation command\n",
    "eval_command = \"python {} --model_dir={} --pipeline_config_path={} --checkpoint_dir={}\".format(TRAINING_SCRIPT, paths['CHECKPOINT_PATH'],files['PIPELINE_CONFIG'], paths['CHECKPOINT_PATH'])"
   ]
  },
  {
   "cell_type": "code",
   "execution_count": 57,
   "id": "b5d2e03f",
   "metadata": {},
   "outputs": [
    {
     "data": {
      "text/plain": [
       "'python Tensorflow/models/research/object_detection/model_main_tf2.py --model_dir=Tensorflow/workspace/models/my_ssd_mobnet --pipeline_config_path=Tensorflow/workspace/models/my_ssd_mobnet/pipeline.config --checkpoint_dir=Tensorflow/workspace/models/my_ssd_mobnet'"
      ]
     },
     "execution_count": 57,
     "metadata": {},
     "output_type": "execute_result"
    }
   ],
   "source": [
    "eval_command"
   ]
  },
  {
   "cell_type": "code",
   "execution_count": null,
   "id": "f76336eb",
   "metadata": {},
   "outputs": [],
   "source": []
  },
  {
   "cell_type": "markdown",
   "id": "01263735",
   "metadata": {},
   "source": [
    "# Load Train Model from Checkpoint"
   ]
  },
  {
   "cell_type": "code",
   "execution_count": 58,
   "id": "5900292b",
   "metadata": {},
   "outputs": [],
   "source": [
    "import os\n",
    "import tensorflow as tf\n",
    "from object_detection.utils import label_map_util\n",
    "from object_detection.utils import visualization_utils as viz_utils\n",
    "from object_detection.builders import model_builder\n",
    "from object_detection.utils import config_util"
   ]
  },
  {
   "cell_type": "code",
   "execution_count": 59,
   "id": "e194aca7",
   "metadata": {},
   "outputs": [],
   "source": [
    "# Load pipeline config and build a detection model\n",
    "configs = config_util.get_configs_from_pipeline_file(files['PIPELINE_CONFIG'])\n",
    "detection_model = model_builder.build(model_config=configs['model'], is_training=False)\n",
    "\n",
    "# Restore checkpoint\n",
    "ckpt = tf.compat.v2.train.Checkpoint(model=detection_model)\n",
    "ckpt.restore(os.path.join(paths['CHECKPOINT_PATH'], 'ckpt-6')).expect_partial()\n",
    "\n",
    "@tf.function\n",
    "def detect_fn(image):\n",
    "    image, shapes = detection_model.preprocess(image)\n",
    "    prediction_dict = detection_model.predict(image, shapes)\n",
    "    detections = detection_model.postprocess(prediction_dict, shapes)\n",
    "    return detections"
   ]
  },
  {
   "cell_type": "code",
   "execution_count": null,
   "id": "23005799",
   "metadata": {},
   "outputs": [],
   "source": []
  },
  {
   "cell_type": "markdown",
   "id": "d11ce0c3",
   "metadata": {},
   "source": [
    "# Detect from Image"
   ]
  },
  {
   "cell_type": "code",
   "execution_count": 60,
   "id": "2e37e4d5",
   "metadata": {},
   "outputs": [],
   "source": [
    "import cv2 \n",
    "import numpy as np\n",
    "from matplotlib import pyplot as plt\n",
    "%matplotlib inline"
   ]
  },
  {
   "cell_type": "code",
   "execution_count": 61,
   "id": "dfe67f71",
   "metadata": {},
   "outputs": [],
   "source": [
    "category_index = label_map_util.create_category_index_from_labelmap(files['LABELMAP'])"
   ]
  },
  {
   "cell_type": "code",
   "execution_count": 62,
   "id": "a1fba024",
   "metadata": {},
   "outputs": [],
   "source": [
    "IMAGE_PATH = os.path.join(paths['IMAGE_PATH'], 'test', 'IMG_20200228_122248.jpg')"
   ]
  },
  {
   "cell_type": "code",
   "execution_count": 63,
   "id": "ff8159e7",
   "metadata": {},
   "outputs": [
    {
     "data": {
      "image/png": "[encoded data removed]",
      "text/plain": [
       "<Figure size 432x288 with 1 Axes>"
      ]
     },
     "metadata": {
      "needs_background": "light"
     },
     "output_type": "display_data"
    }
   ],
   "source": [
    "img = cv2.imread(IMAGE_PATH)\n",
    "image_np = np.array(img)\n",
    "\n",
    "input_tensor = tf.convert_to_tensor(np.expand_dims(image_np, 0), dtype=tf.float32)\n",
    "detections = detect_fn(input_tensor)\n",
    "\n",
    "num_detections = int(detections.pop('num_detections'))\n",
    "detections = {key: value[0, :num_detections].numpy()\n",
    "              for key, value in detections.items()}\n",
    "detections['num_detections'] = num_detections\n",
    "\n",
    "# detection_classes should be ints.\n",
    "detections['detection_classes'] = detections['detection_classes'].astype(np.int64)\n",
    "\n",
    "label_id_offset = 1\n",
    "image_np_with_detections = image_np.copy()\n",
    "\n",
    "viz_utils.visualize_boxes_and_labels_on_image_array(\n",
    "            image_np_with_detections,\n",
    "            detections['detection_boxes'],\n",
    "            detections['detection_classes']+label_id_offset,\n",
    "            detections['detection_scores'],\n",
    "            category_index,\n",
    "            use_normalized_coordinates=True,\n",
    "            max_boxes_to_draw=1,\n",
    "            min_score_thresh=.8,\n",
    "            agnostic_mode=False,\n",
    "            line_thickness=10,\n",
    "            )\n",
    "\n",
    "plt.imshow(cv2.cvtColor(image_np_with_detections, cv2.COLOR_BGR2RGB))\n",
    "plt.show()"
   ]
  },
  {
   "cell_type": "markdown",
   "id": "3973c0da",
   "metadata": {},
   "source": [
    "# Real Time Detection from Webcam"
   ]
  },
  {
   "cell_type": "code",
   "execution_count": 65,
   "id": "0cae471d",
   "metadata": {},
   "outputs": [
    {
     "ename": "KeyboardInterrupt",
     "evalue": "",
     "output_type": "error",
     "traceback": [
      "\u001b[0;31m---------------------------------------------------------------------------\u001b[0m",
      "\u001b[0;31mKeyboardInterrupt\u001b[0m                         Traceback (most recent call last)",
      "\u001b[0;32m/var/folders/4h/8rvcyk3d6rvb9xzp5jsy191h0000gn/T/ipykernel_48184/3312639707.py\u001b[0m in \u001b[0;36m<module>\u001b[0;34m\u001b[0m\n\u001b[1;32m      8\u001b[0m \u001b[0;34m\u001b[0m\u001b[0m\n\u001b[1;32m      9\u001b[0m     \u001b[0minput_tensor\u001b[0m \u001b[0;34m=\u001b[0m \u001b[0mtf\u001b[0m\u001b[0;34m.\u001b[0m\u001b[0mconvert_to_tensor\u001b[0m\u001b[0;34m(\u001b[0m\u001b[0mnp\u001b[0m\u001b[0;34m.\u001b[0m\u001b[0mexpand_dims\u001b[0m\u001b[0;34m(\u001b[0m\u001b[0mimage_np\u001b[0m\u001b[0;34m,\u001b[0m \u001b[0;36m0\u001b[0m\u001b[0;34m)\u001b[0m\u001b[0;34m,\u001b[0m \u001b[0mdtype\u001b[0m\u001b[0;34m=\u001b[0m\u001b[0mtf\u001b[0m\u001b[0;34m.\u001b[0m\u001b[0mfloat32\u001b[0m\u001b[0;34m)\u001b[0m\u001b[0;34m\u001b[0m\u001b[0;34m\u001b[0m\u001b[0m\n\u001b[0;32m---> 10\u001b[0;31m     \u001b[0mdetections\u001b[0m \u001b[0;34m=\u001b[0m \u001b[0mdetect_fn\u001b[0m\u001b[0;34m(\u001b[0m\u001b[0minput_tensor\u001b[0m\u001b[0;34m)\u001b[0m\u001b[0;34m\u001b[0m\u001b[0;34m\u001b[0m\u001b[0m\n\u001b[0m\u001b[1;32m     11\u001b[0m \u001b[0;34m\u001b[0m\u001b[0m\n\u001b[1;32m     12\u001b[0m     \u001b[0mnum_detections\u001b[0m \u001b[0;34m=\u001b[0m \u001b[0mint\u001b[0m\u001b[0;34m(\u001b[0m\u001b[0mdetections\u001b[0m\u001b[0;34m.\u001b[0m\u001b[0mpop\u001b[0m\u001b[0;34m(\u001b[0m\u001b[0;34m'num_detections'\u001b[0m\u001b[0;34m)\u001b[0m\u001b[0;34m)\u001b[0m\u001b[0;34m\u001b[0m\u001b[0;34m\u001b[0m\u001b[0m\n",
      "\u001b[0;32m~/Desktop/placement_job/fabrik/Connector_Detection_App/connector_detection_model/cdenv/lib/python3.7/site-packages/tensorflow/python/util/traceback_utils.py\u001b[0m in \u001b[0;36merror_handler\u001b[0;34m(*args, **kwargs)\u001b[0m\n\u001b[1;32m    148\u001b[0m     \u001b[0mfiltered_tb\u001b[0m \u001b[0;34m=\u001b[0m \u001b[0;32mNone\u001b[0m\u001b[0;34m\u001b[0m\u001b[0;34m\u001b[0m\u001b[0m\n\u001b[1;32m    149\u001b[0m     \u001b[0;32mtry\u001b[0m\u001b[0;34m:\u001b[0m\u001b[0;34m\u001b[0m\u001b[0;34m\u001b[0m\u001b[0m\n\u001b[0;32m--> 150\u001b[0;31m       \u001b[0;32mreturn\u001b[0m \u001b[0mfn\u001b[0m\u001b[0;34m(\u001b[0m\u001b[0;34m*\u001b[0m\u001b[0margs\u001b[0m\u001b[0;34m,\u001b[0m \u001b[0;34m**\u001b[0m\u001b[0mkwargs\u001b[0m\u001b[0;34m)\u001b[0m\u001b[0;34m\u001b[0m\u001b[0;34m\u001b[0m\u001b[0m\n\u001b[0m\u001b[1;32m    151\u001b[0m     \u001b[0;32mexcept\u001b[0m \u001b[0mException\u001b[0m \u001b[0;32mas\u001b[0m \u001b[0me\u001b[0m\u001b[0;34m:\u001b[0m\u001b[0;34m\u001b[0m\u001b[0;34m\u001b[0m\u001b[0m\n\u001b[1;32m    152\u001b[0m       \u001b[0mfiltered_tb\u001b[0m \u001b[0;34m=\u001b[0m \u001b[0m_process_traceback_frames\u001b[0m\u001b[0;34m(\u001b[0m\u001b[0me\u001b[0m\u001b[0;34m.\u001b[0m\u001b[0m__traceback__\u001b[0m\u001b[0;34m)\u001b[0m\u001b[0;34m\u001b[0m\u001b[0;34m\u001b[0m\u001b[0m\n",
      "\u001b[0;32m~/Desktop/placement_job/fabrik/Connector_Detection_App/connector_detection_model/cdenv/lib/python3.7/site-packages/tensorflow/python/eager/def_function.py\u001b[0m in \u001b[0;36m__call__\u001b[0;34m(self, *args, **kwds)\u001b[0m\n\u001b[1;32m    908\u001b[0m \u001b[0;34m\u001b[0m\u001b[0m\n\u001b[1;32m    909\u001b[0m       \u001b[0;32mwith\u001b[0m \u001b[0mOptionalXlaContext\u001b[0m\u001b[0;34m(\u001b[0m\u001b[0mself\u001b[0m\u001b[0;34m.\u001b[0m\u001b[0m_jit_compile\u001b[0m\u001b[0;34m)\u001b[0m\u001b[0;34m:\u001b[0m\u001b[0;34m\u001b[0m\u001b[0;34m\u001b[0m\u001b[0m\n\u001b[0;32m--> 910\u001b[0;31m         \u001b[0mresult\u001b[0m \u001b[0;34m=\u001b[0m \u001b[0mself\u001b[0m\u001b[0;34m.\u001b[0m\u001b[0m_call\u001b[0m\u001b[0;34m(\u001b[0m\u001b[0;34m*\u001b[0m\u001b[0margs\u001b[0m\u001b[0;34m,\u001b[0m \u001b[0;34m**\u001b[0m\u001b[0mkwds\u001b[0m\u001b[0;34m)\u001b[0m\u001b[0;34m\u001b[0m\u001b[0;34m\u001b[0m\u001b[0m\n\u001b[0m\u001b[1;32m    911\u001b[0m \u001b[0;34m\u001b[0m\u001b[0m\n\u001b[1;32m    912\u001b[0m       \u001b[0mnew_tracing_count\u001b[0m \u001b[0;34m=\u001b[0m \u001b[0mself\u001b[0m\u001b[0;34m.\u001b[0m\u001b[0mexperimental_get_tracing_count\u001b[0m\u001b[0;34m(\u001b[0m\u001b[0;34m)\u001b[0m\u001b[0;34m\u001b[0m\u001b[0;34m\u001b[0m\u001b[0m\n",
      "\u001b[0;32m~/Desktop/placement_job/fabrik/Connector_Detection_App/connector_detection_model/cdenv/lib/python3.7/site-packages/tensorflow/python/eager/def_function.py\u001b[0m in \u001b[0;36m_call\u001b[0;34m(self, *args, **kwds)\u001b[0m\n\u001b[1;32m    940\u001b[0m       \u001b[0;31m# In this case we have created variables on the first call, so we run the\u001b[0m\u001b[0;34m\u001b[0m\u001b[0;34m\u001b[0m\u001b[0;34m\u001b[0m\u001b[0m\n\u001b[1;32m    941\u001b[0m       \u001b[0;31m# defunned version which is guaranteed to never create variables.\u001b[0m\u001b[0;34m\u001b[0m\u001b[0;34m\u001b[0m\u001b[0;34m\u001b[0m\u001b[0m\n\u001b[0;32m--> 942\u001b[0;31m       \u001b[0;32mreturn\u001b[0m \u001b[0mself\u001b[0m\u001b[0;34m.\u001b[0m\u001b[0m_stateless_fn\u001b[0m\u001b[0;34m(\u001b[0m\u001b[0;34m*\u001b[0m\u001b[0margs\u001b[0m\u001b[0;34m,\u001b[0m \u001b[0;34m**\u001b[0m\u001b[0mkwds\u001b[0m\u001b[0;34m)\u001b[0m  \u001b[0;31m# pylint: disable=not-callable\u001b[0m\u001b[0;34m\u001b[0m\u001b[0;34m\u001b[0m\u001b[0m\n\u001b[0m\u001b[1;32m    943\u001b[0m     \u001b[0;32melif\u001b[0m \u001b[0mself\u001b[0m\u001b[0;34m.\u001b[0m\u001b[0m_stateful_fn\u001b[0m \u001b[0;32mis\u001b[0m \u001b[0;32mnot\u001b[0m \u001b[0;32mNone\u001b[0m\u001b[0;34m:\u001b[0m\u001b[0;34m\u001b[0m\u001b[0;34m\u001b[0m\u001b[0m\n\u001b[1;32m    944\u001b[0m       \u001b[0;31m# Release the lock early so that multiple threads can perform the call\u001b[0m\u001b[0;34m\u001b[0m\u001b[0;34m\u001b[0m\u001b[0;34m\u001b[0m\u001b[0m\n",
      "\u001b[0;32m~/Desktop/placement_job/fabrik/Connector_Detection_App/connector_detection_model/cdenv/lib/python3.7/site-packages/tensorflow/python/eager/function.py\u001b[0m in \u001b[0;36m__call__\u001b[0;34m(self, *args, **kwargs)\u001b[0m\n\u001b[1;32m   3129\u001b[0m        filtered_flat_args) = self._maybe_define_function(args, kwargs)\n\u001b[1;32m   3130\u001b[0m     return graph_function._call_flat(\n\u001b[0;32m-> 3131\u001b[0;31m         filtered_flat_args, captured_inputs=graph_function.captured_inputs)  # pylint: disable=protected-access\n\u001b[0m\u001b[1;32m   3132\u001b[0m \u001b[0;34m\u001b[0m\u001b[0m\n\u001b[1;32m   3133\u001b[0m   \u001b[0;34m@\u001b[0m\u001b[0mproperty\u001b[0m\u001b[0;34m\u001b[0m\u001b[0;34m\u001b[0m\u001b[0m\n",
      "\u001b[0;32m~/Desktop/placement_job/fabrik/Connector_Detection_App/connector_detection_model/cdenv/lib/python3.7/site-packages/tensorflow/python/eager/function.py\u001b[0m in \u001b[0;36m_call_flat\u001b[0;34m(self, args, captured_inputs, cancellation_manager)\u001b[0m\n\u001b[1;32m   1958\u001b[0m       \u001b[0;31m# No tape is watching; skip to running the function.\u001b[0m\u001b[0;34m\u001b[0m\u001b[0;34m\u001b[0m\u001b[0;34m\u001b[0m\u001b[0m\n\u001b[1;32m   1959\u001b[0m       return self._build_call_outputs(self._inference_function.call(\n\u001b[0;32m-> 1960\u001b[0;31m           ctx, args, cancellation_manager=cancellation_manager))\n\u001b[0m\u001b[1;32m   1961\u001b[0m     forward_backward = self._select_forward_and_backward_functions(\n\u001b[1;32m   1962\u001b[0m         \u001b[0margs\u001b[0m\u001b[0;34m,\u001b[0m\u001b[0;34m\u001b[0m\u001b[0;34m\u001b[0m\u001b[0m\n",
      "\u001b[0;32m~/Desktop/placement_job/fabrik/Connector_Detection_App/connector_detection_model/cdenv/lib/python3.7/site-packages/tensorflow/python/eager/function.py\u001b[0m in \u001b[0;36mcall\u001b[0;34m(self, ctx, args, cancellation_manager)\u001b[0m\n\u001b[1;32m    601\u001b[0m               \u001b[0minputs\u001b[0m\u001b[0;34m=\u001b[0m\u001b[0margs\u001b[0m\u001b[0;34m,\u001b[0m\u001b[0;34m\u001b[0m\u001b[0;34m\u001b[0m\u001b[0m\n\u001b[1;32m    602\u001b[0m               \u001b[0mattrs\u001b[0m\u001b[0;34m=\u001b[0m\u001b[0mattrs\u001b[0m\u001b[0;34m,\u001b[0m\u001b[0;34m\u001b[0m\u001b[0;34m\u001b[0m\u001b[0m\n\u001b[0;32m--> 603\u001b[0;31m               ctx=ctx)\n\u001b[0m\u001b[1;32m    604\u001b[0m         \u001b[0;32melse\u001b[0m\u001b[0;34m:\u001b[0m\u001b[0;34m\u001b[0m\u001b[0;34m\u001b[0m\u001b[0m\n\u001b[1;32m    605\u001b[0m           outputs = execute.execute_with_cancellation(\n",
      "\u001b[0;32m~/Desktop/placement_job/fabrik/Connector_Detection_App/connector_detection_model/cdenv/lib/python3.7/site-packages/tensorflow/python/eager/execute.py\u001b[0m in \u001b[0;36mquick_execute\u001b[0;34m(op_name, num_outputs, inputs, attrs, ctx, name)\u001b[0m\n\u001b[1;32m     57\u001b[0m     \u001b[0mctx\u001b[0m\u001b[0;34m.\u001b[0m\u001b[0mensure_initialized\u001b[0m\u001b[0;34m(\u001b[0m\u001b[0;34m)\u001b[0m\u001b[0;34m\u001b[0m\u001b[0;34m\u001b[0m\u001b[0m\n\u001b[1;32m     58\u001b[0m     tensors = pywrap_tfe.TFE_Py_Execute(ctx._handle, device_name, op_name,\n\u001b[0;32m---> 59\u001b[0;31m                                         inputs, attrs, num_outputs)\n\u001b[0m\u001b[1;32m     60\u001b[0m   \u001b[0;32mexcept\u001b[0m \u001b[0mcore\u001b[0m\u001b[0;34m.\u001b[0m\u001b[0m_NotOkStatusException\u001b[0m \u001b[0;32mas\u001b[0m \u001b[0me\u001b[0m\u001b[0;34m:\u001b[0m\u001b[0;34m\u001b[0m\u001b[0;34m\u001b[0m\u001b[0m\n\u001b[1;32m     61\u001b[0m     \u001b[0;32mif\u001b[0m \u001b[0mname\u001b[0m \u001b[0;32mis\u001b[0m \u001b[0;32mnot\u001b[0m \u001b[0;32mNone\u001b[0m\u001b[0;34m:\u001b[0m\u001b[0;34m\u001b[0m\u001b[0;34m\u001b[0m\u001b[0m\n",
      "\u001b[0;31mKeyboardInterrupt\u001b[0m: "
     ]
    }
   ],
   "source": [
    "cap = cv2.VideoCapture(0)\n",
    "width = int(cap.get(cv2.CAP_PROP_FRAME_WIDTH))\n",
    "height = int(cap.get(cv2.CAP_PROP_FRAME_HEIGHT))\n",
    "\n",
    "while cap.isOpened(): \n",
    "    ret, frame = cap.read()\n",
    "    image_np = np.array(frame)\n",
    "    \n",
    "    input_tensor = tf.convert_to_tensor(np.expand_dims(image_np, 0), dtype=tf.float32)\n",
    "    detections = detect_fn(input_tensor)\n",
    "    \n",
    "    num_detections = int(detections.pop('num_detections'))\n",
    "    detections = {key: value[0, :num_detections].numpy()\n",
    "                  for key, value in detections.items()}\n",
    "    detections['num_detections'] = num_detections\n",
    "\n",
    "    # detection_classes should be ints.\n",
    "    detections['detection_classes'] = detections['detection_classes'].astype(np.int64)\n",
    "\n",
    "    label_id_offset = 1\n",
    "    image_np_with_detections = image_np.copy()\n",
    "\n",
    "    viz_utils.visualize_boxes_and_labels_on_image_array(\n",
    "                image_np_with_detections,\n",
    "                detections['detection_boxes'],\n",
    "                detections['detection_classes']+label_id_offset,\n",
    "                detections['detection_scores'],\n",
    "                category_index,\n",
    "                use_normalized_coordinates=True,\n",
    "                max_boxes_to_draw=5,\n",
    "                min_score_thresh=.8,\n",
    "                agnostic_mode=False)\n",
    "\n",
    "    cv2.imshow('object detection',  cv2.resize(image_np_with_detections, (800, 600)))\n",
    "    \n",
    "    if cv2.waitKey(10) & 0xFF == ord('q'):\n",
    "        cap.release()\n",
    "        cv2.destroyAllWindows()\n",
    "        break"
   ]
  },
  {
   "cell_type": "markdown",
   "id": "f2968073",
   "metadata": {},
   "source": [
    "# Freezing the Graph"
   ]
  },
  {
   "cell_type": "code",
   "execution_count": 72,
   "id": "cbc48ed3",
   "metadata": {},
   "outputs": [
    {
     "data": {
      "text/plain": [
       "'Tensorflow/models/research/object_detection/exporter_main_v2.py '"
      ]
     },
     "execution_count": 72,
     "metadata": {},
     "output_type": "execute_result"
    }
   ],
   "source": [
    "FREEZE_SCRIPT = os.path.join(paths['APIMODEL_PATH'], 'research', 'object_detection', 'exporter_main_v2.py ')\n",
    "FREEZE_SCRIPT"
   ]
  },
  {
   "cell_type": "code",
   "execution_count": 73,
   "id": "1f4ae1ab",
   "metadata": {},
   "outputs": [],
   "source": [
    "command = \"python {} --input_type=image_tensor --pipeline_config_path={} --trained_checkpoint_dir={} --output_directory={}\".format(FREEZE_SCRIPT ,files['PIPELINE_CONFIG'], paths['CHECKPOINT_PATH'], paths['OUTPUT_PATH'])\n",
    "\n"
   ]
  },
  {
   "cell_type": "code",
   "execution_count": 74,
   "id": "837f8c5d",
   "metadata": {},
   "outputs": [
    {
     "name": "stdout",
     "output_type": "stream",
     "text": [
      "2022-02-18 14:24:11.666173: I tensorflow/core/platform/cpu_feature_guard.cc:151] This TensorFlow binary is optimized with oneAPI Deep Neural Network Library (oneDNN) to use the following CPU instructions in performance-critical operations:  AVX2 FMA\n",
      "To enable them in other operations, rebuild TensorFlow with the appropriate compiler flags.\n",
      "WARNING:tensorflow:From /Users/riturajsharma/Desktop/placement_job/fabrik/Connector_Detection_App/connector_detection_model/cdenv/lib/python3.7/site-packages/tensorflow/python/autograph/impl/api.py:464: calling map_fn_v2 (from tensorflow.python.ops.map_fn) with back_prop=False is deprecated and will be removed in a future version.\n",
      "Instructions for updating:\n",
      "back_prop=False is deprecated. Consider using tf.stop_gradient instead.\n",
      "Instead of:\n",
      "results = tf.map_fn(fn, elems, back_prop=False)\n",
      "Use:\n",
      "results = tf.nest.map_structure(tf.stop_gradient, tf.map_fn(fn, elems))\n",
      "W0218 14:24:12.228543 4462784000 deprecation.py:619] From /Users/riturajsharma/Desktop/placement_job/fabrik/Connector_Detection_App/connector_detection_model/cdenv/lib/python3.7/site-packages/tensorflow/python/autograph/impl/api.py:464: calling map_fn_v2 (from tensorflow.python.ops.map_fn) with back_prop=False is deprecated and will be removed in a future version.\n",
      "Instructions for updating:\n",
      "back_prop=False is deprecated. Consider using tf.stop_gradient instead.\n",
      "Instead of:\n",
      "results = tf.map_fn(fn, elems, back_prop=False)\n",
      "Use:\n",
      "results = tf.nest.map_structure(tf.stop_gradient, tf.map_fn(fn, elems))\n",
      "WARNING:tensorflow:Skipping full serialization of Keras layer <object_detection.meta_architectures.ssd_meta_arch.SSDMetaArch object at 0x7fdb00fa2610>, because it is not built.\n",
      "W0218 14:24:48.102559 4462784000 save_impl.py:72] Skipping full serialization of Keras layer <object_detection.meta_architectures.ssd_meta_arch.SSDMetaArch object at 0x7fdb00fa2610>, because it is not built.\n",
      "WARNING:tensorflow:Skipping full serialization of Keras layer <keras.layers.convolutional.SeparableConv2D object at 0x7fdb01a327d0>, because it is not built.\n",
      "W0218 14:24:49.275348 4462784000 save_impl.py:72] Skipping full serialization of Keras layer <keras.layers.convolutional.SeparableConv2D object at 0x7fdb01a327d0>, because it is not built.\n",
      "WARNING:tensorflow:Skipping full serialization of Keras layer <object_detection.core.freezable_batch_norm.FreezableBatchNorm object at 0x7fdae3131f90>, because it is not built.\n",
      "W0218 14:24:49.277096 4462784000 save_impl.py:72] Skipping full serialization of Keras layer <object_detection.core.freezable_batch_norm.FreezableBatchNorm object at 0x7fdae3131f90>, because it is not built.\n",
      "WARNING:tensorflow:Skipping full serialization of Keras layer <keras.layers.core.lambda_layer.Lambda object at 0x7fdae4820650>, because it is not built.\n",
      "W0218 14:24:49.277445 4462784000 save_impl.py:72] Skipping full serialization of Keras layer <keras.layers.core.lambda_layer.Lambda object at 0x7fdae4820650>, because it is not built.\n",
      "WARNING:tensorflow:Skipping full serialization of Keras layer <keras.layers.convolutional.SeparableConv2D object at 0x7fdb01b28190>, because it is not built.\n",
      "W0218 14:24:49.277818 4462784000 save_impl.py:72] Skipping full serialization of Keras layer <keras.layers.convolutional.SeparableConv2D object at 0x7fdb01b28190>, because it is not built.\n",
      "WARNING:tensorflow:Skipping full serialization of Keras layer <object_detection.core.freezable_batch_norm.FreezableBatchNorm object at 0x7fdae4820fd0>, because it is not built.\n",
      "W0218 14:24:49.278486 4462784000 save_impl.py:72] Skipping full serialization of Keras layer <object_detection.core.freezable_batch_norm.FreezableBatchNorm object at 0x7fdae4820fd0>, because it is not built.\n",
      "WARNING:tensorflow:Skipping full serialization of Keras layer <keras.layers.core.lambda_layer.Lambda object at 0x7fdb01d98c50>, because it is not built.\n",
      "W0218 14:24:49.278790 4462784000 save_impl.py:72] Skipping full serialization of Keras layer <keras.layers.core.lambda_layer.Lambda object at 0x7fdb01d98c50>, because it is not built.\n",
      "WARNING:tensorflow:Skipping full serialization of Keras layer <keras.layers.convolutional.SeparableConv2D object at 0x7fdae24e11d0>, because it is not built.\n",
      "W0218 14:24:49.279036 4462784000 save_impl.py:72] Skipping full serialization of Keras layer <keras.layers.convolutional.SeparableConv2D object at 0x7fdae24e11d0>, because it is not built.\n",
      "WARNING:tensorflow:Skipping full serialization of Keras layer <object_detection.core.freezable_batch_norm.FreezableBatchNorm object at 0x7fdae315fd50>, because it is not built.\n",
      "W0218 14:24:49.279246 4462784000 save_impl.py:72] Skipping full serialization of Keras layer <object_detection.core.freezable_batch_norm.FreezableBatchNorm object at 0x7fdae315fd50>, because it is not built.\n",
      "WARNING:tensorflow:Skipping full serialization of Keras layer <keras.layers.core.lambda_layer.Lambda object at 0x7fdae3198710>, because it is not built.\n",
      "W0218 14:24:49.279433 4462784000 save_impl.py:72] Skipping full serialization of Keras layer <keras.layers.core.lambda_layer.Lambda object at 0x7fdae3198710>, because it is not built.\n",
      "WARNING:tensorflow:Skipping full serialization of Keras layer <keras.layers.convolutional.SeparableConv2D object at 0x7fdae2485590>, because it is not built.\n",
      "W0218 14:24:49.279716 4462784000 save_impl.py:72] Skipping full serialization of Keras layer <keras.layers.convolutional.SeparableConv2D object at 0x7fdae2485590>, because it is not built.\n",
      "WARNING:tensorflow:Skipping full serialization of Keras layer <object_detection.core.freezable_batch_norm.FreezableBatchNorm object at 0x7fdae3196510>, because it is not built.\n",
      "W0218 14:24:49.280392 4462784000 save_impl.py:72] Skipping full serialization of Keras layer <object_detection.core.freezable_batch_norm.FreezableBatchNorm object at 0x7fdae3196510>, because it is not built.\n",
      "WARNING:tensorflow:Skipping full serialization of Keras layer <keras.layers.core.lambda_layer.Lambda object at 0x7fdae3196e90>, because it is not built.\n",
      "W0218 14:24:49.280632 4462784000 save_impl.py:72] Skipping full serialization of Keras layer <keras.layers.core.lambda_layer.Lambda object at 0x7fdae3196e90>, because it is not built.\n",
      "WARNING:tensorflow:Skipping full serialization of Keras layer <object_detection.core.freezable_batch_norm.FreezableBatchNorm object at 0x7fdb01a395d0>, because it is not built.\n",
      "W0218 14:24:49.280846 4462784000 save_impl.py:72] Skipping full serialization of Keras layer <object_detection.core.freezable_batch_norm.FreezableBatchNorm object at 0x7fdb01a395d0>, because it is not built.\n",
      "WARNING:tensorflow:Skipping full serialization of Keras layer <keras.layers.core.lambda_layer.Lambda object at 0x7fdae2e48e10>, because it is not built.\n",
      "W0218 14:24:49.281037 4462784000 save_impl.py:72] Skipping full serialization of Keras layer <keras.layers.core.lambda_layer.Lambda object at 0x7fdae2e48e10>, because it is not built.\n",
      "WARNING:tensorflow:Skipping full serialization of Keras layer <object_detection.core.freezable_batch_norm.FreezableBatchNorm object at 0x7fdae3907e90>, because it is not built.\n",
      "W0218 14:24:49.281207 4462784000 save_impl.py:72] Skipping full serialization of Keras layer <object_detection.core.freezable_batch_norm.FreezableBatchNorm object at 0x7fdae3907e90>, because it is not built.\n",
      "WARNING:tensorflow:Skipping full serialization of Keras layer <keras.layers.core.lambda_layer.Lambda object at 0x7fdae3132e50>, because it is not built.\n",
      "W0218 14:24:49.281366 4462784000 save_impl.py:72] Skipping full serialization of Keras layer <keras.layers.core.lambda_layer.Lambda object at 0x7fdae3132e50>, because it is not built.\n",
      "WARNING:tensorflow:Skipping full serialization of Keras layer <object_detection.core.freezable_batch_norm.FreezableBatchNorm object at 0x7fdae2455490>, because it is not built.\n",
      "W0218 14:24:49.281517 4462784000 save_impl.py:72] Skipping full serialization of Keras layer <object_detection.core.freezable_batch_norm.FreezableBatchNorm object at 0x7fdae2455490>, because it is not built.\n",
      "WARNING:tensorflow:Skipping full serialization of Keras layer <keras.layers.core.lambda_layer.Lambda object at 0x7fdae39561d0>, because it is not built.\n",
      "W0218 14:24:49.281902 4462784000 save_impl.py:72] Skipping full serialization of Keras layer <keras.layers.core.lambda_layer.Lambda object at 0x7fdae39561d0>, because it is not built.\n",
      "WARNING:tensorflow:Skipping full serialization of Keras layer <object_detection.core.freezable_batch_norm.FreezableBatchNorm object at 0x7fdb01b2eed0>, because it is not built.\n",
      "W0218 14:24:49.282088 4462784000 save_impl.py:72] Skipping full serialization of Keras layer <object_detection.core.freezable_batch_norm.FreezableBatchNorm object at 0x7fdb01b2eed0>, because it is not built.\n",
      "WARNING:tensorflow:Skipping full serialization of Keras layer <keras.layers.core.lambda_layer.Lambda object at 0x7fdae3181a50>, because it is not built.\n",
      "W0218 14:24:49.282321 4462784000 save_impl.py:72] Skipping full serialization of Keras layer <keras.layers.core.lambda_layer.Lambda object at 0x7fdae3181a50>, because it is not built.\n",
      "WARNING:tensorflow:Skipping full serialization of Keras layer <object_detection.core.freezable_batch_norm.FreezableBatchNorm object at 0x7fdb01a39610>, because it is not built.\n",
      "W0218 14:24:49.282501 4462784000 save_impl.py:72] Skipping full serialization of Keras layer <object_detection.core.freezable_batch_norm.FreezableBatchNorm object at 0x7fdb01a39610>, because it is not built.\n",
      "WARNING:tensorflow:Skipping full serialization of Keras layer <keras.layers.core.lambda_layer.Lambda object at 0x7fdb01adf650>, because it is not built.\n",
      "W0218 14:24:49.282704 4462784000 save_impl.py:72] Skipping full serialization of Keras layer <keras.layers.core.lambda_layer.Lambda object at 0x7fdb01adf650>, because it is not built.\n",
      "WARNING:tensorflow:Skipping full serialization of Keras layer <object_detection.core.freezable_batch_norm.FreezableBatchNorm object at 0x7fdae240d0d0>, because it is not built.\n",
      "W0218 14:24:49.282891 4462784000 save_impl.py:72] Skipping full serialization of Keras layer <object_detection.core.freezable_batch_norm.FreezableBatchNorm object at 0x7fdae240d0d0>, because it is not built.\n",
      "WARNING:tensorflow:Skipping full serialization of Keras layer <keras.layers.core.lambda_layer.Lambda object at 0x7fdae48a30d0>, because it is not built.\n",
      "W0218 14:24:49.283068 4462784000 save_impl.py:72] Skipping full serialization of Keras layer <keras.layers.core.lambda_layer.Lambda object at 0x7fdae48a30d0>, because it is not built.\n",
      "WARNING:tensorflow:Skipping full serialization of Keras layer <object_detection.core.freezable_batch_norm.FreezableBatchNorm object at 0x7fdae24acd90>, because it is not built.\n",
      "W0218 14:24:49.284999 4462784000 save_impl.py:72] Skipping full serialization of Keras layer <object_detection.core.freezable_batch_norm.FreezableBatchNorm object at 0x7fdae24acd90>, because it is not built.\n",
      "WARNING:tensorflow:Skipping full serialization of Keras layer <keras.layers.core.lambda_layer.Lambda object at 0x7fdae48a3710>, because it is not built.\n",
      "W0218 14:24:49.286015 4462784000 save_impl.py:72] Skipping full serialization of Keras layer <keras.layers.core.lambda_layer.Lambda object at 0x7fdae48a3710>, because it is not built.\n",
      "WARNING:tensorflow:Skipping full serialization of Keras layer <object_detection.core.freezable_batch_norm.FreezableBatchNorm object at 0x7fdae3955f50>, because it is not built.\n",
      "W0218 14:24:49.286334 4462784000 save_impl.py:72] Skipping full serialization of Keras layer <object_detection.core.freezable_batch_norm.FreezableBatchNorm object at 0x7fdae3955f50>, because it is not built.\n",
      "WARNING:tensorflow:Skipping full serialization of Keras layer <keras.layers.core.lambda_layer.Lambda object at 0x7fdb01b283d0>, because it is not built.\n",
      "W0218 14:24:49.286514 4462784000 save_impl.py:72] Skipping full serialization of Keras layer <keras.layers.core.lambda_layer.Lambda object at 0x7fdb01b283d0>, because it is not built.\n",
      "WARNING:tensorflow:Skipping full serialization of Keras layer <object_detection.core.freezable_batch_norm.FreezableBatchNorm object at 0x7fdae4844110>, because it is not built.\n",
      "W0218 14:24:49.286672 4462784000 save_impl.py:72] Skipping full serialization of Keras layer <object_detection.core.freezable_batch_norm.FreezableBatchNorm object at 0x7fdae4844110>, because it is not built.\n",
      "WARNING:tensorflow:Skipping full serialization of Keras layer <keras.layers.core.lambda_layer.Lambda object at 0x7fdae30504d0>, because it is not built.\n",
      "W0218 14:24:49.286825 4462784000 save_impl.py:72] Skipping full serialization of Keras layer <keras.layers.core.lambda_layer.Lambda object at 0x7fdae30504d0>, because it is not built.\n",
      "WARNING:tensorflow:Skipping full serialization of Keras layer <object_detection.core.freezable_batch_norm.FreezableBatchNorm object at 0x7fdae39675d0>, because it is not built.\n",
      "W0218 14:24:49.286978 4462784000 save_impl.py:72] Skipping full serialization of Keras layer <object_detection.core.freezable_batch_norm.FreezableBatchNorm object at 0x7fdae39675d0>, because it is not built.\n",
      "WARNING:tensorflow:Skipping full serialization of Keras layer <keras.layers.core.lambda_layer.Lambda object at 0x7fdae48273d0>, because it is not built.\n",
      "W0218 14:24:49.287225 4462784000 save_impl.py:72] Skipping full serialization of Keras layer <keras.layers.core.lambda_layer.Lambda object at 0x7fdae48273d0>, because it is not built.\n",
      "WARNING:tensorflow:Skipping full serialization of Keras layer <object_detection.core.freezable_batch_norm.FreezableBatchNorm object at 0x7fdae3955410>, because it is not built.\n",
      "W0218 14:24:49.287485 4462784000 save_impl.py:72] Skipping full serialization of Keras layer <object_detection.core.freezable_batch_norm.FreezableBatchNorm object at 0x7fdae3955410>, because it is not built.\n",
      "WARNING:tensorflow:Skipping full serialization of Keras layer <keras.layers.core.lambda_layer.Lambda object at 0x7fdae4827150>, because it is not built.\n",
      "W0218 14:24:49.287658 4462784000 save_impl.py:72] Skipping full serialization of Keras layer <keras.layers.core.lambda_layer.Lambda object at 0x7fdae4827150>, because it is not built.\n",
      "WARNING:tensorflow:Skipping full serialization of Keras layer <object_detection.core.freezable_batch_norm.FreezableBatchNorm object at 0x7fdae3931490>, because it is not built.\n",
      "W0218 14:24:49.287830 4462784000 save_impl.py:72] Skipping full serialization of Keras layer <object_detection.core.freezable_batch_norm.FreezableBatchNorm object at 0x7fdae3931490>, because it is not built.\n",
      "WARNING:tensorflow:Skipping full serialization of Keras layer <keras.layers.core.lambda_layer.Lambda object at 0x7fdae4827b90>, because it is not built.\n",
      "W0218 14:24:49.288293 4462784000 save_impl.py:72] Skipping full serialization of Keras layer <keras.layers.core.lambda_layer.Lambda object at 0x7fdae4827b90>, because it is not built.\n",
      "WARNING:tensorflow:Skipping full serialization of Keras layer <object_detection.core.freezable_batch_norm.FreezableBatchNorm object at 0x7fdb01a39650>, because it is not built.\n",
      "W0218 14:24:49.288486 4462784000 save_impl.py:72] Skipping full serialization of Keras layer <object_detection.core.freezable_batch_norm.FreezableBatchNorm object at 0x7fdb01a39650>, because it is not built.\n",
      "WARNING:tensorflow:Skipping full serialization of Keras layer <keras.layers.core.lambda_layer.Lambda object at 0x7fdae4803210>, because it is not built.\n",
      "W0218 14:24:49.288655 4462784000 save_impl.py:72] Skipping full serialization of Keras layer <keras.layers.core.lambda_layer.Lambda object at 0x7fdae4803210>, because it is not built.\n",
      "WARNING:tensorflow:Skipping full serialization of Keras layer <object_detection.core.freezable_batch_norm.FreezableBatchNorm object at 0x7fdae48ad910>, because it is not built.\n",
      "W0218 14:24:49.288827 4462784000 save_impl.py:72] Skipping full serialization of Keras layer <object_detection.core.freezable_batch_norm.FreezableBatchNorm object at 0x7fdae48ad910>, because it is not built.\n",
      "WARNING:tensorflow:Skipping full serialization of Keras layer <keras.layers.core.lambda_layer.Lambda object at 0x7fdae4803510>, because it is not built.\n",
      "W0218 14:24:49.289011 4462784000 save_impl.py:72] Skipping full serialization of Keras layer <keras.layers.core.lambda_layer.Lambda object at 0x7fdae4803510>, because it is not built.\n",
      "WARNING:tensorflow:Skipping full serialization of Keras layer <object_detection.core.freezable_batch_norm.FreezableBatchNorm object at 0x7fdae4803fd0>, because it is not built.\n",
      "W0218 14:24:49.289189 4462784000 save_impl.py:72] Skipping full serialization of Keras layer <object_detection.core.freezable_batch_norm.FreezableBatchNorm object at 0x7fdae4803fd0>, because it is not built.\n",
      "WARNING:tensorflow:Skipping full serialization of Keras layer <keras.layers.core.lambda_layer.Lambda object at 0x7fdae2e7a0d0>, because it is not built.\n",
      "W0218 14:24:49.289366 4462784000 save_impl.py:72] Skipping full serialization of Keras layer <keras.layers.core.lambda_layer.Lambda object at 0x7fdae2e7a0d0>, because it is not built.\n",
      "WARNING:tensorflow:Skipping full serialization of Keras layer <object_detection.core.freezable_batch_norm.FreezableBatchNorm object at 0x7fdae48f2250>, because it is not built.\n",
      "W0218 14:24:49.289530 4462784000 save_impl.py:72] Skipping full serialization of Keras layer <object_detection.core.freezable_batch_norm.FreezableBatchNorm object at 0x7fdae48f2250>, because it is not built.\n",
      "WARNING:tensorflow:Skipping full serialization of Keras layer <keras.layers.core.lambda_layer.Lambda object at 0x7fdae48f2d50>, because it is not built.\n",
      "W0218 14:24:49.289701 4462784000 save_impl.py:72] Skipping full serialization of Keras layer <keras.layers.core.lambda_layer.Lambda object at 0x7fdae48f2d50>, because it is not built.\n",
      "2022-02-18 14:25:08.666499: W tensorflow/python/util/util.cc:368] Sets are not currently considered sequences, but this may change in the future, so consider avoiding using them.\n",
      "W0218 14:25:45.723194 4462784000 save.py:268] Found untraced functions such as WeightSharedConvolutionalBoxPredictor_layer_call_fn, WeightSharedConvolutionalBoxPredictor_layer_call_and_return_conditional_losses, WeightSharedConvolutionalBoxHead_layer_call_fn, WeightSharedConvolutionalBoxHead_layer_call_and_return_conditional_losses, WeightSharedConvolutionalBoxPredictor_layer_call_fn while saving (showing 5 of 260). These functions will not be directly callable after loading.\n",
      "INFO:tensorflow:Assets written to: Tensorflow/workspace/models/my_ssd_mobnet/export/saved_model/assets\n",
      "I0218 14:25:54.134479 4462784000 builder_impl.py:784] Assets written to: Tensorflow/workspace/models/my_ssd_mobnet/export/saved_model/assets\n",
      "INFO:tensorflow:Writing pipeline config file to Tensorflow/workspace/models/my_ssd_mobnet/export/pipeline.config\n",
      "I0218 14:25:55.860496 4462784000 config_util.py:254] Writing pipeline config file to Tensorflow/workspace/models/my_ssd_mobnet/export/pipeline.config\n"
     ]
    }
   ],
   "source": [
    "!{command}"
   ]
  },
  {
   "cell_type": "code",
   "execution_count": null,
   "id": "24884230",
   "metadata": {},
   "outputs": [],
   "source": []
  },
  {
   "cell_type": "markdown",
   "id": "58a08195",
   "metadata": {},
   "source": [
    "# Exporting to TensorflowJS (TFJS)"
   ]
  },
  {
   "cell_type": "code",
   "execution_count": null,
   "id": "a529ff36",
   "metadata": {},
   "outputs": [],
   "source": [
    "!pip install tensorflowjs"
   ]
  },
  {
   "cell_type": "code",
   "execution_count": 75,
   "id": "88882052",
   "metadata": {},
   "outputs": [],
   "source": [
    "tfjs_command = \"tensorflowjs_converter --input_format=tf_saved_model --output_node_names='detection_boxes,detection_classes,detection_features,detection_multiclass_scores,detection_scores,num_detections,raw_detection_boxes,raw_detection_scores' --output_format=tfjs_graph_model --signature_name=serving_default {} {}\".format(os.path.join(paths['OUTPUT_PATH'], 'saved_model'), paths['TFJS_PATH'])\n"
   ]
  },
  {
   "cell_type": "code",
   "execution_count": 76,
   "id": "ba03c189",
   "metadata": {},
   "outputs": [
    {
     "name": "stdout",
     "output_type": "stream",
     "text": [
      "2022-02-18 14:26:34.563775: I tensorflow/core/platform/cpu_feature_guard.cc:151] This TensorFlow binary is optimized with oneAPI Deep Neural Network Library (oneDNN) to use the following CPU instructions in performance-critical operations:  AVX2 FMA\n",
      "To enable them in other operations, rebuild TensorFlow with the appropriate compiler flags.\n",
      "2022-02-18 14:26:57.857499: I tensorflow/core/grappler/devices.cc:75] Number of eligible GPUs (core count >= 8, compute capability >= 0.0): 0 (Note: TensorFlow was not compiled with CUDA or ROCm support)\n",
      "2022-02-18 14:26:57.857751: I tensorflow/core/grappler/clusters/single_machine.cc:358] Starting new session\n",
      "2022-02-18 14:26:58.282248: I tensorflow/core/grappler/optimizers/meta_optimizer.cc:1149] Optimization results for grappler item: graph_to_optimize\n",
      "  function_optimizer: Graph size after: 3654 nodes (3244), 4879 edges (4462), time = 262.209ms.\n",
      "  function_optimizer: function_optimizer did nothing. time = 6.528ms.\n",
      "\n",
      "2022-02-18 14:27:06.692217: I tensorflow/core/grappler/optimizers/meta_optimizer.cc:1149] Optimization results for grappler item: graph_to_optimize\n",
      "  debug_stripper: Graph size after: 3382 nodes (0), 4687 edges (0), time = 61.009ms.\n",
      "  model_pruner: Graph size after: 2934 nodes (-448), 4239 edges (-448), time = 125.256ms.\n",
      "  constant_folding: Graph size after: 1406 nodes (-1528), 2471 edges (-1768), time = 342.77ms.\n",
      "  arithmetic_optimizer: Graph size after: 1422 nodes (16), 2481 edges (10), time = 62ms.\n",
      "  dependency_optimizer: Graph size after: 1330 nodes (-92), 1484 edges (-997), time = 46.749ms.\n",
      "  model_pruner: Graph size after: 1330 nodes (0), 1484 edges (0), time = 29.097ms.\n",
      "  constant_folding: Graph size after: 1330 nodes (0), 1484 edges (0), time = 121.98ms.\n",
      "  arithmetic_optimizer: Graph size after: 1330 nodes (0), 1484 edges (0), time = 54.297ms.\n",
      "  dependency_optimizer: Graph size after: 1327 nodes (-3), 1481 edges (-3), time = 39.32ms.\n",
      "  debug_stripper: debug_stripper did nothing. time = 5.008ms.\n",
      "  model_pruner: Graph size after: 1327 nodes (0), 1481 edges (0), time = 16.516ms.\n",
      "  constant_folding: Graph size after: 1327 nodes (0), 1481 edges (0), time = 89.333ms.\n",
      "  arithmetic_optimizer: Graph size after: 1327 nodes (0), 1481 edges (0), time = 119.293ms.\n",
      "  dependency_optimizer: Graph size after: 1327 nodes (0), 1481 edges (0), time = 75.832ms.\n",
      "  model_pruner: Graph size after: 1327 nodes (0), 1481 edges (0), time = 27.496ms.\n",
      "  constant_folding: Graph size after: 1327 nodes (0), 1481 edges (0), time = 88.036ms.\n",
      "  arithmetic_optimizer: Graph size after: 1327 nodes (0), 1481 edges (0), time = 77.528ms.\n",
      "  dependency_optimizer: Graph size after: 1327 nodes (0), 1481 edges (0), time = 45.111ms.\n",
      "\n",
      "2022-02-18 14:27:20.809977: I tensorflow/core/grappler/optimizers/meta_optimizer.cc:1149] Optimization results for grappler item: graph_to_optimize\n",
      "  remapper: Graph size after: 1291 nodes (-112), 1141 edges (-112), time = 36.272ms.\n",
      "  constant_folding: Graph size after: 987 nodes (-304), 1141 edges (0), time = 105.352ms.\n",
      "  arithmetic_optimizer: Graph size after: 987 nodes (0), 1141 edges (0), time = 45.908ms.\n",
      "  dependency_optimizer: Graph size after: 987 nodes (0), 1141 edges (0), time = 25.86ms.\n",
      "  remapper: Graph size after: 987 nodes (0), 1141 edges (0), time = 16.498ms.\n",
      "  constant_folding: Graph size after: 987 nodes (0), 1141 edges (0), time = 62.119ms.\n",
      "  arithmetic_optimizer: Graph size after: 987 nodes (0), 1141 edges (0), time = 125.435ms.\n",
      "  dependency_optimizer: Graph size after: 987 nodes (0), 1141 edges (0), time = 42.195ms.\n",
      "\n",
      "Writing weight file Tensorflow/workspace/models/my_ssd_mobnet/tfjsexport/model.json...\n"
     ]
    }
   ],
   "source": [
    "!{tfjs_command}"
   ]
  },
  {
   "cell_type": "code",
   "execution_count": null,
   "id": "fcf96312",
   "metadata": {},
   "outputs": [],
   "source": []
  }
 ],
 "metadata": {
  "interpreter": {
   "hash": "55400858192fddad76b31b7188dc5cc596308ecb1f1b9fefb2cfaaaeabb4b4f3"
  },
  "kernelspec": {
   "display_name": "cnenv",
   "language": "python",
   "name": "python3"
  },
  "language_info": {
   "codemirror_mode": {
    "name": "ipython",
    "version": 3
   },
   "file_extension": ".py",
   "mimetype": "text/x-python",
   "name": "python",
   "nbconvert_exporter": "python",
   "pygments_lexer": "ipython3",
   "version": "3.7.11"
  }
 },
 "nbformat": 4,
 "nbformat_minor": 5
}
